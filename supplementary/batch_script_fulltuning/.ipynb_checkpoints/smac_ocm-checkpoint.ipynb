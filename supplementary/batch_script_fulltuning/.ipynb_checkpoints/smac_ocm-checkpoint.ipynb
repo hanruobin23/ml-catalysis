{
 "cells": [
  {
   "cell_type": "markdown",
   "metadata": {},
   "source": [
    "jupyter nbconvert --to script smac_ocm.ipynb"
   ]
  },
  {
   "cell_type": "code",
   "execution_count": 1,
   "metadata": {
    "collapsed": true
   },
   "outputs": [],
   "source": [
    "import matplotlib\n",
    "matplotlib.use('Agg')\n",
    "from matplotlib.backends.backend_pdf import PdfPages\n",
    "from matplotlib.colors import LinearSegmentedColormap as lsc\n",
    "from matplotlib import pyplot as plt"
   ]
  },
  {
   "cell_type": "code",
   "execution_count": 2,
   "metadata": {
    "collapsed": true
   },
   "outputs": [],
   "source": [
    "import pandas as pd\n",
    "import numpy as np\n",
    "import scipy\n",
    "import sklearn \n",
    "import xgboost\n",
    "\n",
    "import math\n",
    "import random \n",
    "import re\n",
    "import itertools\n",
    "\n",
    "from collections import Counter \n",
    "\n",
    "from scipy.stats import binom_test\n",
    "from scipy.stats import norm\n",
    "\n",
    "from functools import partial\n",
    "\n",
    "from sklearn.preprocessing import OneHotEncoder\n",
    "from sklearn.utils import shuffle\n",
    "from sklearn.preprocessing import PolynomialFeatures as plf\n",
    "from sklearn import preprocessing\n",
    "\n",
    "from sklearn.model_selection import cross_val_score\n",
    "from sklearn.model_selection import cross_val_predict \n",
    "from sklearn.model_selection import cross_validate\n",
    "from sklearn.model_selection import train_test_split\n",
    "from sklearn.model_selection import StratifiedShuffleSplit\n",
    "from sklearn.model_selection import GridSearchCV\n",
    "\n",
    "from sklearn.metrics import mean_squared_error as mse\n",
    "from sklearn.metrics import r2_score\n",
    "\n",
    "from sklearn.ensemble import GradientBoostingRegressor\n",
    "from sklearn.ensemble import RandomForestRegressor\n",
    "from sklearn.ensemble import ExtraTreesRegressor\n",
    "\n",
    "from sklearn.kernel_ridge import KernelRidge\n",
    "from sklearn.svm import SVR\n",
    "from sklearn.linear_model import Lasso \n",
    "from sklearn.linear_model import Ridge \n",
    "from xgboost import XGBRegressor\n",
    "\n",
    "from ksuzuki_pylib import *"
   ]
  },
  {
   "cell_type": "code",
   "execution_count": 3,
   "metadata": {
    "collapsed": true
   },
   "outputs": [],
   "source": [
    "# for SMAC?\n",
    "from matplotlib import gridspec \n",
    "from sklearn.ensemble import IsolationForest\n",
    "from sklearn.neighbors import LocalOutlierFactor\n",
    "from sklearn.cluster import KMeans\n",
    "\n",
    "import skopt\n",
    "from sklearn.base import BaseEstimator, RegressorMixin\n",
    "from skopt import gp_minimize \n",
    "from skopt import Optimizer\n",
    "from skopt.acquisition import gaussian_pi\n",
    "from skopt.acquisition import gaussian_ei\n",
    "from skopt.acquisition import gaussian_lcb\n",
    "from skopt.learning import GaussianProcessRegressor\n",
    "from skopt.learning import ExtraTreesRegressor as opt_ET\n",
    "from skopt.learning import RandomForestRegressor as opt_RF\n",
    "\n",
    "import sklearn.gaussian_process as gp"
   ]
  },
  {
   "cell_type": "code",
   "execution_count": 4,
   "metadata": {},
   "outputs": [
    {
     "name": "stdout",
     "output_type": "stream",
     "text": [
      "sklearn: 0.19.1\n",
      "xgboost: 0.81\n",
      "pandas: 0.23.1\n",
      "numpy: 1.14.5\n",
      "scipy: 1.0.1\n",
      "matplotlib: 2.2.4\n",
      "skopt: 0.5.2\n"
     ]
    }
   ],
   "source": [
    "print('sklearn:', sklearn.__version__)\n",
    "print('xgboost:', xgboost.__version__)\n",
    "print('pandas:', pd.__version__)\n",
    "print('numpy:', np.__version__)\n",
    "print('scipy:', scipy.__version__)\n",
    "print('matplotlib:', matplotlib.__version__)\n",
    "\n",
    "print('skopt:', skopt.__version__)"
   ]
  },
  {
   "cell_type": "code",
   "execution_count": 5,
   "metadata": {
    "collapsed": true
   },
   "outputs": [],
   "source": [
    "np.random.seed(0)\n",
    "random.seed(0)"
   ]
  },
  {
   "cell_type": "code",
   "execution_count": 6,
   "metadata": {
    "collapsed": true
   },
   "outputs": [],
   "source": [
    "debug = False\n",
    "#debug = True\n",
    "num_search = 400\n",
    "num_averaging = 10\n",
    "num_init = 10\n",
    "num_tree = 300\n",
    "num_tree_smac = 500\n",
    "if debug:\n",
    "    num_search = 4\n",
    "    num_averaging = 2\n",
    "    num_init = 10\n",
    "    num_tree = 10\n",
    "    num_tree_smac = 20"
   ]
  },
  {
   "cell_type": "markdown",
   "metadata": {},
   "source": [
    "## OCM data"
   ]
  },
  {
   "cell_type": "code",
   "execution_count": 7,
   "metadata": {},
   "outputs": [
    {
     "name": "stderr",
     "output_type": "stream",
     "text": [
      "/Users/takigawa/.pyenv/versions/anaconda3-5.0.1/lib/python3.6/site-packages/ipykernel_launcher.py:5: DeprecationWarning: \n",
      ".ix is deprecated. Please use\n",
      ".loc for label based indexing or\n",
      ".iloc for positional indexing\n",
      "\n",
      "See the documentation here:\n",
      "http://pandas.pydata.org/pandas-docs/stable/indexing.html#ix-indexer-is-deprecated\n",
      "  \"\"\"\n",
      "/Users/takigawa/.pyenv/versions/anaconda3-5.0.1/lib/python3.6/site-packages/ipykernel_launcher.py:8: DeprecationWarning: \n",
      ".ix is deprecated. Please use\n",
      ".loc for label based indexing or\n",
      ".iloc for positional indexing\n",
      "\n",
      "See the documentation here:\n",
      "http://pandas.pydata.org/pandas-docs/stable/indexing.html#ix-indexer-is-deprecated\n",
      "  \n",
      "/Users/takigawa/.pyenv/versions/anaconda3-5.0.1/lib/python3.6/site-packages/ipykernel_launcher.py:10: DeprecationWarning: \n",
      ".ix is deprecated. Please use\n",
      ".loc for label based indexing or\n",
      ".iloc for positional indexing\n",
      "\n",
      "See the documentation here:\n",
      "http://pandas.pydata.org/pandas-docs/stable/indexing.html#ix-indexer-is-deprecated\n",
      "  # Remove the CWD from sys.path while we load stuff.\n",
      "/Users/takigawa/.pyenv/versions/anaconda3-5.0.1/lib/python3.6/site-packages/ipykernel_launcher.py:12: DeprecationWarning: \n",
      ".ix is deprecated. Please use\n",
      ".loc for label based indexing or\n",
      ".iloc for positional indexing\n",
      "\n",
      "See the documentation here:\n",
      "http://pandas.pydata.org/pandas-docs/stable/indexing.html#ix-indexer-is-deprecated\n",
      "  if sys.path[0] == '':\n",
      "/Users/takigawa/.pyenv/versions/anaconda3-5.0.1/lib/python3.6/site-packages/ipykernel_launcher.py:14: DeprecationWarning: \n",
      ".ix is deprecated. Please use\n",
      ".loc for label based indexing or\n",
      ".iloc for positional indexing\n",
      "\n",
      "See the documentation here:\n",
      "http://pandas.pydata.org/pandas-docs/stable/indexing.html#ix-indexer-is-deprecated\n",
      "  \n",
      "/Users/takigawa/.pyenv/versions/anaconda3-5.0.1/lib/python3.6/site-packages/ipykernel_launcher.py:20: DeprecationWarning: \n",
      ".ix is deprecated. Please use\n",
      ".loc for label based indexing or\n",
      ".iloc for positional indexing\n",
      "\n",
      "See the documentation here:\n",
      "http://pandas.pydata.org/pandas-docs/stable/indexing.html#ix-indexer-is-deprecated\n"
     ]
    }
   ],
   "source": [
    "ocm = pd.read_csv(\"input/OCM_matrix.csv\").drop(['Unnamed: 0'], axis=1)\n",
    "ocm_desc = pd.read_csv(\"input/OCM_matrix_desc.csv\").drop(['Unnamed: 0'], axis=1)\n",
    "\n",
    "#drop which has 'Th' in its composer\n",
    "ocm = ocm.ix[ocm_desc.index]\n",
    "\n",
    "#exclude data which has over 5 metals in his component\n",
    "ind = (ocm.ix[:,:'Zr']>0).sum(axis=1)\n",
    "ind = ind < 5\n",
    "ocm = ocm.ix[ind]\n",
    "\n",
    "ind = (ocm_desc.ix[:,:'Zr']>0).sum(axis=1)\n",
    "ind = ind < 5\n",
    "ocm_desc = ocm_desc.ix[ind]\n",
    "\n",
    "#drop 'Support_Co'(becaues all value are zero)\n",
    "ocm = ocm.drop(['Support_Co'], axis=1)\n",
    "ocm_desc = ocm_desc.drop(['Support_Co'], axis=1)\n",
    "\n",
    "ocm_atom = ocm.ix[:,:'Zr'].columns"
   ]
  },
  {
   "cell_type": "code",
   "execution_count": 8,
   "metadata": {
    "collapsed": true
   },
   "outputs": [],
   "source": [
    "desc = pd.read_csv('input/Descriptors.csv',skiprows = [0],index_col='symbol').drop(['Unnamed: 0',\n",
    "                                                                               'name',\n",
    "                                                                               'ionic radius',\n",
    "                                                                               'covalent radius',\n",
    "                                                                               'VdW radius',\n",
    "                                                                               'crystal radius',\n",
    "                                                                               'a x 106 ',\n",
    "                                                                               'Heat capacity ',\n",
    "                                                                               'l',\n",
    "                                                                               'electron affinity ',\n",
    "                                                                               'VE',\n",
    "                                                                               'Surface energy '],axis=1)\n",
    "desc = desc.loc[ocm.loc[:,:'Zr'].columns,]\n",
    "desc = desc.fillna(desc.mean())"
   ]
  },
  {
   "cell_type": "markdown",
   "metadata": {},
   "source": [
    "## code"
   ]
  },
  {
   "cell_type": "code",
   "execution_count": 9,
   "metadata": {
    "collapsed": true
   },
   "outputs": [],
   "source": [
    "def posterior(x, p_x, p_y, model):\n",
    "    if len(p_x.shape) == 1:\n",
    "        model.fit(p_x.reshape(-1, 1), p_y)\n",
    "        mu, sigma = model.predict(x.reshape(-1,1), return_std=True)\n",
    "    else:\n",
    "        model.fit(p_x, p_y)\n",
    "        mu, sigma = model.predict(x, return_std=True)\n",
    "    ind = np.where(sigma == 0.)\n",
    "    sigma[ind] = 1e-5\n",
    "    return mu, sigma\n",
    "\n",
    "def EI(mu, sigma, cur_max):\n",
    "    Z = (mu - cur_max) / sigma\n",
    "    ei = (mu - cur_max) * norm.cdf(Z) + sigma * norm.pdf(Z)\n",
    "    return ei"
   ]
  },
  {
   "cell_type": "code",
   "execution_count": 10,
   "metadata": {
    "collapsed": true
   },
   "outputs": [],
   "source": [
    "def rand_search(ninit, x, y, random_state = 929):\n",
    "    random.seed(random_state)\n",
    "    ninit = ninit # number of first point\n",
    "    niter = len(x) # number of iteration\n",
    "    true_max = np.max(y)\n",
    "    order = list(range(len(x)))\n",
    "    random.shuffle(order)\n",
    "\n",
    "    y_list = []\n",
    "    z_list = []\n",
    "    for i in range(ninit):\n",
    "        ridx = order[i]\n",
    "        y_list.append(y.iloc[ridx])\n",
    "        \n",
    "    cur_max = np.array(y_list).max()\n",
    "    for j in range(num_search):\n",
    "        ridx = order[j + ninit]\n",
    "        y_list.append(y.iloc[ridx])\n",
    "        yp = np.array(y_list)\n",
    "        cur_max = np.max(yp)\n",
    "        z_list.append(cur_max)\n",
    "        \n",
    "        if cur_max >= true_max:\n",
    "            print('max found', j)\n",
    "            \n",
    "        print('iter:{0}, current_max:{1}'.format(j,cur_max))\n",
    "     \n",
    "    return z_list"
   ]
  },
  {
   "cell_type": "code",
   "execution_count": 11,
   "metadata": {},
   "outputs": [
    {
     "name": "stdout",
     "output_type": "stream",
     "text": [
      "Random Search\n",
      "iter:0, current_max:20.7\n",
      "iter:1, current_max:20.7\n",
      "iter:2, current_max:20.7\n",
      "iter:3, current_max:20.7\n",
      "iter:0, current_max:18.6\n",
      "iter:1, current_max:18.6\n",
      "iter:2, current_max:18.6\n",
      "iter:3, current_max:18.6\n"
     ]
    },
    {
     "name": "stderr",
     "output_type": "stream",
     "text": [
      "/Users/takigawa/.pyenv/versions/anaconda3-5.0.1/lib/python3.6/site-packages/ipykernel_launcher.py:4: DeprecationWarning: \n",
      ".ix is deprecated. Please use\n",
      ".loc for label based indexing or\n",
      ".iloc for positional indexing\n",
      "\n",
      "See the documentation here:\n",
      "http://pandas.pydata.org/pandas-docs/stable/indexing.html#ix-indexer-is-deprecated\n",
      "  after removing the cwd from sys.path.\n"
     ]
    }
   ],
   "source": [
    "print('Random Search')\n",
    "rand = []\n",
    "for i in range(num_averaging):\n",
    "    rand.append(rand_search(num_init,ocm_desc.ix[:,:-1],ocm_desc.ix[:,-1],random_state=i*10))"
   ]
  },
  {
   "cell_type": "code",
   "execution_count": 12,
   "metadata": {
    "collapsed": true
   },
   "outputs": [],
   "source": [
    "def exploration(ninit, model, x, y, random_state=929):\n",
    "    random.seed(random_state)\n",
    "    true_max = np.max(y)\n",
    "    order = list(range(len(x)))\n",
    "    random.shuffle(order)\n",
    "\n",
    "    x_list = []\n",
    "    y_list = []\n",
    "    z_list = []\n",
    "\n",
    "    used = set()\n",
    "\n",
    "    for i in range(ninit):\n",
    "        ridx = order[i]\n",
    "        x_list.append(x.iloc[ridx, :])\n",
    "        y_list.append(y.iloc[ridx])\n",
    "        used.add(ridx)\n",
    "        \n",
    "    print(y_list)\n",
    "    for j in range(num_search):\n",
    "        xp = np.array(x_list)\n",
    "        yp = np.array(y_list)\n",
    "        cur_max = np.max(yp)\n",
    "        # fit surrogate model\n",
    "        model.fit(xp, yp)\n",
    "        _mu = model.predict(np.array(x))\n",
    "        mu = _mu.reshape(-1)\n",
    "        idlist = np.argsort(mu)[::-1]\n",
    "        p = 0\n",
    "        max_idx = idlist[p]\n",
    "        while max_idx in used:\n",
    "            p += 1\n",
    "            max_idx = idlist[p]\n",
    "            \n",
    "        used.add(max_idx)\n",
    "        x_list.append(x.iloc[max_idx, :])\n",
    "        y_list.append(y.iloc[max_idx])\n",
    "        z_list.append(cur_max)\n",
    "        \n",
    "        print('iter:{0}, current_max:{1}'.format(j + 1,cur_max))\n",
    "        \n",
    "    return x_list, y_list, z_list"
   ]
  },
  {
   "cell_type": "code",
   "execution_count": 13,
   "metadata": {
    "collapsed": true
   },
   "outputs": [],
   "source": [
    "X, y = ocm_desc.iloc[:,:-1], ocm_desc.iloc[:,-1]"
   ]
  },
  {
   "cell_type": "code",
   "execution_count": 14,
   "metadata": {
    "scrolled": true
   },
   "outputs": [
    {
     "name": "stdout",
     "output_type": "stream",
     "text": [
      "exploitation w/ XGB\n",
      "[8.1, 8.6, 6.7, 6.7, 20.7, 6.0, 16.8, 18.5, 5.9, 19.6]\n",
      "iter:1, current_max:20.7\n",
      "iter:2, current_max:20.7\n",
      "iter:3, current_max:20.7\n",
      "iter:4, current_max:20.7\n",
      "[16.4, 0.8, 6.7, 14.2, 0.1, 7.5, 12.8, 16.6, 8.6, 18.6]\n",
      "iter:1, current_max:18.6\n",
      "iter:2, current_max:18.6\n",
      "iter:3, current_max:18.6\n",
      "iter:4, current_max:18.6\n"
     ]
    }
   ],
   "source": [
    "#Hyper ParametorはGrid searchにて決定\n",
    "estimator=XGBRegressor(n_estimators=num_tree,max_depth=8,subsample=0.9,colsample_bytree=0.8,learning_rate=0.05,random_state=929,n_jobs=-1)\n",
    "\n",
    "print('exploitation w/ XGB')\n",
    "res_model_pred_xgb = []\n",
    "for i in range(num_averaging):\n",
    "    res_model_pred_xgb.append(exploration(num_init,estimator,X,y,random_state=i*10))"
   ]
  },
  {
   "cell_type": "code",
   "execution_count": 15,
   "metadata": {},
   "outputs": [
    {
     "name": "stdout",
     "output_type": "stream",
     "text": [
      "exploitation w/ RF\n",
      "[8.1, 8.6, 6.7, 6.7, 20.7, 6.0, 16.8, 18.5, 5.9, 19.6]\n",
      "iter:1, current_max:20.7\n",
      "iter:2, current_max:20.7\n",
      "iter:3, current_max:20.7\n",
      "iter:4, current_max:20.7\n",
      "[16.4, 0.8, 6.7, 14.2, 0.1, 7.5, 12.8, 16.6, 8.6, 18.6]\n",
      "iter:1, current_max:18.6\n",
      "iter:2, current_max:18.6\n",
      "iter:3, current_max:23.1\n",
      "iter:4, current_max:23.1\n"
     ]
    }
   ],
   "source": [
    "estimator=RandomForestRegressor(n_estimators=num_tree,random_state=929,n_jobs=-1)\n",
    "\n",
    "print('exploitation w/ RF')\n",
    "res_model_pred_rf = []\n",
    "for i in range(num_averaging):\n",
    "    res_model_pred_rf.append(exploration(num_init,estimator,X,y,random_state=i*10))"
   ]
  },
  {
   "cell_type": "code",
   "execution_count": 16,
   "metadata": {},
   "outputs": [
    {
     "name": "stdout",
     "output_type": "stream",
     "text": [
      "exploitation w/ ET\n",
      "[8.1, 8.6, 6.7, 6.7, 20.7, 6.0, 16.8, 18.5, 5.9, 19.6]\n",
      "iter:1, current_max:20.7\n",
      "iter:2, current_max:20.7\n",
      "iter:3, current_max:20.7\n",
      "iter:4, current_max:20.7\n",
      "[16.4, 0.8, 6.7, 14.2, 0.1, 7.5, 12.8, 16.6, 8.6, 18.6]\n",
      "iter:1, current_max:18.6\n",
      "iter:2, current_max:18.6\n",
      "iter:3, current_max:18.6\n",
      "iter:4, current_max:18.6\n"
     ]
    }
   ],
   "source": [
    "estimator=ExtraTreesRegressor(n_estimators=num_tree,random_state=929,n_jobs=-1)\n",
    "\n",
    "print('exploitation w/ ET')\n",
    "res_model_pred_et = []\n",
    "for i in range(num_averaging):\n",
    "    res_model_pred_et.append(exploration(num_init,estimator,X,y,random_state=i*10))"
   ]
  },
  {
   "cell_type": "code",
   "execution_count": 17,
   "metadata": {},
   "outputs": [
    {
     "name": "stdout",
     "output_type": "stream",
     "text": [
      "exploitation w/ GP\n",
      "[8.1, 8.6, 6.7, 6.7, 20.7, 6.0, 16.8, 18.5, 5.9, 19.6]\n",
      "iter:1, current_max:20.7\n",
      "iter:2, current_max:26.3\n",
      "iter:3, current_max:26.3\n",
      "iter:4, current_max:26.3\n",
      "[16.4, 0.8, 6.7, 14.2, 0.1, 7.5, 12.8, 16.6, 8.6, 18.6]\n",
      "iter:1, current_max:18.6\n",
      "iter:2, current_max:18.6\n",
      "iter:3, current_max:20.2\n",
      "iter:4, current_max:20.2\n"
     ]
    }
   ],
   "source": [
    "kernel = gp.kernels.Matern(nu = 2.5)\n",
    "estimator = gp.GaussianProcessRegressor(kernel=kernel,\n",
    "                                    alpha=1e-2,\n",
    "                                    n_restarts_optimizer=10,\n",
    "                                    normalize_y=True,\n",
    "                                    random_state=929)\n",
    "\n",
    "print('exploitation w/ GP')\n",
    "res_model_pred_gp = []\n",
    "for i in range(num_averaging):\n",
    "    res_model_pred_gp.append(exploration(num_init,estimator,X,y,random_state=i*10))"
   ]
  },
  {
   "cell_type": "code",
   "execution_count": 18,
   "metadata": {
    "collapsed": true
   },
   "outputs": [],
   "source": [
    "def bo(ninit, model, x, y, random_state = 929):\n",
    "    random.seed(random_state)\n",
    "    ninit = ninit # number of first point\n",
    "    niter = len(x) # number of iteration\n",
    "    true_max = np.max(y)\n",
    "    order = list(range(len(x)))\n",
    "    random.shuffle(order)\n",
    "\n",
    "    x_list = []\n",
    "    y_list = []\n",
    "    z_list = []\n",
    "    used = set()\n",
    "    \n",
    "    for i in range(ninit):\n",
    "        ridx = order[i]\n",
    "        x_list.append(x.iloc[ridx, :])\n",
    "        y_list.append(y.iloc[ridx])\n",
    "        used.add(ridx)\n",
    "\n",
    "    for j in range(num_search):\n",
    "        xp = np.array(x_list)\n",
    "        yp = np.array(y_list)\n",
    "        cur_max = np.max(yp)\n",
    "        # fit surrogate model\n",
    "        model.fit(xp, yp)\n",
    "        _mu, sigma = model.predict(x, return_std=True)\n",
    "        mu = _mu.reshape(-1)\n",
    "        ind = np.where(sigma == 0.)\n",
    "        sigma[ind] = 1e-5\n",
    "        # compute EI\n",
    "        Z = (mu - cur_max) / sigma\n",
    "        ei = (mu - cur_max) * norm.cdf(Z) + sigma * norm.pdf(Z)\n",
    "        ei[sigma == 0.0] == 0.0\n",
    "        idlist = np.argsort(ei)[::-1]\n",
    "        p = 0\n",
    "        max_idx = idlist[p]\n",
    "        while max_idx in used:\n",
    "            p += 1\n",
    "            max_idx = idlist[p]\n",
    "        \n",
    "        used.add(max_idx)\n",
    "        x_list.append(x.iloc[max_idx, :])\n",
    "        y_list.append(y.iloc[max_idx])\n",
    "        z_list.append(cur_max)\n",
    "            \n",
    "        print('iter:{0}, current_max:{1}'.format(j,cur_max))\n",
    "        \n",
    "    return x_list, y_list, z_list"
   ]
  },
  {
   "cell_type": "code",
   "execution_count": 19,
   "metadata": {
    "collapsed": true
   },
   "outputs": [],
   "source": [
    "kernel = gp.kernels.Matern(nu = 2.5)\n",
    "model = gp.GaussianProcessRegressor(kernel=kernel,\n",
    "                                    alpha=1e-2,\n",
    "                                    n_restarts_optimizer=10,\n",
    "                                    normalize_y=True,\n",
    "                                    random_state=929)"
   ]
  },
  {
   "cell_type": "code",
   "execution_count": 20,
   "metadata": {},
   "outputs": [
    {
     "name": "stdout",
     "output_type": "stream",
     "text": [
      "BO w/ GP\n",
      "iter:0, current_max:20.7\n",
      "iter:1, current_max:20.7\n",
      "iter:2, current_max:20.7\n",
      "iter:3, current_max:20.7\n",
      "iter:0, current_max:18.6\n",
      "iter:1, current_max:18.6\n",
      "iter:2, current_max:18.6\n",
      "iter:3, current_max:18.6\n"
     ]
    }
   ],
   "source": [
    "print('BO w/ GP')\n",
    "res_model_bo_gp = []\n",
    "for i in range(num_averaging):\n",
    "    res_model_bo_gp.append(bo(num_init,model,X,y,random_state=i*10))"
   ]
  },
  {
   "cell_type": "code",
   "execution_count": 21,
   "metadata": {},
   "outputs": [
    {
     "name": "stdout",
     "output_type": "stream",
     "text": [
      "BO w/ RF\n",
      "iter:0, current_max:20.7\n",
      "iter:1, current_max:20.7\n",
      "iter:2, current_max:20.7\n",
      "iter:3, current_max:20.7\n",
      "iter:0, current_max:18.6\n",
      "iter:1, current_max:23.1\n",
      "iter:2, current_max:23.1\n",
      "iter:3, current_max:23.1\n"
     ]
    }
   ],
   "source": [
    "print('BO w/ RF')\n",
    "model = opt_RF(n_estimators=num_tree,n_jobs=-1, random_state=929)\n",
    "res_model_bo_rf = []\n",
    "for i in range(num_averaging):\n",
    "    res_model_bo_rf.append(bo(num_init,model,X,y,random_state=i*10))"
   ]
  },
  {
   "cell_type": "code",
   "execution_count": 22,
   "metadata": {},
   "outputs": [
    {
     "name": "stdout",
     "output_type": "stream",
     "text": [
      "BO w/ ET\n",
      "iter:0, current_max:20.7\n",
      "iter:1, current_max:20.7\n",
      "iter:2, current_max:20.7\n",
      "iter:3, current_max:20.7\n",
      "iter:0, current_max:18.6\n",
      "iter:1, current_max:18.6\n",
      "iter:2, current_max:18.6\n",
      "iter:3, current_max:18.6\n"
     ]
    }
   ],
   "source": [
    "print('BO w/ ET')\n",
    "model = opt_ET(n_estimators=num_tree, n_jobs=-1,random_state=929)\n",
    "res_model_bo_et = []\n",
    "for i in range(num_averaging):\n",
    "    res_model_bo_et.append(bo(num_init,model,X,y,random_state=i*10))"
   ]
  },
  {
   "cell_type": "code",
   "execution_count": 23,
   "metadata": {
    "collapsed": true
   },
   "outputs": [],
   "source": [
    "def random_cand_ocm(x, num,random_state=929 ):\n",
    "    rand_list = []\n",
    "    for n in range(num):\n",
    "        random.seed(random_state + n)\n",
    "        np.random.seed(random_state + n)\n",
    "        #make random vector(belong to metal composition)\n",
    "        temp = np.random.uniform(low=0, high=100,size=len(comp_f)) \n",
    "        comp_rand = pd.Series(temp, index=list(comp_f))\n",
    "        sys = np.random.randint(low=1, high=4 + 1)\n",
    "        ind = comp_rand.sort_values().iloc[sys:].index\n",
    "        comp_rand[ind] = 0\n",
    "        comp_rand = comp_rand[list(comp_f)]\n",
    "        \n",
    "        temp = np.random.uniform(low=0, high=100,size=len(sup_f)) \n",
    "        comp_rand_sup = pd.Series(temp, index=list(sup_f))\n",
    "        sys = np.random.randint(low=0, high=2)\n",
    "        ind = comp_rand_sup.sort_values().iloc[sys:].index\n",
    "        comp_rand_sup[ind] = 0\n",
    "        comp_rand_sup = comp_rand_sup[list(sup_f)]\n",
    "        \n",
    "        comp_rand = pd.concat([comp_rand, comp_rand_sup])\n",
    "        comp_rand = comp_rand * 100 / comp_rand.sum()\n",
    "        comp_rand = comp_rand[list(comp_f) + list(sup_f)]\n",
    "        #display(comp_rand)\n",
    "\n",
    "        #make random vector(belong to Promotor)\n",
    "        f = random.choice(list(prom_f) + ['nan'])\n",
    "        if f != 'nan':\n",
    "            temp = ocm.ix[0, prom_f]\n",
    "            temp[f] = 1\n",
    "            temp[set(prom_f) - {f}] = 0\n",
    "        else:\n",
    "            temp = ocm.ix[0, prom_f]\n",
    "            temp[prom_f] = 0\n",
    "        \n",
    "        prom_rand = temp\n",
    "        #display(prom_rand)\n",
    "\n",
    "        #make random vector(belong to condition)\n",
    "        vec = np.array(ocm.ix[:,cond_f] )\n",
    "        a = np.mean(vec, axis=0) - vec.min(axis=0)\n",
    "        b = vec.max(axis=0) - vec.min(axis=0)\n",
    "        v = a / b\n",
    "        p = np.array([-1])\n",
    "        while any((p < 0) | (p > 1)):\n",
    "            mu ,sigma = v, np.diag([0.2 for i in range(len(cond_f))])\n",
    "            p = np.random.multivariate_normal(mu, sigma)\n",
    "\n",
    "        p = p * b + vec.min(axis=0)\n",
    "        p = pd.Series(p, index=cond_f)\n",
    "        p_ch4_o2 = {'p(CH4)/p(O2)', 'p(CH4), bar', 'p(O2), bar'}\n",
    "        if (p['p(O2), bar'] > 0):\n",
    "            p['p(CH4)/p(O2)'] = p['p(CH4), bar'] / p['p(O2), bar']\n",
    "        unique = list((Counter(ocm['Contact time, s'])))\n",
    "        contact = random.choice(unique)\n",
    "        p['Contact time, s'] = contact\n",
    "        cond_rand = p\n",
    "        #display(cond_rand)\n",
    "\n",
    "        #make random vector(belong to Preparation)\n",
    "        f = random.choice(list(pre_f))\n",
    "        temp = ocm.ix[0, pre_f]\n",
    "        temp[f] = 1\n",
    "        temp[set(pre_f) - {f}] = 0\n",
    "        pre_rand = temp\n",
    "        \n",
    "        cat_rand = pd.concat([comp_rand, prom_rand, cond_rand, pre_rand])\n",
    "        rand_list.append(cat_rand)\n",
    "    \n",
    "    comp_rand = pd.DataFrame(rand_list)\n",
    "    feature=comp_times_base(comp_rand.ix[:,:'Zr'],desc.ix[ocm_atom].T,sort=True,times=True)\n",
    "    feature=pd.DataFrame(feature,index=comp_rand.index)\n",
    "    feature = feature.ix[:,:desc.shape[1]*4-1]\n",
    "    ind = set_rownames(desc,feature,name='Metal')\n",
    "    feature.columns = ind\n",
    "    ind = feature.max() > 0\n",
    "    feature = feature.ix[:,ind]\n",
    "    comp_rand = pd.concat([feature, comp_rand], axis=1)\n",
    "    comp_rand = comp_rand[x.columns]\n",
    "    \n",
    "    return comp_rand "
   ]
  },
  {
   "cell_type": "code",
   "execution_count": 24,
   "metadata": {
    "collapsed": true
   },
   "outputs": [],
   "source": [
    "def roen(x, y, model, random_state=929):\n",
    "    x_ch = x.ix[:,:-2].copy()\n",
    "    neighbor = []\n",
    "    \n",
    "    for key, row in x_ch.iterrows():\n",
    "        count = 0\n",
    "        nei_4 = []\n",
    "        #print('ind={0}'.format(key))\n",
    "        if x.ix[key, 'make_nei'] == True:\n",
    "            for count in range(4):\n",
    "                seed = (key + 1) * (count + 1) * random_state\n",
    "                random.seed(seed)\n",
    "                np.random.seed(seed)\n",
    "                f = list(ocm.ix[:,:-1].columns)\n",
    "                f = f + ['Promotor_nan']  \n",
    "                f.remove('Th')\n",
    "                change_f = random.choice(f)\n",
    "                row_ch = row.copy()\n",
    "\n",
    "                if change_f in comp_sup_at:\n",
    "                    a = np.array(row_ch[change_f]) - x_ch[change_f].min()\n",
    "                    b = x_ch[change_f].max() - x_ch[change_f].min()\n",
    "                    v = a.astype(float) / b.astype(float)\n",
    "                    p = np.array([-1])\n",
    "                    while (p < 0) | (p > 1):\n",
    "                        p = random.normalvariate(v, 0.2)\n",
    "\n",
    "                    p = p * b + x_ch[change_f].min()\n",
    "                    row_ch[change_f] = p\n",
    "\n",
    "                    if sum(row_ch[comp_f] > 0) > 4:\n",
    "                        ind = row_ch[comp_f] > 0\n",
    "                        atom = row_ch[comp_f][ind].idxmin()\n",
    "                        row_ch[atom] = 0\n",
    "                        \n",
    "                    row_ch[comp_sup_at] = (row_ch[comp_sup_at] * 100) / row_ch[comp_sup_at].sum()\n",
    "\n",
    "                elif change_f in (prom_f + ['Promotor_nan']):\n",
    "                    if change_f != 'Promotor_nan':\n",
    "                        row_ch[change_f] = 1\n",
    "                        ind = set(prom_f) - {change_f}\n",
    "                        row_ch[ind] = 0\n",
    "                    else:\n",
    "                        row_ch[prom_f] = 0\n",
    "\n",
    "                elif change_f in cond_f:\n",
    "                    a = np.array(row_ch[change_f]) - x_ch[change_f].min()\n",
    "                    b = x_ch[change_f].max() - x_ch[change_f].min()\n",
    "                    v = a.astype(float) / b.astype(float)\n",
    "                    p = -1\n",
    "                    while (p < 0) | (p > 1):\n",
    "                        p = random.normalvariate(v, 0.2)\n",
    "\n",
    "                    p = p * b + x_ch[change_f].min()\n",
    "                    row_ch[change_f] = p\n",
    "                    p_ch4_o2 = {'p(CH4)/p(O2)', 'p(CH4), bar', 'p(O2), bar'}\n",
    "                    if row_ch['p(O2), bar'] > 0: \n",
    "                        row_ch['p(CH4)/p(O2)'] = row_ch['p(CH4), bar'] / row_ch['p(O2), bar']\n",
    "\n",
    "                elif change_f in pre_f:\n",
    "                    row_ch[change_f] = 1\n",
    "                    ind = set(pre_f) - {change_f}\n",
    "                    row_ch[ind] = 0\n",
    "                    #display(row_ch)\n",
    "\n",
    "                nei_4.append(row_ch)\n",
    "\n",
    "            nei_4 = pd.DataFrame(nei_4, index=[0,1,2,3])\n",
    "\n",
    "            feat = comp_times_base(nei_4.ix[:,:'Zr'],desc.ix[ocm_atom].T,sort=True,times=True)\n",
    "            feat = pd.DataFrame(feat, index=nei_4.index)\n",
    "            feat = feat.ix[:,:desc.shape[1]*4-1]\n",
    "            ind = set_rownames(desc,feat,name='Metal')\n",
    "            nei_4[ind] = feat \n",
    "\n",
    "            mu, sigma = model.predict(np.array(nei_4), return_std=True)\n",
    "            ind = y.values.argmax()\n",
    "            cur_max = y[ind]\n",
    "            ei = EI(mu, sigma, cur_max)\n",
    "            ind = np.argmax(ei)\n",
    "            cand = nei_4.iloc[ind].copy()\n",
    "            cand['ei'] = ei[ind]\n",
    "\n",
    "            if x.ix[key, 'ei'] < cand['ei']:\n",
    "                cand['make_nei'] = True\n",
    "                neighbor.append(cand)\n",
    "            else:\n",
    "                x.ix[key, 'make_nei'] = False\n",
    "                neighbor.append(x.ix[key])\n",
    "        else:\n",
    "            neighbor.append(x.ix[key])\n",
    "    \n",
    "    \n",
    "    res = pd.DataFrame(neighbor, index=x.index)\n",
    "    #display(res)\n",
    "    return res"
   ]
  },
  {
   "cell_type": "code",
   "execution_count": 25,
   "metadata": {
    "collapsed": true
   },
   "outputs": [],
   "source": [
    "def smac(model, init_x, init_y, roen_func, random_cand, rand=False, random_state = 929):\n",
    "    cur_max = init_y.max()\n",
    "    model.fit(np.array(init_x), np.array(init_y))\n",
    "    mu, sigma = posterior(np.array(init_x), np.array(init_x), init_y, model)\n",
    "    ei = EI(mu, sigma, init_y.max())\n",
    "    ei = pd.Series(ei, index=init_x.index, name='ei')\n",
    "    make_nei = pd.Series(True, index=init_x.index, name='make_nei')\n",
    "    next_x = pd.concat([init_x, ei, make_nei], axis = 1)\n",
    "    while next_x['make_nei'].sum() != 0:\n",
    "        next_x = roen_func(next_x, init_y, model)\n",
    "        next_x = pd.DataFrame(next_x)\n",
    "        print(next_x['make_nei'].sum())\n",
    "        \n",
    "    if rand == True:\n",
    "        cand_model = next_x.sort_values(by='ei', ascending=False).ix[:,:-1]\n",
    "        cand_rand= random_cand(init_x, 10) \n",
    "        mu, sigma = model.predict(np.array(cand_rand), return_std=True)\n",
    "        ei = EI(mu, sigma, cur_max)\n",
    "        ei = pd.Series(ei, cand_rand.index, name='ei')\n",
    "        cand_rand = pd.concat([cand_rand, ei], axis=1)\n",
    "        cand = pd.concat([cand_model, cand_rand])\n",
    "    else:\n",
    "        cand = next_x\n",
    "        \n",
    "    \n",
    "    return cand"
   ]
  },
  {
   "cell_type": "code",
   "execution_count": 26,
   "metadata": {},
   "outputs": [
    {
     "name": "stderr",
     "output_type": "stream",
     "text": [
      "/Users/takigawa/.pyenv/versions/anaconda3-5.0.1/lib/python3.6/site-packages/ipykernel_launcher.py:1: DeprecationWarning: \n",
      ".ix is deprecated. Please use\n",
      ".loc for label based indexing or\n",
      ".iloc for positional indexing\n",
      "\n",
      "See the documentation here:\n",
      "http://pandas.pydata.org/pandas-docs/stable/indexing.html#ix-indexer-is-deprecated\n",
      "  \"\"\"Entry point for launching an IPython kernel.\n",
      "/Users/takigawa/.pyenv/versions/anaconda3-5.0.1/lib/python3.6/site-packages/ipykernel_launcher.py:2: DeprecationWarning: \n",
      ".ix is deprecated. Please use\n",
      ".loc for label based indexing or\n",
      ".iloc for positional indexing\n",
      "\n",
      "See the documentation here:\n",
      "http://pandas.pydata.org/pandas-docs/stable/indexing.html#ix-indexer-is-deprecated\n",
      "  \n",
      "/Users/takigawa/.pyenv/versions/anaconda3-5.0.1/lib/python3.6/site-packages/ipykernel_launcher.py:4: DeprecationWarning: \n",
      ".ix is deprecated. Please use\n",
      ".loc for label based indexing or\n",
      ".iloc for positional indexing\n",
      "\n",
      "See the documentation here:\n",
      "http://pandas.pydata.org/pandas-docs/stable/indexing.html#ix-indexer-is-deprecated\n",
      "  after removing the cwd from sys.path.\n",
      "/Users/takigawa/.pyenv/versions/anaconda3-5.0.1/lib/python3.6/site-packages/ipykernel_launcher.py:5: DeprecationWarning: \n",
      ".ix is deprecated. Please use\n",
      ".loc for label based indexing or\n",
      ".iloc for positional indexing\n",
      "\n",
      "See the documentation here:\n",
      "http://pandas.pydata.org/pandas-docs/stable/indexing.html#ix-indexer-is-deprecated\n",
      "  \"\"\"\n",
      "/Users/takigawa/.pyenv/versions/anaconda3-5.0.1/lib/python3.6/site-packages/ipykernel_launcher.py:6: DeprecationWarning: \n",
      ".ix is deprecated. Please use\n",
      ".loc for label based indexing or\n",
      ".iloc for positional indexing\n",
      "\n",
      "See the documentation here:\n",
      "http://pandas.pydata.org/pandas-docs/stable/indexing.html#ix-indexer-is-deprecated\n",
      "  \n"
     ]
    }
   ],
   "source": [
    "comp_f = ocm_desc.ix[:,'Ag':'Zr'].columns\n",
    "sup_f = ocm_desc.ix[:,'Support_Si':'Support_Zr'].columns\n",
    "comp_sup_at = list(comp_f) + list(sup_f)\n",
    "prom_f = ocm_desc.ix[:,'Promotor_B':'Promotor_S'].columns\n",
    "pre_f = ocm_desc.ix[:,'Impregnation':'Therm.decomp.'].columns\n",
    "cond_f = ocm_desc.ix[:,'Temperature, K':'Contact time, s'].columns\n",
    "\n",
    "categ = {}\n",
    "categ['comp_f'] = list(comp_f)\n",
    "categ['sup_f'] = list(sup_f)\n",
    "categ['prom_f'] = list(prom_f)\n",
    "categ['pre_f'] = list(pre_f)\n",
    "categ['cond_f'] = list(cond_f)"
   ]
  },
  {
   "cell_type": "code",
   "execution_count": 27,
   "metadata": {
    "collapsed": true
   },
   "outputs": [],
   "source": [
    "model = opt_ET(n_estimators=num_tree_smac, random_state=929)"
   ]
  },
  {
   "cell_type": "code",
   "execution_count": 28,
   "metadata": {
    "scrolled": false
   },
   "outputs": [
    {
     "name": "stderr",
     "output_type": "stream",
     "text": [
      "/Users/takigawa/.pyenv/versions/anaconda3-5.0.1/lib/python3.6/site-packages/ipykernel_launcher.py:1: DeprecationWarning: \n",
      ".ix is deprecated. Please use\n",
      ".loc for label based indexing or\n",
      ".iloc for positional indexing\n",
      "\n",
      "See the documentation here:\n",
      "http://pandas.pydata.org/pandas-docs/stable/indexing.html#ix-indexer-is-deprecated\n",
      "  \"\"\"Entry point for launching an IPython kernel.\n",
      "/Users/takigawa/.pyenv/versions/anaconda3-5.0.1/lib/python3.6/site-packages/ipykernel_launcher.py:2: DeprecationWarning: \n",
      ".ix is deprecated. Please use\n",
      ".loc for label based indexing or\n",
      ".iloc for positional indexing\n",
      "\n",
      "See the documentation here:\n",
      "http://pandas.pydata.org/pandas-docs/stable/indexing.html#ix-indexer-is-deprecated\n",
      "  \n",
      "/Users/takigawa/.pyenv/versions/anaconda3-5.0.1/lib/python3.6/site-packages/ipykernel_launcher.py:9: DeprecationWarning: \n",
      ".ix is deprecated. Please use\n",
      ".loc for label based indexing or\n",
      ".iloc for positional indexing\n",
      "\n",
      "See the documentation here:\n",
      "http://pandas.pydata.org/pandas-docs/stable/indexing.html#ix-indexer-is-deprecated\n",
      "  if __name__ == '__main__':\n",
      "/Users/takigawa/.pyenv/versions/anaconda3-5.0.1/lib/python3.6/site-packages/ipykernel_launcher.py:14: DeprecationWarning: \n",
      ".ix is deprecated. Please use\n",
      ".loc for label based indexing or\n",
      ".iloc for positional indexing\n",
      "\n",
      "See the documentation here:\n",
      "http://pandas.pydata.org/pandas-docs/stable/indexing.html#ix-indexer-is-deprecated\n",
      "  \n",
      "/Users/takigawa/.pyenv/versions/anaconda3-5.0.1/lib/python3.6/site-packages/ipykernel_launcher.py:14: DeprecationWarning: \n",
      ".ix is deprecated. Please use\n",
      ".loc for label based indexing or\n",
      ".iloc for positional indexing\n",
      "\n",
      "See the documentation here:\n",
      "http://pandas.pydata.org/pandas-docs/stable/indexing.html#ix-indexer-is-deprecated\n",
      "  \n",
      "/Users/takigawa/.pyenv/versions/anaconda3-5.0.1/lib/python3.6/site-packages/ipykernel_launcher.py:70: DeprecationWarning: \n",
      ".ix is deprecated. Please use\n",
      ".loc for label based indexing or\n",
      ".iloc for positional indexing\n",
      "\n",
      "See the documentation here:\n",
      "http://pandas.pydata.org/pandas-docs/stable/indexing.html#ix-indexer-is-deprecated\n",
      "/Users/takigawa/.pyenv/versions/anaconda3-5.0.1/lib/python3.6/site-packages/ipykernel_launcher.py:72: DeprecationWarning: \n",
      ".ix is deprecated. Please use\n",
      ".loc for label based indexing or\n",
      ".iloc for positional indexing\n",
      "\n",
      "See the documentation here:\n",
      "http://pandas.pydata.org/pandas-docs/stable/indexing.html#ix-indexer-is-deprecated\n",
      "/Users/takigawa/.pyenv/versions/anaconda3-5.0.1/lib/python3.6/site-packages/ipykernel_launcher.py:84: DeprecationWarning: \n",
      ".ix is deprecated. Please use\n",
      ".loc for label based indexing or\n",
      ".iloc for positional indexing\n",
      "\n",
      "See the documentation here:\n",
      "http://pandas.pydata.org/pandas-docs/stable/indexing.html#ix-indexer-is-deprecated\n",
      "/Users/takigawa/.pyenv/versions/anaconda3-5.0.1/lib/python3.6/site-packages/ipykernel_launcher.py:9: DeprecationWarning: \n",
      ".ix is deprecated. Please use\n",
      ".loc for label based indexing or\n",
      ".iloc for positional indexing\n",
      "\n",
      "See the documentation here:\n",
      "http://pandas.pydata.org/pandas-docs/stable/indexing.html#ix-indexer-is-deprecated\n",
      "  if __name__ == '__main__':\n",
      "/Users/takigawa/.pyenv/versions/anaconda3-5.0.1/lib/python3.6/site-packages/ipykernel_launcher.py:13: RuntimeWarning: divide by zero encountered in true_divide\n",
      "  del sys.path[0]\n",
      "/Users/takigawa/.pyenv/versions/anaconda3-5.0.1/lib/python3.6/site-packages/ipykernel_launcher.py:88: DeprecationWarning: \n",
      ".ix is deprecated. Please use\n",
      ".loc for label based indexing or\n",
      ".iloc for positional indexing\n",
      "\n",
      "See the documentation here:\n",
      "http://pandas.pydata.org/pandas-docs/stable/indexing.html#ix-indexer-is-deprecated\n",
      "/Users/takigawa/.pyenv/versions/anaconda3-5.0.1/lib/python3.6/site-packages/ipykernel_launcher.py:89: DeprecationWarning: \n",
      ".ix is deprecated. Please use\n",
      ".loc for label based indexing or\n",
      ".iloc for positional indexing\n",
      "\n",
      "See the documentation here:\n",
      "http://pandas.pydata.org/pandas-docs/stable/indexing.html#ix-indexer-is-deprecated\n"
     ]
    },
    {
     "name": "stdout",
     "output_type": "stream",
     "text": [
      "1829.0\n"
     ]
    },
    {
     "name": "stderr",
     "output_type": "stream",
     "text": [
      "/Users/takigawa/.pyenv/versions/anaconda3-5.0.1/lib/python3.6/site-packages/ipykernel_launcher.py:2: DeprecationWarning: \n",
      ".ix is deprecated. Please use\n",
      ".loc for label based indexing or\n",
      ".iloc for positional indexing\n",
      "\n",
      "See the documentation here:\n",
      "http://pandas.pydata.org/pandas-docs/stable/indexing.html#ix-indexer-is-deprecated\n",
      "  \n",
      "/Users/takigawa/.pyenv/versions/anaconda3-5.0.1/lib/python3.6/site-packages/ipykernel_launcher.py:91: DeprecationWarning: \n",
      ".ix is deprecated. Please use\n",
      ".loc for label based indexing or\n",
      ".iloc for positional indexing\n",
      "\n",
      "See the documentation here:\n",
      "http://pandas.pydata.org/pandas-docs/stable/indexing.html#ix-indexer-is-deprecated\n"
     ]
    },
    {
     "name": "stdout",
     "output_type": "stream",
     "text": [
      "1317.0\n",
      "847.0\n",
      "436.0\n",
      "214.0\n",
      "102.0\n",
      "38.0\n",
      "13.0\n",
      "7.0\n",
      "5.0\n",
      "3.0\n",
      "1.0\n",
      "0\n"
     ]
    },
    {
     "name": "stderr",
     "output_type": "stream",
     "text": [
      "/Users/takigawa/.pyenv/versions/anaconda3-5.0.1/lib/python3.6/site-packages/ipykernel_launcher.py:15: DeprecationWarning: \n",
      ".ix is deprecated. Please use\n",
      ".loc for label based indexing or\n",
      ".iloc for positional indexing\n",
      "\n",
      "See the documentation here:\n",
      "http://pandas.pydata.org/pandas-docs/stable/indexing.html#ix-indexer-is-deprecated\n",
      "  from ipykernel import kernelapp as app\n",
      "/Users/takigawa/.pyenv/versions/anaconda3-5.0.1/lib/python3.6/site-packages/ipykernel_launcher.py:29: DeprecationWarning: \n",
      ".ix is deprecated. Please use\n",
      ".loc for label based indexing or\n",
      ".iloc for positional indexing\n",
      "\n",
      "See the documentation here:\n",
      "http://pandas.pydata.org/pandas-docs/stable/indexing.html#ix-indexer-is-deprecated\n",
      "/Users/takigawa/.pyenv/versions/anaconda3-5.0.1/lib/python3.6/site-packages/ipykernel_launcher.py:40: DeprecationWarning: \n",
      ".ix is deprecated. Please use\n",
      ".loc for label based indexing or\n",
      ".iloc for positional indexing\n",
      "\n",
      "See the documentation here:\n",
      "http://pandas.pydata.org/pandas-docs/stable/indexing.html#ix-indexer-is-deprecated\n",
      "/Users/takigawa/.pyenv/versions/anaconda3-5.0.1/lib/python3.6/site-packages/ipykernel_launcher.py:62: DeprecationWarning: \n",
      ".ix is deprecated. Please use\n",
      ".loc for label based indexing or\n",
      ".iloc for positional indexing\n",
      "\n",
      "See the documentation here:\n",
      "http://pandas.pydata.org/pandas-docs/stable/indexing.html#ix-indexer-is-deprecated\n",
      "/Users/takigawa/.pyenv/versions/anaconda3-5.0.1/lib/python3.6/site-packages/ipykernel_launcher.py:33: DeprecationWarning: \n",
      ".ix is deprecated. Please use\n",
      ".loc for label based indexing or\n",
      ".iloc for positional indexing\n",
      "\n",
      "See the documentation here:\n",
      "http://pandas.pydata.org/pandas-docs/stable/indexing.html#ix-indexer-is-deprecated\n",
      "/Users/takigawa/.pyenv/versions/anaconda3-5.0.1/lib/python3.6/site-packages/ipykernel_launcher.py:71: DeprecationWarning: \n",
      ".ix is deprecated. Please use\n",
      ".loc for label based indexing or\n",
      ".iloc for positional indexing\n",
      "\n",
      "See the documentation here:\n",
      "http://pandas.pydata.org/pandas-docs/stable/indexing.html#ix-indexer-is-deprecated\n",
      "/Users/takigawa/.pyenv/versions/anaconda3-5.0.1/lib/python3.6/site-packages/ipykernel_launcher.py:73: DeprecationWarning: \n",
      ".ix is deprecated. Please use\n",
      ".loc for label based indexing or\n",
      ".iloc for positional indexing\n",
      "\n",
      "See the documentation here:\n",
      "http://pandas.pydata.org/pandas-docs/stable/indexing.html#ix-indexer-is-deprecated\n",
      "/Users/takigawa/.pyenv/versions/anaconda3-5.0.1/lib/python3.6/site-packages/ipykernel_launcher.py:77: DeprecationWarning: \n",
      ".ix is deprecated. Please use\n",
      ".loc for label based indexing or\n",
      ".iloc for positional indexing\n",
      "\n",
      "See the documentation here:\n",
      "http://pandas.pydata.org/pandas-docs/stable/indexing.html#ix-indexer-is-deprecated\n"
     ]
    }
   ],
   "source": [
    "aho = smac(model=model, init_x=ocm_desc.ix[:,:-1], init_y=ocm_desc.ix[:,-1], roen_func=roen, random_cand=random_cand_ocm, rand=True)"
   ]
  },
  {
   "cell_type": "code",
   "execution_count": 29,
   "metadata": {},
   "outputs": [
    {
     "name": "stderr",
     "output_type": "stream",
     "text": [
      "/Users/takigawa/.pyenv/versions/anaconda3-5.0.1/lib/python3.6/site-packages/ipykernel_launcher.py:2: DeprecationWarning: \n",
      ".ix is deprecated. Please use\n",
      ".loc for label based indexing or\n",
      ".iloc for positional indexing\n",
      "\n",
      "See the documentation here:\n",
      "http://pandas.pydata.org/pandas-docs/stable/indexing.html#ix-indexer-is-deprecated\n",
      "  \n"
     ]
    }
   ],
   "source": [
    "k = KMeans(n_clusters=421, random_state=929)\n",
    "cluster = k.fit_predict(aho.ix[:,:-1])\n",
    "cluster = pd.Series(cluster, index=aho.index, name='cluster')\n",
    "aho = pd.concat([aho,cluster], axis=1)"
   ]
  },
  {
   "cell_type": "code",
   "execution_count": 30,
   "metadata": {},
   "outputs": [
    {
     "name": "stderr",
     "output_type": "stream",
     "text": [
      "/Users/takigawa/.pyenv/versions/anaconda3-5.0.1/lib/python3.6/site-packages/ipykernel_launcher.py:1: DeprecationWarning: \n",
      ".ix is deprecated. Please use\n",
      ".loc for label based indexing or\n",
      ".iloc for positional indexing\n",
      "\n",
      "See the documentation here:\n",
      "http://pandas.pydata.org/pandas-docs/stable/indexing.html#ix-indexer-is-deprecated\n",
      "  \"\"\"Entry point for launching an IPython kernel.\n",
      "/Users/takigawa/.pyenv/versions/anaconda3-5.0.1/lib/python3.6/site-packages/ipykernel_launcher.py:2: DeprecationWarning: \n",
      ".ix is deprecated. Please use\n",
      ".loc for label based indexing or\n",
      ".iloc for positional indexing\n",
      "\n",
      "See the documentation here:\n",
      "http://pandas.pydata.org/pandas-docs/stable/indexing.html#ix-indexer-is-deprecated\n",
      "  \n"
     ]
    }
   ],
   "source": [
    "model.fit(ocm_desc.ix[:,:-1],ocm_desc.ix[:,-1])\n",
    "pred_y = model.predict(aho.ix[:,:-2])\n",
    "pred_y = pd.Series(pred_y,index=aho.index, name='pred_y')\n",
    "cand = pd.concat([aho,pred_y], axis = 1)"
   ]
  },
  {
   "cell_type": "code",
   "execution_count": 31,
   "metadata": {},
   "outputs": [
    {
     "name": "stderr",
     "output_type": "stream",
     "text": [
      "/Users/takigawa/.pyenv/versions/anaconda3-5.0.1/lib/python3.6/site-packages/ipykernel_launcher.py:6: DeprecationWarning: \n",
      ".ix is deprecated. Please use\n",
      ".loc for label based indexing or\n",
      ".iloc for positional indexing\n",
      "\n",
      "See the documentation here:\n",
      "http://pandas.pydata.org/pandas-docs/stable/indexing.html#ix-indexer-is-deprecated\n",
      "  \n"
     ]
    }
   ],
   "source": [
    "#choose point which has most better ei value in each cluster\n",
    "clus_high = cand.sort_values(by=['cluster','ei']).drop_duplicates(subset=['cluster'],keep='last')\n",
    "clus_high = clus_high.sort_values(by='ei', ascending=False)\n",
    "\n",
    "main = clus_high.loc[:, :'Zr']\n",
    "supp = clus_high.loc[:, 'Support_Si':'Support_Zr']\n",
    "targ = pd.concat([main, supp], axis=1)\n",
    "\n",
    "hogege = []\n",
    "for key,row in targ.iterrows():\n",
    "    temp = [str(i)+':'+str(round(v,1)) for i,v in row[row>0].sort_values(ascending=False).iteritems()]\n",
    "    hogege.append(temp)\n",
    "    \n",
    "hogege = [' '.join(x) for x in hogege]"
   ]
  },
  {
   "cell_type": "code",
   "execution_count": 32,
   "metadata": {
    "collapsed": true
   },
   "outputs": [],
   "source": [
    "w = 0.4\n",
    "hoge = clus_high.iloc[:20]\n",
    "x = np.arange(hoge.shape[0])\n",
    "pred_y = list(clus_high['pred_y'])\n",
    "\n",
    "extra = []\n",
    "for y in x:\n",
    "    extra.append(y)\n",
    "    \n",
    "ytick = []\n",
    "for n in range(20):\n",
    "    ytick.append(hogege[n])\n",
    "    \n",
    "plt.figure(figsize=(6,4), dpi=100)\n",
    "plt.barh(x,hoge['ei'][::-1],label='EI')\n",
    "for n,i in enumerate(x[::-1]):\n",
    "    plt.text(clus_high['ei'].iloc[n],i-0.4,str(round(clus_high['ei'].iloc[n],1)),fontsize=9)\n",
    "    \n",
    "    \n",
    "plt.xlim([0,25])\n",
    "plt.yticks(x[::-1],ytick)\n",
    "plt.savefig('output/fig11.png',format='png',dpi=100,bbox_inches='tight')\n",
    "plt.savefig('output/fig11.pdf',format='pdf',dpi=100,bbox_inches='tight')\n",
    "plt.close()"
   ]
  },
  {
   "cell_type": "code",
   "execution_count": 33,
   "metadata": {
    "collapsed": true
   },
   "outputs": [],
   "source": [
    "rand_pred = np.array(rand).mean(axis=0)\n",
    "gp_mean_pred= np.array([x[2] for x in res_model_pred_gp]).mean(axis=0)\n",
    "rf_mean_pred= np.array([x[2] for x in res_model_pred_rf]).mean(axis=0)\n",
    "et_mean_pred= np.array([x[2] for x in res_model_pred_et]).mean(axis=0)\n",
    "xgb_mean_pred= np.array([x[2] for x in res_model_pred_xgb]).mean(axis=0)"
   ]
  },
  {
   "cell_type": "code",
   "execution_count": 34,
   "metadata": {
    "collapsed": true
   },
   "outputs": [],
   "source": [
    "#random initinal\n",
    "plt.figure(figsize=(6,3), dpi=100)\n",
    "plt.plot(rand_pred, label='Random')\n",
    "plt.plot(gp_mean_pred, label='GPR')\n",
    "plt.plot(rf_mean_pred, label='RFR')\n",
    "plt.plot(et_mean_pred, label='ETR')\n",
    "plt.plot(xgb_mean_pred, label='XGB')\n",
    "\n",
    "plt.xlabel('iteration')\n",
    "plt.ylabel('C2 Yield(%)')\n",
    "plt.legend()\n",
    "plt.savefig('output/fig9.png',format='png',dpi=100,bbox_inches='tight')\n",
    "plt.savefig('output/fig9.pdf',format='pdf',dpi=100,bbox_inches='tight')\n",
    "plt.close()"
   ]
  },
  {
   "cell_type": "code",
   "execution_count": 35,
   "metadata": {
    "collapsed": true
   },
   "outputs": [],
   "source": [
    "gp_mean_bo = np.array([x[2] for x in res_model_bo_gp]).mean(axis=0)\n",
    "rf_mean_bo = np.array([x[2] for x in res_model_bo_rf]).mean(axis=0)\n",
    "et_mean_bo = np.array([x[2] for x in res_model_bo_et]).mean(axis=0)"
   ]
  },
  {
   "cell_type": "code",
   "execution_count": 36,
   "metadata": {
    "collapsed": true
   },
   "outputs": [],
   "source": [
    "# random initial\n",
    "plt.figure(figsize=(6,3), dpi=100)\n",
    "plt.plot(rand_pred, label='Random')\n",
    "plt.plot(gp_mean_bo, label='BO(GPR)')\n",
    "plt.plot(rf_mean_bo, label='SMAC(RFR)')\n",
    "plt.plot(et_mean_bo, label='SMAC(ETR)')\n",
    "\n",
    "plt.xlabel('iteration')\n",
    "plt.ylabel('C2 Yield(%)')\n",
    "plt.legend(loc='lower right')\n",
    "plt.savefig('output/fig10.png',format='png',dpi=100,bbox_inches='tight')\n",
    "plt.savefig('output/fig10.pdf',format='pdf',dpi=100,bbox_inches='tight')\n",
    "plt.close()"
   ]
  }
 ],
 "metadata": {
  "kernelspec": {
   "display_name": "Python 3",
   "language": "python",
   "name": "python3"
  },
  "language_info": {
   "codemirror_mode": {
    "name": "ipython",
    "version": 3
   },
   "file_extension": ".py",
   "mimetype": "text/x-python",
   "name": "python",
   "nbconvert_exporter": "python",
   "pygments_lexer": "ipython3",
   "version": "3.6.3"
  }
 },
 "nbformat": 4,
 "nbformat_minor": 2
}

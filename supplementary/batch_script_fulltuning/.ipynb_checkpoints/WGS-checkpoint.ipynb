{
 "cells": [
  {
   "cell_type": "markdown",
   "metadata": {},
   "source": [
    "# ライブラリのロードや前処理"
   ]
  },
  {
   "cell_type": "code",
   "execution_count": 1,
   "metadata": {
    "code_folding": []
   },
   "outputs": [],
   "source": [
    "#Deprecation warningsを以下のモジュールで無視\n",
    "import warnings\n",
    "warnings.filterwarnings('ignore', category=DeprecationWarning)"
   ]
  },
  {
   "cell_type": "code",
   "execution_count": 2,
   "metadata": {},
   "outputs": [],
   "source": [
    "import pandas as pd\n",
    "import numpy as np\n",
    "import scipy\n",
    "import sklearn \n",
    "import xgboost\n",
    "\n",
    "import math\n",
    "import random \n",
    "import re\n",
    "import itertools\n",
    "\n",
    "from collections import Counter \n",
    "\n",
    "from scipy.stats import binom_test\n",
    "from scipy.stats import norm\n",
    "\n",
    "from functools import partial\n",
    "\n",
    "from sklearn.preprocessing import OneHotEncoder\n",
    "from sklearn.utils import shuffle\n",
    "from sklearn.preprocessing import PolynomialFeatures as plf\n",
    "from sklearn import preprocessing\n",
    "\n",
    "from sklearn.model_selection import cross_val_score\n",
    "from sklearn.model_selection import cross_val_predict \n",
    "from sklearn.model_selection import cross_validate\n",
    "from sklearn.model_selection import train_test_split\n",
    "from sklearn.model_selection import StratifiedShuffleSplit\n",
    "from sklearn.model_selection import GridSearchCV\n",
    "\n",
    "from sklearn.metrics import mean_squared_error as mse\n",
    "from sklearn.metrics import r2_score\n",
    "\n",
    "from sklearn.ensemble import GradientBoostingRegressor\n",
    "from sklearn.ensemble import RandomForestRegressor\n",
    "from sklearn.ensemble import ExtraTreesRegressor\n",
    "\n",
    "from sklearn.kernel_ridge import KernelRidge\n",
    "from sklearn.svm import SVR\n",
    "from sklearn.linear_model import Lasso \n",
    "from sklearn.linear_model import Ridge \n",
    "from xgboost import XGBRegressor\n",
    "\n",
    "from ksuzuki_pylib import *"
   ]
  },
  {
   "cell_type": "code",
   "execution_count": 3,
   "metadata": {
    "code_folding": [],
    "hide_input": false
   },
   "outputs": [],
   "source": [
    "# 乱数の固定\n",
    "np.random.seed(0)\n",
    "random.seed(0)\n",
    "# dataframeの表示数の調整\n",
    "pd.set_option('display.max_colwidth',90)"
   ]
  },
  {
   "cell_type": "code",
   "execution_count": 5,
   "metadata": {
    "code_folding": [],
    "scrolled": true
   },
   "outputs": [
    {
     "name": "stderr",
     "output_type": "stream",
     "text": [
      "/Users/takigawa/.pyenv/versions/anaconda3-5.1.0/lib/python3.6/site-packages/ipykernel_launcher.py:14: DeprecationWarning: \n",
      ".ix is deprecated. Please use\n",
      ".loc for label based indexing or\n",
      ".iloc for positional indexing\n",
      "\n",
      "See the documentation here:\n",
      "http://pandas.pydata.org/pandas-docs/stable/indexing.html#ix-indexer-is-deprecated\n",
      "  \n"
     ]
    }
   ],
   "source": [
    "#文献データのロード(データの出力も)\n",
    "desc = pd.read_csv('input/Descriptors.csv',skiprows = [0],index_col='symbol').drop(['Unnamed: 0',\n",
    "                                                                               'name',\n",
    "                                                                               'ionic radius',\n",
    "                                                                               'covalent radius',\n",
    "                                                                               'VdW radius',\n",
    "                                                                               'crystal radius',\n",
    "                                                                               'a x 106 ',\n",
    "                                                                               'Heat capacity ',\n",
    "                                                                               'l',\n",
    "                                                                               'electron affinity ',\n",
    "                                                                               'VE',\n",
    "                                                                               'Surface energy '],axis=1)\n",
    "desc=desc.ix[:83,]\n",
    "\n",
    "# loading data (original DRMdata)\n",
    "#wgsr = pd.read_excel('Knowledge extraction for water gas shift reaction.xlsx',index_col=0,header=8)\n",
    "#wgsr = wgsr.ix[:,2:].drop(\"YSZ\",axis=1)"
   ]
  },
  {
   "cell_type": "code",
   "execution_count": 7,
   "metadata": {},
   "outputs": [
    {
     "name": "stderr",
     "output_type": "stream",
     "text": [
      "/Users/takigawa/.pyenv/versions/anaconda3-5.1.0/lib/python3.6/site-packages/ipykernel_launcher.py:2: DeprecationWarning: \n",
      ".ix is deprecated. Please use\n",
      ".loc for label based indexing or\n",
      ".iloc for positional indexing\n",
      "\n",
      "See the documentation here:\n",
      "http://pandas.pydata.org/pandas-docs/stable/indexing.html#ix-indexer-is-deprecated\n",
      "  \n",
      "/Users/takigawa/.pyenv/versions/anaconda3-5.1.0/lib/python3.6/site-packages/ipykernel_launcher.py:6: DeprecationWarning: \n",
      ".ix is deprecated. Please use\n",
      ".loc for label based indexing or\n",
      ".iloc for positional indexing\n",
      "\n",
      "See the documentation here:\n",
      "http://pandas.pydata.org/pandas-docs/stable/indexing.html#ix-indexer-is-deprecated\n",
      "  \n"
     ]
    }
   ],
   "source": [
    "wgs = pd.read_csv(\"input/wgs.csv\")\n",
    "wgs.index = list(wgs.ix[:,0])\n",
    "wgs = wgs.drop([wgs.columns[0]], axis=1)\n",
    "\n",
    "wgs_desc = pd.read_csv(\"input/wgs_desc.csv\")\n",
    "wgs_desc.index = list(wgs_desc.ix[:,0])\n",
    "wgs_desc = wgs_desc.drop([wgs_desc.columns[0]], axis=1)"
   ]
  },
  {
   "cell_type": "code",
   "execution_count": 8,
   "metadata": {},
   "outputs": [
    {
     "name": "stderr",
     "output_type": "stream",
     "text": [
      "/Users/takigawa/.pyenv/versions/anaconda3-5.1.0/lib/python3.6/site-packages/ipykernel_launcher.py:1: DeprecationWarning: \n",
      ".ix is deprecated. Please use\n",
      ".loc for label based indexing or\n",
      ".iloc for positional indexing\n",
      "\n",
      "See the documentation here:\n",
      "http://pandas.pydata.org/pandas-docs/stable/indexing.html#ix-indexer-is-deprecated\n",
      "  \"\"\"Entry point for launching an IPython kernel.\n",
      "/Users/takigawa/.pyenv/versions/anaconda3-5.1.0/lib/python3.6/site-packages/ipykernel_launcher.py:2: DeprecationWarning: \n",
      ".ix is deprecated. Please use\n",
      ".loc for label based indexing or\n",
      ".iloc for positional indexing\n",
      "\n",
      "See the documentation here:\n",
      "http://pandas.pydata.org/pandas-docs/stable/indexing.html#ix-indexer-is-deprecated\n",
      "  \n"
     ]
    }
   ],
   "source": [
    "atom = list(wgs.ix[:,:'Pd'].columns) + list(wgs.ix[:,'Li':'Sr'].columns)\n",
    "desc = desc.ix[atom]"
   ]
  },
  {
   "cell_type": "code",
   "execution_count": 9,
   "metadata": {
    "code_folding": []
   },
   "outputs": [],
   "source": [
    "#descのnanを埋める\n",
    "desc=desc.fillna(desc.mean())"
   ]
  },
  {
   "cell_type": "markdown",
   "metadata": {},
   "source": [
    "### Feature Importance Plot "
   ]
  },
  {
   "cell_type": "code",
   "execution_count": null,
   "metadata": {
    "scrolled": false
   },
   "outputs": [
    {
     "name": "stderr",
     "output_type": "stream",
     "text": [
      "/Users/takigawa/.pyenv/versions/anaconda3-5.1.0/lib/python3.6/site-packages/ipykernel_launcher.py:3: DeprecationWarning: \n",
      ".ix is deprecated. Please use\n",
      ".loc for label based indexing or\n",
      ".iloc for positional indexing\n",
      "\n",
      "See the documentation here:\n",
      "http://pandas.pydata.org/pandas-docs/stable/indexing.html#ix-indexer-is-deprecated\n",
      "  This is separate from the ipykernel package so we can avoid doing imports until\n",
      "/Users/takigawa/.pyenv/versions/anaconda3-5.1.0/lib/python3.6/site-packages/xgboost/core.py:587: FutureWarning: Series.base is deprecated and will be removed in a future version\n",
      "  if getattr(data, 'base', None) is not None and \\\n",
      "/Users/takigawa/.pyenv/versions/anaconda3-5.1.0/lib/python3.6/site-packages/xgboost/core.py:587: FutureWarning: Series.base is deprecated and will be removed in a future version\n",
      "  if getattr(data, 'base', None) is not None and \\\n"
     ]
    }
   ],
   "source": [
    "estimator=XGBRegressor(n_estimators=1500,max_depth=6,subsample=0.8,colsample_bytree=0.9,learning_rate=0.1,random_state=929,n_jobs = -1)\n",
    "train_test=shuffle(wgs_desc,random_state=929)\n",
    "cv=Cv_Pred_Expected(estimator=estimator,X=train_test.ix[:,:-1],y=train_test.ix[:,-1],cv=10)\n",
    "cv.cross_validation()\n",
    "cv.plot_pred_expected(save=False,title = '',filename='GB_WGS',titlesize = 11 ,range = [0,100])"
   ]
  },
  {
   "cell_type": "code",
   "execution_count": null,
   "metadata": {},
   "outputs": [],
   "source": [
    "cv.estimator"
   ]
  },
  {
   "cell_type": "code",
   "execution_count": null,
   "metadata": {
    "scrolled": false
   },
   "outputs": [],
   "source": [
    "plt.figure(figsize=(6, 4), dpi=300)\n",
    "cv.importance.mean(axis=1).sort_values(ascending=False).iloc[:20][::-1].plot(kind='barh',color='b')\n",
    "plt.savefig('output/fig7.png', format='png',bbox_inches='tight', dpi=300)\n",
    "plt.savefig('output/fig7.pdf', format='pdf',bbox_inches='tight', dpi=300)"
   ]
  },
  {
   "cell_type": "code",
   "execution_count": null,
   "metadata": {},
   "outputs": [],
   "source": [
    "common = []\n",
    "hoge = wgs.ix[:,'Pt':'Pd']\n",
    "count = 0\n",
    "for key, row in hoge.iterrows():\n",
    "    for i, v in hoge.iloc[count + 1:].iterrows():\n",
    "        temp = (np.array(row) > 1e-5)\n",
    "        temp2 = (np.array(v) > 1e-5)\n",
    "        val = (temp * temp2).sum()\n",
    "        common.append(val)\n",
    "        \n",
    "    count = count + 1"
   ]
  },
  {
   "cell_type": "code",
   "execution_count": null,
   "metadata": {},
   "outputs": [],
   "source": [
    "import matplotlib.ticker as tick\n",
    "\n",
    "hoge = dict(Counter(common))\n",
    "plt.figure(figsize=(2,3))\n",
    "plt.bar(hoge.keys(), hoge.values())\n",
    "plt.xlabel('# Common Elements')\n",
    "plt.ylabel('Frequency (log)')\n",
    "plt.yscale('log')\n",
    "plt.gca().get_xaxis().set_major_locator(tick.MaxNLocator(integer=True))\n",
    "plt.savefig('output/fig1_wgs.png',format='png', bbox_inches='tight',dpi=300)\n",
    "plt.savefig('output/fig1_wgs.pdf',format='pdf', bbox_inches='tight',dpi=300)"
   ]
  },
  {
   "cell_type": "code",
   "execution_count": null,
   "metadata": {},
   "outputs": [],
   "source": [
    "wgs_orig = pd.read_excel('Knowledge extraction for water gas shift reaction.xlsx',index_col=0,header=8)\n",
    "wgs_orig = wgs_orig.ix[:,2:].drop(\"YSZ\",axis=1)\n",
    "\n",
    "dat = (wgs_orig.ix[:,:'Pd'] > 0).sum(axis=0).sort_values()\n",
    "plt.figure(figsize=(12,6))\n",
    "dat.plot(kind='bar',color='blue')\n",
    "plt.ylabel('Number of occurences')\n",
    "plt.title(\"WGS: Frequency of all elements\")\n",
    "#plt.savefig('atomfrequency_wgs.png',format='png', bbox_inches='tight',dpi=300)\n",
    "#plt.savefig('atomfrequency_wgs.pdf',format='pdf', bbox_inches='tight',dpi=300)"
   ]
  },
  {
   "cell_type": "markdown",
   "metadata": {},
   "source": [
    "### make barplot which shows each learning machines's prediction errror and its std respectively"
   ]
  },
  {
   "cell_type": "code",
   "execution_count": null,
   "metadata": {},
   "outputs": [],
   "source": [
    "def crossvalid(xx,yy,model,cv,txt):\n",
    "    #mse = cross_validate(model, xx, yy, cv=cv, scoring='neg_mean_squared_error',return_train_score=True)\n",
    "    cv = Cv_Pred_Expected(estimator=model,X=xx,y=yy,cv=10,redc = True)\n",
    "    cv.cross_validation()\n",
    "    #tes_rmse = (np.sqrt(-mse['test_score'])).mean()\n",
    "    #tes_std = (np.sqrt(-mse['test_score'])).std()\n",
    "    #trn_rmse = (np.sqrt(-mse['train_score'])).mean()\n",
    "    #trn_std = (np.sqrt(-mse['train_score'])).std()\n",
    "    tes_rmse = cv.rmse\n",
    "    tes_std = cv.std\n",
    "    trn_rmse = cv.rmse_train\n",
    "    trn_std = cv.std_train\n",
    "    print()\n",
    "    print(\"[%s] RMSE %1.3f (STD: %1.3f) ... test\" % (txt,tes_rmse,tes_std))\n",
    "    print(\"[%s] RMSE %1.3f (STD: %1.3f) ... train\" % (txt,trn_rmse,trn_std))\n",
    "    ret_obj = {}\n",
    "    ret_obj['tes_mean'] = tes_rmse\n",
    "    ret_obj['tes_sd']   = tes_std \n",
    "    ret_obj['trn_mean'] = trn_rmse\n",
    "    ret_obj['trn_sd']   = trn_std \n",
    "    return ret_obj"
   ]
  },
  {
   "cell_type": "code",
   "execution_count": null,
   "metadata": {},
   "outputs": [],
   "source": [
    "logparams1 = [1.0, 1e-1, 1e-2, 1e-3, 1e-4, 1e-5]\n",
    "logparams2 = [1.0, 1e1, 1e2, 1e3, 1e4]"
   ]
  },
  {
   "cell_type": "markdown",
   "metadata": {},
   "source": [
    "### 組成のみ\n"
   ]
  },
  {
   "cell_type": "code",
   "execution_count": null,
   "metadata": {},
   "outputs": [],
   "source": [
    "comppro = list(wgs.ix[:,:'Pd'].columns)\n",
    "wgs_comp = wgs.ix[:,comppro + ['CO Conversion']]"
   ]
  },
  {
   "cell_type": "code",
   "execution_count": null,
   "metadata": {},
   "outputs": [],
   "source": [
    "rmsewgs_comp = {}"
   ]
  },
  {
   "cell_type": "code",
   "execution_count": null,
   "metadata": {},
   "outputs": [],
   "source": [
    "data = shuffle(wgs_comp, random_state=929)"
   ]
  },
  {
   "cell_type": "code",
   "execution_count": null,
   "metadata": {
    "scrolled": true
   },
   "outputs": [],
   "source": [
    "model = RandomForestRegressor(n_estimators=1500,max_depth=None,random_state=929,n_jobs=-1)\n",
    "rmsewgs_comp['RFR'] = crossvalid(data.ix[:,:-1], data.ix[:,-1],model,10,'RFR')"
   ]
  },
  {
   "cell_type": "code",
   "execution_count": null,
   "metadata": {},
   "outputs": [],
   "source": [
    "model = ExtraTreesRegressor(n_estimators=1500,max_depth=None,random_state=929,n_jobs=-1)\n",
    "rmsewgs_comp['ETR'] = crossvalid(data.ix[:,:-1], data.ix[:,-1],model,10,'ETR')"
   ]
  },
  {
   "cell_type": "code",
   "execution_count": null,
   "metadata": {},
   "outputs": [],
   "source": [
    "depth = [6,7,8]\n",
    "subsample = [0.8,0.9,1]\n",
    "colsample = [0.8,0.9,1]\n",
    "learn = [0.1,0.05]"
   ]
  },
  {
   "cell_type": "code",
   "execution_count": null,
   "metadata": {},
   "outputs": [],
   "source": [
    "cvmodel_wgs= grid_search.GridSearchCV(\n",
    "    XGBRegressor(n_estimators=1500, random_state = 929), param_grid={\"max_depth\": depth, \"subsample\": subsample, \"colsample_bytree\":colsample,\"learning_rate\":learn})\n",
    "cvmodel_wgs.fit(data.ix[:,:-1],data.ix[:,-1])"
   ]
  },
  {
   "cell_type": "code",
   "execution_count": null,
   "metadata": {},
   "outputs": [],
   "source": [
    "cvdepth = cvmodel_wgs.best_params_['max_depth']\n",
    "cvsubsample = cvmodel_wgs.best_params_['subsample']\n",
    "cvcolsumple = cvmodel_wgs.best_params_['colsample_bytree']\n",
    "cvlearn = cvmodel_wgs.best_params_['learning_rate']\n",
    "print(cvdepth,cvsubsample,cvcolsumple,cvlearn)"
   ]
  },
  {
   "cell_type": "code",
   "execution_count": null,
   "metadata": {},
   "outputs": [],
   "source": [
    "model = XGBRegressor(n_estimators=1500,max_depth=6,subsample=0.8,colsample_bytree=0.8,learning_rate=0.05,random_state=929,n_jobs = -1)\n",
    "rmsewgs_comp['XGB'] = crossvalid(data.ix[:,:-1], data.ix[:,-1],model,10,'XGB')"
   ]
  },
  {
   "cell_type": "markdown",
   "metadata": {},
   "source": [
    "### 組成+実験環境\n"
   ]
  },
  {
   "cell_type": "code",
   "execution_count": null,
   "metadata": {},
   "outputs": [],
   "source": [
    "rmsewgs_orig = {}"
   ]
  },
  {
   "cell_type": "code",
   "execution_count": null,
   "metadata": {},
   "outputs": [],
   "source": [
    "data = shuffle(wgs, random_state=929)"
   ]
  },
  {
   "cell_type": "code",
   "execution_count": null,
   "metadata": {
    "scrolled": true
   },
   "outputs": [],
   "source": [
    "model = RandomForestRegressor(n_estimators=1500,max_depth=None,random_state=929,n_jobs=-1)\n",
    "rmsewgs_orig['RFR'] = crossvalid(data.ix[:,:-1], data.ix[:,-1],model,10,'RFR')"
   ]
  },
  {
   "cell_type": "code",
   "execution_count": null,
   "metadata": {},
   "outputs": [],
   "source": [
    "model = ExtraTreesRegressor(n_estimators=1500,max_depth=None,random_state=929,n_jobs=-1)\n",
    "rmsewgs_orig['ETR'] = crossvalid(data.ix[:,:-1], data.ix[:,-1],model,10,'ETR')"
   ]
  },
  {
   "cell_type": "code",
   "execution_count": null,
   "metadata": {},
   "outputs": [],
   "source": [
    "depth = [6,7,8]\n",
    "subsample = [0.8,0.9,1]\n",
    "colsample = [0.8,0.9,1]\n",
    "learn = [0.1,0.05]"
   ]
  },
  {
   "cell_type": "code",
   "execution_count": null,
   "metadata": {},
   "outputs": [],
   "source": [
    "cvmodel_wgs= grid_search.GridSearchCV(\n",
    "    XGBRegressor(n_estimators=1500, random_state = 929), param_grid={\"max_depth\": depth, \"subsample\": subsample, \"colsample_bytree\":colsample,\"learning_rate\":learn})\n",
    "cvmodel_wgs.fit(data.ix[:,:-1],data.ix[:,-1])\n",
    "cvdepth = cvmodel_wgs.best_params_['max_depth']\n",
    "cvsubsample = cvmodel_wgs.best_params_['subsample']\n",
    "cvcolsumple = cvmodel_wgs.best_params_['colsample_bytree']\n",
    "cvlearn = cvmodel_wgs.best_params_['learning_rate']"
   ]
  },
  {
   "cell_type": "code",
   "execution_count": null,
   "metadata": {},
   "outputs": [],
   "source": [
    "model = XGBRegressor(n_estimators=1500,max_depth=7,subsample=0.8,colsample_bytree=1,learning_rate=0.1,random_state=929,n_jobs = -1)\n",
    "rmsewgs_orig['GB'] = crossvalid(data.ix[:,:-1], data.ix[:,-1],model,10,'GB')"
   ]
  },
  {
   "cell_type": "markdown",
   "metadata": {},
   "source": [
    "### 組成+実験環境+元素特徴"
   ]
  },
  {
   "cell_type": "code",
   "execution_count": null,
   "metadata": {},
   "outputs": [],
   "source": [
    "rmsewgs = {}"
   ]
  },
  {
   "cell_type": "code",
   "execution_count": null,
   "metadata": {},
   "outputs": [],
   "source": [
    "data = shuffle(wgs_desc, random_state=929)"
   ]
  },
  {
   "cell_type": "code",
   "execution_count": null,
   "metadata": {
    "scrolled": true
   },
   "outputs": [],
   "source": [
    "model = RandomForestRegressor(n_estimators=1500,max_depth=None,random_state=929,n_jobs=-1)\n",
    "rmsewgs['RFR'] = crossvalid(data.ix[:,:-1], data.ix[:,-1],model,10,'RFR')"
   ]
  },
  {
   "cell_type": "code",
   "execution_count": null,
   "metadata": {
    "scrolled": true
   },
   "outputs": [],
   "source": [
    "model = ExtraTreesRegressor(n_estimators=1500,max_depth=None,random_state=929,n_jobs=-1)\n",
    "rmsewgs['ETR'] = crossvalid(data.ix[:,:-1], data.ix[:,-1],model,10,'ETR')"
   ]
  },
  {
   "cell_type": "code",
   "execution_count": null,
   "metadata": {},
   "outputs": [],
   "source": [
    "depth = [6,7,8]\n",
    "subsample = [0.8,0.9,1]\n",
    "colsample = [0.8,0.9,1]\n",
    "learn = [0.1,0.05]"
   ]
  },
  {
   "cell_type": "code",
   "execution_count": null,
   "metadata": {},
   "outputs": [],
   "source": [
    "cvmodel_wgs= grid_search.GridSearchCV(\n",
    "    XGBRegressor(n_estimators=1500, random_state=929), param_grid={\"max_depth\": depth, \"subsample\": subsample, \"colsample_bytree\":colsample,\"learning_rate\":learn})\n",
    "cvmodel_wgs.fit(data.ix[:,:-1],data.ix[:,-1])\n",
    "cvdepth = cvmodel_wgs.best_params_['max_depth']\n",
    "cvsubsample = cvmodel_wgs.best_params_['subsample']\n",
    "cvcolsumple = cvmodel_wgs.best_params_['colsample_bytree']\n",
    "cvlearn = cvmodel_wgs.best_params_['learning_rate']"
   ]
  },
  {
   "cell_type": "code",
   "execution_count": null,
   "metadata": {},
   "outputs": [],
   "source": [
    "model = XGBRegressor(n_estimators=1500,max_depth=6,subsample=0.8,colsample_bytree=0.9,learning_rate=0.1,random_state=929,n_jobs = -1)\n",
    "rmsewgs['XGB'] = crossvalid(data.ix[:,:-1], data.ix[:,-1],model,10,'XGB')"
   ]
  },
  {
   "cell_type": "code",
   "execution_count": null,
   "metadata": {},
   "outputs": [],
   "source": []
  },
  {
   "cell_type": "code",
   "execution_count": null,
   "metadata": {},
   "outputs": [],
   "source": []
  }
 ],
 "metadata": {
  "anaconda-cloud": {},
  "kernelspec": {
   "display_name": "Python 3",
   "language": "python",
   "name": "python3"
  },
  "language_info": {
   "codemirror_mode": {
    "name": "ipython",
    "version": 3
   },
   "file_extension": ".py",
   "mimetype": "text/x-python",
   "name": "python",
   "nbconvert_exporter": "python",
   "pygments_lexer": "ipython3",
   "version": "3.6.4"
  },
  "toc": {
   "colors": {
    "hover_highlight": "#DAA520",
    "navigate_num": "#000000",
    "navigate_text": "#333333",
    "running_highlight": "#FF0000",
    "selected_highlight": "#FFD700",
    "sidebar_border": "#EEEEEE",
    "wrapper_background": "#FFFFFF"
   },
   "moveMenuLeft": true,
   "nav_menu": {
    "height": "191px",
    "width": "252px"
   },
   "navigate_menu": true,
   "number_sections": false,
   "sideBar": true,
   "threshold": 4,
   "toc_cell": false,
   "toc_section_display": "block",
   "toc_window_display": false,
   "widenNotebook": false
  },
  "varInspector": {
   "cols": {
    "lenName": 16,
    "lenType": 16,
    "lenVar": 40
   },
   "kernels_config": {
    "python": {
     "delete_cmd_postfix": "",
     "delete_cmd_prefix": "del ",
     "library": "var_list.py",
     "varRefreshCmd": "print(var_dic_list())"
    },
    "r": {
     "delete_cmd_postfix": ") ",
     "delete_cmd_prefix": "rm(",
     "library": "var_list.r",
     "varRefreshCmd": "cat(var_dic_list()) "
    }
   },
   "types_to_exclude": [
    "module",
    "function",
    "builtin_function_or_method",
    "instance",
    "_Feature"
   ],
   "window_display": false
  }
 },
 "nbformat": 4,
 "nbformat_minor": 1
}

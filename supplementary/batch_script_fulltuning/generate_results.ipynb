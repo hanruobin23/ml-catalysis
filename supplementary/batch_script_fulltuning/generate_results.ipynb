{
 "cells": [
  {
   "cell_type": "markdown",
   "metadata": {},
   "source": [
    "# batch script for reproducibility"
   ]
  },
  {
   "cell_type": "markdown",
   "metadata": {},
   "source": [
    "jupyter nbconvert --to script generate_results.ipynb"
   ]
  },
  {
   "cell_type": "code",
   "execution_count": 1,
   "metadata": {},
   "outputs": [],
   "source": [
    "import matplotlib\n",
    "matplotlib.use('Agg')\n",
    "from matplotlib.backends.backend_pdf import PdfPages\n",
    "from matplotlib.colors import LinearSegmentedColormap as lsc\n",
    "from matplotlib import pyplot as plt"
   ]
  },
  {
   "cell_type": "code",
   "execution_count": 2,
   "metadata": {
    "scrolled": false
   },
   "outputs": [],
   "source": [
    "import pandas as pd\n",
    "import numpy as np\n",
    "import scipy\n",
    "import sklearn \n",
    "import xgboost\n",
    "\n",
    "import math\n",
    "import random \n",
    "import re\n",
    "import itertools\n",
    "\n",
    "from collections import Counter \n",
    "\n",
    "from scipy.stats import binom_test\n",
    "from scipy.stats import norm\n",
    "\n",
    "from functools import partial\n",
    "\n",
    "from sklearn.preprocessing import OneHotEncoder\n",
    "from sklearn.utils import shuffle\n",
    "from sklearn.preprocessing import PolynomialFeatures as plf\n",
    "from sklearn import preprocessing\n",
    "\n",
    "from sklearn.model_selection import cross_val_score\n",
    "from sklearn.model_selection import cross_val_predict \n",
    "from sklearn.model_selection import cross_validate\n",
    "from sklearn.model_selection import train_test_split\n",
    "from sklearn.model_selection import StratifiedShuffleSplit\n",
    "from sklearn.model_selection import GridSearchCV\n",
    "\n",
    "from sklearn.metrics import mean_squared_error as mse\n",
    "from sklearn.metrics import r2_score\n",
    "\n",
    "from sklearn.ensemble import GradientBoostingRegressor\n",
    "from sklearn.ensemble import RandomForestRegressor\n",
    "from sklearn.ensemble import ExtraTreesRegressor\n",
    "\n",
    "from sklearn.kernel_ridge import KernelRidge\n",
    "from sklearn.svm import SVR\n",
    "from sklearn.linear_model import Lasso \n",
    "from sklearn.linear_model import Ridge \n",
    "from xgboost import XGBRegressor\n",
    "\n",
    "from ksuzuki_pylib import *"
   ]
  },
  {
   "cell_type": "code",
   "execution_count": 3,
   "metadata": {},
   "outputs": [
    {
     "name": "stdout",
     "output_type": "stream",
     "text": [
      "sklearn: 0.21.0\n",
      "xgboost: 0.82\n",
      "pandas: 0.24.2\n",
      "numpy: 1.16.3\n",
      "scipy: 1.2.1\n",
      "matplotlib: 3.0.3\n"
     ]
    }
   ],
   "source": [
    "print('sklearn:', sklearn.__version__)\n",
    "print('xgboost:', xgboost.__version__)\n",
    "print('pandas:', pd.__version__)\n",
    "print('numpy:', np.__version__)\n",
    "print('scipy:', scipy.__version__)\n",
    "print('matplotlib:', matplotlib.__version__)"
   ]
  },
  {
   "cell_type": "code",
   "execution_count": 4,
   "metadata": {},
   "outputs": [],
   "source": [
    "np.random.seed(0)\n",
    "random.seed(0)"
   ]
  },
  {
   "cell_type": "code",
   "execution_count": 5,
   "metadata": {},
   "outputs": [],
   "source": [
    "# xgb ranges\n",
    "range_depth = [6, 7, 8]\n",
    "range_subsample = [0.8, 0.9, 1]\n",
    "range_colsample = [0.8, 0.9, 1]\n",
    "range_lr = [0.1, 0.05]"
   ]
  },
  {
   "cell_type": "code",
   "execution_count": 6,
   "metadata": {},
   "outputs": [],
   "source": [
    "# ranges\n",
    "logparams1 = [1e-2, 1e-1, 1e0, 1e1, 1e2]\n",
    "logparams2 = [1.0, 1e1, 1e2, 1e3, 1e4, 1e5]\n",
    "logparams3 = [1.0, 1e-1, 1e-2, 1e-3, 1e-4, 1e-5]\n",
    "logparams4 = [1.0, 1e-1, 1e-2, 1e-3, 1e-4, 1e-5, 1e-5, 1e-6, 1e-7, 1e-8, 1e-9, 1e-10]\n",
    "\n",
    "range_lasso = logparams1\n",
    "range_ridge = logparams1\n",
    "range_krr_alpha = logparams3\n",
    "range_krr_gamma = logparams3\n",
    "range_svr_C = logparams2\n",
    "range_svr_gamma = logparams4\n",
    "range_svr_epsilon = logparams1"
   ]
  },
  {
   "cell_type": "code",
   "execution_count": 7,
   "metadata": {},
   "outputs": [],
   "source": [
    "# for debugging\n",
    "debug_run = False\n",
    "#debug_run = True\n",
    "if debug_run:\n",
    "    # xgb ranges\n",
    "    range_depth = [3,4]\n",
    "    range_subsample = [0.9, 1]\n",
    "    range_colsample = [0.9, 1]\n",
    "    range_lr = [0.1, 0.05]\n",
    "    \n",
    "    # ranges\n",
    "    logparams1 = [1e-2, 1e-1]\n",
    "    logparams2 = [1.0, 1e1]\n",
    "    logparams3 = [1.0, 1e-1]\n",
    "    logparams4 = [1.0, 1e-1]\n",
    "    \n",
    "    range_lasso = logparams1\n",
    "    range_ridge = logparams1\n",
    "    range_krr_alpha = logparams3\n",
    "    range_krr_gamma = logparams3\n",
    "    range_svr_C = logparams2\n",
    "    range_svr_gamma = logparams4\n",
    "    range_svr_epsilon = logparams1"
   ]
  },
  {
   "cell_type": "code",
   "execution_count": 8,
   "metadata": {},
   "outputs": [],
   "source": [
    "# OCM\n",
    "ntree = 500\n",
    "if debug_run:\n",
    "    ntree = 10\n",
    "    \n",
    "# Lasso\n",
    "cv_lasso = GridSearchCV(\n",
    "    Lasso(random_state=929), cv=5, \n",
    "    param_grid={\"alpha\": range_lasso})\n",
    "\n",
    "# Ridge\n",
    "cv_ridge = GridSearchCV(\n",
    "    Ridge(random_state=929), cv=5,\n",
    "    param_grid={\"alpha\": range_ridge})\n",
    "\n",
    "# KRR\n",
    "cv_krr = GridSearchCV(\n",
    "    KernelRidge(kernel='rbf'), cv=5,\n",
    "    param_grid={\"alpha\": range_krr_alpha, \n",
    "                \"gamma\": range_krr_gamma})\n",
    "\n",
    "# SVR\n",
    "cv_svr = GridSearchCV(\n",
    "    SVR(kernel='rbf'), cv=5,\n",
    "    param_grid={\"C\": range_svr_C, \n",
    "                \"gamma\": range_svr_gamma, \n",
    "                \"epsilon\": range_svr_epsilon})\n",
    "\n",
    "# XGB\n",
    "cv_xgb = GridSearchCV(\n",
    "    XGBRegressor(random_state=929,\n",
    "                 n_estimators=ntree), cv=5,\n",
    "    param_grid={\"max_depth\": range_depth, \n",
    "                \"subsample\": range_subsample, \n",
    "                \"colsample_bytree\": range_colsample,\n",
    "                \"learning_rate\": range_lr})"
   ]
  },
  {
   "cell_type": "markdown",
   "metadata": {},
   "source": [
    "## OCM data"
   ]
  },
  {
   "cell_type": "code",
   "execution_count": 9,
   "metadata": {},
   "outputs": [],
   "source": [
    "ocm = pd.read_csv(\"input/OCM_matrix.csv\").drop(['Unnamed: 0'], axis=1)\n",
    "\n",
    "ocm_desc = pd.read_csv(\"input/OCM_matrix_desc.csv\")\n",
    "ind = ocm_desc['Unnamed: 0']\n",
    "ocm_desc.index = ind\n",
    "ocm_desc = ocm_desc.drop(['Unnamed: 0'], axis=1)\n",
    "\n",
    "#exclude cat which has 'Th' in its compser\n",
    "ind = ocm['Th'] == 0\n",
    "ocm = ocm[ind]\n",
    "\n",
    "#exclude data which has over 5 metals in his component\n",
    "ind = (ocm.loc[:,:'Zr']>0).sum(axis=1)\n",
    "ind = ind < 5\n",
    "ocm = ocm.loc[ind]\n",
    "\n",
    "ind = (ocm_desc.loc[:,:'Zr']>0).sum(axis=1)\n",
    "ind = ind < 5\n",
    "ocm_desc = ocm_desc.loc[ind]\n",
    "\n",
    "ocm = ocm.drop(['Support_Co'],axis=1)\n",
    "ocm_desc = ocm_desc.drop(['Support_Co'],axis=1)\n",
    "\n",
    "# rename columns\n",
    "sup = ocm.loc[:,'Support_Zr':'Support_Si'].columns\n",
    "prom = ocm.loc[:,'Promotor_B':'Promotor_S'].columns\n",
    "comp = ocm.loc[:,:'Zr'].columns\n",
    "cond = ocm.loc[:,'Temperature, K':'P total, bar'].columns\n",
    "prep = ocm.loc[:,'Impregnation':'Therm.decomp.'].columns\n",
    "\n",
    "#exclude experimental condition feature\n",
    "nocond = list(comp) + list(sup)\n",
    "ocm_nocond = ocm[nocond]\n",
    "ocm_nocond = pd.concat([ocm_nocond,ocm.iloc[:,-1]], axis=1)"
   ]
  },
  {
   "cell_type": "code",
   "execution_count": 10,
   "metadata": {},
   "outputs": [],
   "source": [
    "desc = pd.read_csv('input/Descriptors.csv',skiprows = [0],index_col='symbol').drop(['Unnamed: 0',\n",
    "                                                                               'name',\n",
    "                                                                               'ionic radius',\n",
    "                                                                               'covalent radius',\n",
    "                                                                               'VdW radius',\n",
    "                                                                               'crystal radius',\n",
    "                                                                               'a x 106 ',\n",
    "                                                                               'Heat capacity ',\n",
    "                                                                               'l',\n",
    "                                                                               'electron affinity ',\n",
    "                                                                               'VE',\n",
    "                                                                               'Surface energy '],axis=1)\n",
    "desc = desc.loc[ocm.loc[:,:'Zr'].columns,]\n",
    "desc = desc.fillna(desc.mean())"
   ]
  },
  {
   "cell_type": "code",
   "execution_count": 11,
   "metadata": {},
   "outputs": [
    {
     "name": "stdout",
     "output_type": "stream",
     "text": [
      "Counter({2: 779, 3: 578, 1: 345, 4: 131})\n"
     ]
    }
   ],
   "source": [
    "# num of elements in each multicomponent catalyst\n",
    "print(Counter((ocm.loc[:,:'Zr']>0).sum(axis=1)))"
   ]
  },
  {
   "cell_type": "markdown",
   "metadata": {},
   "source": [
    "## Fig.5"
   ]
  },
  {
   "cell_type": "code",
   "execution_count": 12,
   "metadata": {},
   "outputs": [],
   "source": [
    "def scatter(pred,exp,xlabel='Yield_ex(%)',ylabel='Yield_pr(%)',Title='',col='blue',wt_value=True,save=False):\n",
    "    range = [ocm.iloc[:,-1].min() ,ocm.iloc[:,-1].max() ]\n",
    "    val0 = (pred - exp)**2\n",
    "    str0 = 'RMSE: %1.3f' % math.sqrt(val0.mean())\n",
    "    plt.figure(figsize=(3, 3), dpi=100)\n",
    "    plt.plot(range, range, color='0.5')\n",
    "    plt.scatter(exp,pred, s=10,\n",
    "                facecolors=col, edgecolors=col, alpha=0.4)\n",
    "    plt.xlim(range[0], range[1])\n",
    "    plt.ylim(range[0], range[1])\n",
    "    if wt_value:\n",
    "        plt.text(range[1] - 0.97 * (range[1] - range[0]),\n",
    "                 range[1] - 0.05 * (range[1] - range[0]), str0, fontsize=8.5)\n",
    "\n",
    "    plt.xlabel(xlabel, fontsize=14)\n",
    "    plt.ylabel(ylabel, fontsize=14)\n",
    "    plt.title(Title, fontsize=15)\n",
    "    #plt.legend(loc='lower right')\n",
    "\n",
    "    if save :\n",
    "        plt.savefig(Title.replace(' ','_') + 'one_shot' + '.png', format='png',\n",
    "                    bbox_inches='tight', dpi=300)\n",
    "        plt.savefig(Title.replace(' ','_') + 'one_shot' + '.pdf', format='pdf',\n",
    "                    bbox_inches='tight', dpi=300)\n",
    "        plt.close()"
   ]
  },
  {
   "cell_type": "markdown",
   "metadata": {},
   "source": [
    "### ocm_nocond"
   ]
  },
  {
   "cell_type": "code",
   "execution_count": 13,
   "metadata": {},
   "outputs": [
    {
     "name": "stderr",
     "output_type": "stream",
     "text": [
      "/Users/takigawa/.pyenv/versions/anaconda3-5.1.0/lib/python3.6/site-packages/sklearn/model_selection/_split.py:1978: FutureWarning: The default value of cv will change from 3 to 5 in version 0.22. Specify it explicitly to silence this warning.\n",
      "  warnings.warn(CV_WARNING, FutureWarning)\n",
      "/Users/takigawa/.pyenv/versions/anaconda3-5.1.0/lib/python3.6/site-packages/xgboost/core.py:587: FutureWarning: Series.base is deprecated and will be removed in a future version\n",
      "  if getattr(data, 'base', None) is not None and \\\n",
      "/Users/takigawa/.pyenv/versions/anaconda3-5.1.0/lib/python3.6/site-packages/xgboost/core.py:587: FutureWarning: Series.base is deprecated and will be removed in a future version\n",
      "  if getattr(data, 'base', None) is not None and \\\n",
      "/Users/takigawa/.pyenv/versions/anaconda3-5.1.0/lib/python3.6/site-packages/xgboost/core.py:587: FutureWarning: Series.base is deprecated and will be removed in a future version\n",
      "  if getattr(data, 'base', None) is not None and \\\n",
      "/Users/takigawa/.pyenv/versions/anaconda3-5.1.0/lib/python3.6/site-packages/xgboost/core.py:587: FutureWarning: Series.base is deprecated and will be removed in a future version\n",
      "  if getattr(data, 'base', None) is not None and \\\n",
      "/Users/takigawa/.pyenv/versions/anaconda3-5.1.0/lib/python3.6/site-packages/xgboost/core.py:587: FutureWarning: Series.base is deprecated and will be removed in a future version\n",
      "  if getattr(data, 'base', None) is not None and \\\n",
      "/Users/takigawa/.pyenv/versions/anaconda3-5.1.0/lib/python3.6/site-packages/xgboost/core.py:587: FutureWarning: Series.base is deprecated and will be removed in a future version\n",
      "  if getattr(data, 'base', None) is not None and \\\n",
      "/Users/takigawa/.pyenv/versions/anaconda3-5.1.0/lib/python3.6/site-packages/xgboost/core.py:587: FutureWarning: Series.base is deprecated and will be removed in a future version\n",
      "  if getattr(data, 'base', None) is not None and \\\n",
      "/Users/takigawa/.pyenv/versions/anaconda3-5.1.0/lib/python3.6/site-packages/xgboost/core.py:587: FutureWarning: Series.base is deprecated and will be removed in a future version\n",
      "  if getattr(data, 'base', None) is not None and \\\n",
      "/Users/takigawa/.pyenv/versions/anaconda3-5.1.0/lib/python3.6/site-packages/xgboost/core.py:587: FutureWarning: Series.base is deprecated and will be removed in a future version\n",
      "  if getattr(data, 'base', None) is not None and \\\n",
      "/Users/takigawa/.pyenv/versions/anaconda3-5.1.0/lib/python3.6/site-packages/xgboost/core.py:587: FutureWarning: Series.base is deprecated and will be removed in a future version\n",
      "  if getattr(data, 'base', None) is not None and \\\n",
      "/Users/takigawa/.pyenv/versions/anaconda3-5.1.0/lib/python3.6/site-packages/xgboost/core.py:587: FutureWarning: Series.base is deprecated and will be removed in a future version\n",
      "  if getattr(data, 'base', None) is not None and \\\n",
      "/Users/takigawa/.pyenv/versions/anaconda3-5.1.0/lib/python3.6/site-packages/xgboost/core.py:587: FutureWarning: Series.base is deprecated and will be removed in a future version\n",
      "  if getattr(data, 'base', None) is not None and \\\n",
      "/Users/takigawa/.pyenv/versions/anaconda3-5.1.0/lib/python3.6/site-packages/xgboost/core.py:587: FutureWarning: Series.base is deprecated and will be removed in a future version\n",
      "  if getattr(data, 'base', None) is not None and \\\n",
      "/Users/takigawa/.pyenv/versions/anaconda3-5.1.0/lib/python3.6/site-packages/xgboost/core.py:587: FutureWarning: Series.base is deprecated and will be removed in a future version\n",
      "  if getattr(data, 'base', None) is not None and \\\n",
      "/Users/takigawa/.pyenv/versions/anaconda3-5.1.0/lib/python3.6/site-packages/xgboost/core.py:587: FutureWarning: Series.base is deprecated and will be removed in a future version\n",
      "  if getattr(data, 'base', None) is not None and \\\n",
      "/Users/takigawa/.pyenv/versions/anaconda3-5.1.0/lib/python3.6/site-packages/xgboost/core.py:587: FutureWarning: Series.base is deprecated and will be removed in a future version\n",
      "  if getattr(data, 'base', None) is not None and \\\n",
      "/Users/takigawa/.pyenv/versions/anaconda3-5.1.0/lib/python3.6/site-packages/xgboost/core.py:587: FutureWarning: Series.base is deprecated and will be removed in a future version\n",
      "  if getattr(data, 'base', None) is not None and \\\n",
      "/Users/takigawa/.pyenv/versions/anaconda3-5.1.0/lib/python3.6/site-packages/xgboost/core.py:587: FutureWarning: Series.base is deprecated and will be removed in a future version\n",
      "  if getattr(data, 'base', None) is not None and \\\n",
      "/Users/takigawa/.pyenv/versions/anaconda3-5.1.0/lib/python3.6/site-packages/xgboost/core.py:587: FutureWarning: Series.base is deprecated and will be removed in a future version\n",
      "  if getattr(data, 'base', None) is not None and \\\n",
      "/Users/takigawa/.pyenv/versions/anaconda3-5.1.0/lib/python3.6/site-packages/xgboost/core.py:587: FutureWarning: Series.base is deprecated and will be removed in a future version\n",
      "  if getattr(data, 'base', None) is not None and \\\n",
      "/Users/takigawa/.pyenv/versions/anaconda3-5.1.0/lib/python3.6/site-packages/xgboost/core.py:587: FutureWarning: Series.base is deprecated and will be removed in a future version\n",
      "  if getattr(data, 'base', None) is not None and \\\n",
      "/Users/takigawa/.pyenv/versions/anaconda3-5.1.0/lib/python3.6/site-packages/xgboost/core.py:587: FutureWarning: Series.base is deprecated and will be removed in a future version\n",
      "  if getattr(data, 'base', None) is not None and \\\n",
      "/Users/takigawa/.pyenv/versions/anaconda3-5.1.0/lib/python3.6/site-packages/xgboost/core.py:587: FutureWarning: Series.base is deprecated and will be removed in a future version\n",
      "  if getattr(data, 'base', None) is not None and \\\n",
      "/Users/takigawa/.pyenv/versions/anaconda3-5.1.0/lib/python3.6/site-packages/xgboost/core.py:587: FutureWarning: Series.base is deprecated and will be removed in a future version\n",
      "  if getattr(data, 'base', None) is not None and \\\n",
      "/Users/takigawa/.pyenv/versions/anaconda3-5.1.0/lib/python3.6/site-packages/xgboost/core.py:587: FutureWarning: Series.base is deprecated and will be removed in a future version\n",
      "  if getattr(data, 'base', None) is not None and \\\n",
      "/Users/takigawa/.pyenv/versions/anaconda3-5.1.0/lib/python3.6/site-packages/xgboost/core.py:587: FutureWarning: Series.base is deprecated and will be removed in a future version\n",
      "  if getattr(data, 'base', None) is not None and \\\n",
      "/Users/takigawa/.pyenv/versions/anaconda3-5.1.0/lib/python3.6/site-packages/xgboost/core.py:587: FutureWarning: Series.base is deprecated and will be removed in a future version\n",
      "  if getattr(data, 'base', None) is not None and \\\n",
      "/Users/takigawa/.pyenv/versions/anaconda3-5.1.0/lib/python3.6/site-packages/xgboost/core.py:587: FutureWarning: Series.base is deprecated and will be removed in a future version\n",
      "  if getattr(data, 'base', None) is not None and \\\n",
      "/Users/takigawa/.pyenv/versions/anaconda3-5.1.0/lib/python3.6/site-packages/xgboost/core.py:587: FutureWarning: Series.base is deprecated and will be removed in a future version\n",
      "  if getattr(data, 'base', None) is not None and \\\n",
      "/Users/takigawa/.pyenv/versions/anaconda3-5.1.0/lib/python3.6/site-packages/xgboost/core.py:587: FutureWarning: Series.base is deprecated and will be removed in a future version\n",
      "  if getattr(data, 'base', None) is not None and \\\n",
      "/Users/takigawa/.pyenv/versions/anaconda3-5.1.0/lib/python3.6/site-packages/xgboost/core.py:587: FutureWarning: Series.base is deprecated and will be removed in a future version\n",
      "  if getattr(data, 'base', None) is not None and \\\n",
      "/Users/takigawa/.pyenv/versions/anaconda3-5.1.0/lib/python3.6/site-packages/xgboost/core.py:587: FutureWarning: Series.base is deprecated and will be removed in a future version\n",
      "  if getattr(data, 'base', None) is not None and \\\n",
      "/Users/takigawa/.pyenv/versions/anaconda3-5.1.0/lib/python3.6/site-packages/xgboost/core.py:587: FutureWarning: Series.base is deprecated and will be removed in a future version\n",
      "  if getattr(data, 'base', None) is not None and \\\n",
      "/Users/takigawa/.pyenv/versions/anaconda3-5.1.0/lib/python3.6/site-packages/xgboost/core.py:587: FutureWarning: Series.base is deprecated and will be removed in a future version\n",
      "  if getattr(data, 'base', None) is not None and \\\n",
      "/Users/takigawa/.pyenv/versions/anaconda3-5.1.0/lib/python3.6/site-packages/xgboost/core.py:587: FutureWarning: Series.base is deprecated and will be removed in a future version\n",
      "  if getattr(data, 'base', None) is not None and \\\n"
     ]
    },
    {
     "name": "stderr",
     "output_type": "stream",
     "text": [
      "/Users/takigawa/.pyenv/versions/anaconda3-5.1.0/lib/python3.6/site-packages/xgboost/core.py:587: FutureWarning: Series.base is deprecated and will be removed in a future version\n",
      "  if getattr(data, 'base', None) is not None and \\\n",
      "/Users/takigawa/.pyenv/versions/anaconda3-5.1.0/lib/python3.6/site-packages/xgboost/core.py:587: FutureWarning: Series.base is deprecated and will be removed in a future version\n",
      "  if getattr(data, 'base', None) is not None and \\\n",
      "/Users/takigawa/.pyenv/versions/anaconda3-5.1.0/lib/python3.6/site-packages/xgboost/core.py:587: FutureWarning: Series.base is deprecated and will be removed in a future version\n",
      "  if getattr(data, 'base', None) is not None and \\\n",
      "/Users/takigawa/.pyenv/versions/anaconda3-5.1.0/lib/python3.6/site-packages/xgboost/core.py:587: FutureWarning: Series.base is deprecated and will be removed in a future version\n",
      "  if getattr(data, 'base', None) is not None and \\\n",
      "/Users/takigawa/.pyenv/versions/anaconda3-5.1.0/lib/python3.6/site-packages/xgboost/core.py:587: FutureWarning: Series.base is deprecated and will be removed in a future version\n",
      "  if getattr(data, 'base', None) is not None and \\\n",
      "/Users/takigawa/.pyenv/versions/anaconda3-5.1.0/lib/python3.6/site-packages/xgboost/core.py:587: FutureWarning: Series.base is deprecated and will be removed in a future version\n",
      "  if getattr(data, 'base', None) is not None and \\\n",
      "/Users/takigawa/.pyenv/versions/anaconda3-5.1.0/lib/python3.6/site-packages/xgboost/core.py:587: FutureWarning: Series.base is deprecated and will be removed in a future version\n",
      "  if getattr(data, 'base', None) is not None and \\\n",
      "/Users/takigawa/.pyenv/versions/anaconda3-5.1.0/lib/python3.6/site-packages/xgboost/core.py:587: FutureWarning: Series.base is deprecated and will be removed in a future version\n",
      "  if getattr(data, 'base', None) is not None and \\\n",
      "/Users/takigawa/.pyenv/versions/anaconda3-5.1.0/lib/python3.6/site-packages/xgboost/core.py:587: FutureWarning: Series.base is deprecated and will be removed in a future version\n",
      "  if getattr(data, 'base', None) is not None and \\\n",
      "/Users/takigawa/.pyenv/versions/anaconda3-5.1.0/lib/python3.6/site-packages/xgboost/core.py:587: FutureWarning: Series.base is deprecated and will be removed in a future version\n",
      "  if getattr(data, 'base', None) is not None and \\\n",
      "/Users/takigawa/.pyenv/versions/anaconda3-5.1.0/lib/python3.6/site-packages/xgboost/core.py:587: FutureWarning: Series.base is deprecated and will be removed in a future version\n",
      "  if getattr(data, 'base', None) is not None and \\\n",
      "/Users/takigawa/.pyenv/versions/anaconda3-5.1.0/lib/python3.6/site-packages/xgboost/core.py:587: FutureWarning: Series.base is deprecated and will be removed in a future version\n",
      "  if getattr(data, 'base', None) is not None and \\\n",
      "/Users/takigawa/.pyenv/versions/anaconda3-5.1.0/lib/python3.6/site-packages/xgboost/core.py:587: FutureWarning: Series.base is deprecated and will be removed in a future version\n",
      "  if getattr(data, 'base', None) is not None and \\\n",
      "/Users/takigawa/.pyenv/versions/anaconda3-5.1.0/lib/python3.6/site-packages/xgboost/core.py:587: FutureWarning: Series.base is deprecated and will be removed in a future version\n",
      "  if getattr(data, 'base', None) is not None and \\\n",
      "/Users/takigawa/.pyenv/versions/anaconda3-5.1.0/lib/python3.6/site-packages/xgboost/core.py:588: FutureWarning: Series.base is deprecated and will be removed in a future version\n",
      "  data.base is not None and isinstance(data, np.ndarray) \\\n"
     ]
    },
    {
     "name": "stdout",
     "output_type": "stream",
     "text": [
      "4 1 0.9 0.05\n"
     ]
    }
   ],
   "source": [
    "cv_xgb.fit(ocm_nocond.iloc[:,:-1], ocm_nocond.iloc[:,-1])\n",
    "\n",
    "cvdepth = cv_xgb.best_params_['max_depth']\n",
    "cvsubsample = cv_xgb.best_params_['subsample']\n",
    "cvcolsample = cv_xgb.best_params_['colsample_bytree']\n",
    "cvlr = cv_xgb.best_params_['learning_rate']\n",
    "\n",
    "print(cvdepth, cvsubsample, cvcolsample, cvlr)"
   ]
  },
  {
   "cell_type": "code",
   "execution_count": 14,
   "metadata": {},
   "outputs": [
    {
     "name": "stdout",
     "output_type": "stream",
     "text": [
      "XGBRegressor(base_score=0.5, booster='gbtree', colsample_bylevel=1,\n",
      "             colsample_bytree=0.9, gamma=0, importance_type='gain',\n",
      "             learning_rate=0.05, max_delta_step=0, max_depth=4,\n",
      "             min_child_weight=1, missing=None, n_estimators=10, n_jobs=-1,\n",
      "             nthread=None, objective='reg:linear', random_state=929,\n",
      "             reg_alpha=0, reg_lambda=1, scale_pos_weight=1, seed=929,\n",
      "             silent=True, subsample=1)\n"
     ]
    }
   ],
   "source": [
    "estimator = XGBRegressor(n_estimators=ntree,\\\n",
    "                       max_depth=cvdepth,\\\n",
    "                       subsample=cvsubsample,\\\n",
    "                       colsample_bytree=cvcolsample,\\\n",
    "                       learning_rate=cvlr,\\\n",
    "                       random_state=929, seed=929, n_jobs=-1)\n",
    "print(estimator)\n",
    "\n",
    "best_xgb_ocmnocond = estimator"
   ]
  },
  {
   "cell_type": "code",
   "execution_count": 15,
   "metadata": {},
   "outputs": [],
   "source": [
    "train_test = shuffle(ocm_nocond, random_state=10)"
   ]
  },
  {
   "cell_type": "code",
   "execution_count": 16,
   "metadata": {},
   "outputs": [
    {
     "name": "stderr",
     "output_type": "stream",
     "text": [
      "/Users/takigawa/.pyenv/versions/anaconda3-5.1.0/lib/python3.6/site-packages/xgboost/core.py:587: FutureWarning: Series.base is deprecated and will be removed in a future version\n",
      "  if getattr(data, 'base', None) is not None and \\\n"
     ]
    },
    {
     "name": "stdout",
     "output_type": "stream",
     "text": [
      "RMSE_test: 8.329 STD_test: 0.499\n",
      "RMSE_train: 8.275 STD_train: 0.045\n",
      "Data size:(1833, 69)\n"
     ]
    }
   ],
   "source": [
    "cv = Cv_Pred_Expected(estimator=estimator,\\\n",
    "                      X=train_test.iloc[:,:-1],\\\n",
    "                      y=train_test.iloc[:,-1],\\\n",
    "                      cv=10)\n",
    "cv.cross_validation()"
   ]
  },
  {
   "cell_type": "code",
   "execution_count": 17,
   "metadata": {},
   "outputs": [
    {
     "name": "stdout",
     "output_type": "stream",
     "text": [
      "(1650, 69) (1650,)\n",
      "RMSE(Train): 8.277\n",
      "RMSE(Test): 8.308\n"
     ]
    },
    {
     "name": "stderr",
     "output_type": "stream",
     "text": [
      "/Users/takigawa/.pyenv/versions/anaconda3-5.1.0/lib/python3.6/site-packages/xgboost/core.py:587: FutureWarning: Series.base is deprecated and will be removed in a future version\n",
      "  if getattr(data, 'base', None) is not None and \\\n"
     ]
    }
   ],
   "source": [
    "cv.plot_pred_expected(save=True,\\\n",
    "                      title='',\\\n",
    "                      os_title='',\\\n",
    "                      titlesize = 11, \\\n",
    "                      filename='output/fig5_onlycomposition_',\n",
    "                      close=True)"
   ]
  },
  {
   "cell_type": "markdown",
   "metadata": {},
   "source": [
    "### ocm"
   ]
  },
  {
   "cell_type": "code",
   "execution_count": 18,
   "metadata": {},
   "outputs": [
    {
     "name": "stderr",
     "output_type": "stream",
     "text": [
      "/Users/takigawa/.pyenv/versions/anaconda3-5.1.0/lib/python3.6/site-packages/sklearn/model_selection/_split.py:1978: FutureWarning: The default value of cv will change from 3 to 5 in version 0.22. Specify it explicitly to silence this warning.\n",
      "  warnings.warn(CV_WARNING, FutureWarning)\n",
      "/Users/takigawa/.pyenv/versions/anaconda3-5.1.0/lib/python3.6/site-packages/xgboost/core.py:587: FutureWarning: Series.base is deprecated and will be removed in a future version\n",
      "  if getattr(data, 'base', None) is not None and \\\n",
      "/Users/takigawa/.pyenv/versions/anaconda3-5.1.0/lib/python3.6/site-packages/xgboost/core.py:587: FutureWarning: Series.base is deprecated and will be removed in a future version\n",
      "  if getattr(data, 'base', None) is not None and \\\n",
      "/Users/takigawa/.pyenv/versions/anaconda3-5.1.0/lib/python3.6/site-packages/xgboost/core.py:587: FutureWarning: Series.base is deprecated and will be removed in a future version\n",
      "  if getattr(data, 'base', None) is not None and \\\n",
      "/Users/takigawa/.pyenv/versions/anaconda3-5.1.0/lib/python3.6/site-packages/xgboost/core.py:587: FutureWarning: Series.base is deprecated and will be removed in a future version\n",
      "  if getattr(data, 'base', None) is not None and \\\n",
      "/Users/takigawa/.pyenv/versions/anaconda3-5.1.0/lib/python3.6/site-packages/xgboost/core.py:587: FutureWarning: Series.base is deprecated and will be removed in a future version\n",
      "  if getattr(data, 'base', None) is not None and \\\n",
      "/Users/takigawa/.pyenv/versions/anaconda3-5.1.0/lib/python3.6/site-packages/xgboost/core.py:587: FutureWarning: Series.base is deprecated and will be removed in a future version\n",
      "  if getattr(data, 'base', None) is not None and \\\n",
      "/Users/takigawa/.pyenv/versions/anaconda3-5.1.0/lib/python3.6/site-packages/xgboost/core.py:587: FutureWarning: Series.base is deprecated and will be removed in a future version\n",
      "  if getattr(data, 'base', None) is not None and \\\n",
      "/Users/takigawa/.pyenv/versions/anaconda3-5.1.0/lib/python3.6/site-packages/xgboost/core.py:587: FutureWarning: Series.base is deprecated and will be removed in a future version\n",
      "  if getattr(data, 'base', None) is not None and \\\n",
      "/Users/takigawa/.pyenv/versions/anaconda3-5.1.0/lib/python3.6/site-packages/xgboost/core.py:587: FutureWarning: Series.base is deprecated and will be removed in a future version\n",
      "  if getattr(data, 'base', None) is not None and \\\n",
      "/Users/takigawa/.pyenv/versions/anaconda3-5.1.0/lib/python3.6/site-packages/xgboost/core.py:587: FutureWarning: Series.base is deprecated and will be removed in a future version\n",
      "  if getattr(data, 'base', None) is not None and \\\n",
      "/Users/takigawa/.pyenv/versions/anaconda3-5.1.0/lib/python3.6/site-packages/xgboost/core.py:587: FutureWarning: Series.base is deprecated and will be removed in a future version\n",
      "  if getattr(data, 'base', None) is not None and \\\n",
      "/Users/takigawa/.pyenv/versions/anaconda3-5.1.0/lib/python3.6/site-packages/xgboost/core.py:587: FutureWarning: Series.base is deprecated and will be removed in a future version\n",
      "  if getattr(data, 'base', None) is not None and \\\n",
      "/Users/takigawa/.pyenv/versions/anaconda3-5.1.0/lib/python3.6/site-packages/xgboost/core.py:587: FutureWarning: Series.base is deprecated and will be removed in a future version\n",
      "  if getattr(data, 'base', None) is not None and \\\n",
      "/Users/takigawa/.pyenv/versions/anaconda3-5.1.0/lib/python3.6/site-packages/xgboost/core.py:587: FutureWarning: Series.base is deprecated and will be removed in a future version\n",
      "  if getattr(data, 'base', None) is not None and \\\n",
      "/Users/takigawa/.pyenv/versions/anaconda3-5.1.0/lib/python3.6/site-packages/xgboost/core.py:587: FutureWarning: Series.base is deprecated and will be removed in a future version\n",
      "  if getattr(data, 'base', None) is not None and \\\n",
      "/Users/takigawa/.pyenv/versions/anaconda3-5.1.0/lib/python3.6/site-packages/xgboost/core.py:587: FutureWarning: Series.base is deprecated and will be removed in a future version\n",
      "  if getattr(data, 'base', None) is not None and \\\n",
      "/Users/takigawa/.pyenv/versions/anaconda3-5.1.0/lib/python3.6/site-packages/xgboost/core.py:587: FutureWarning: Series.base is deprecated and will be removed in a future version\n",
      "  if getattr(data, 'base', None) is not None and \\\n",
      "/Users/takigawa/.pyenv/versions/anaconda3-5.1.0/lib/python3.6/site-packages/xgboost/core.py:587: FutureWarning: Series.base is deprecated and will be removed in a future version\n",
      "  if getattr(data, 'base', None) is not None and \\\n",
      "/Users/takigawa/.pyenv/versions/anaconda3-5.1.0/lib/python3.6/site-packages/xgboost/core.py:587: FutureWarning: Series.base is deprecated and will be removed in a future version\n",
      "  if getattr(data, 'base', None) is not None and \\\n",
      "/Users/takigawa/.pyenv/versions/anaconda3-5.1.0/lib/python3.6/site-packages/xgboost/core.py:587: FutureWarning: Series.base is deprecated and will be removed in a future version\n",
      "  if getattr(data, 'base', None) is not None and \\\n",
      "/Users/takigawa/.pyenv/versions/anaconda3-5.1.0/lib/python3.6/site-packages/xgboost/core.py:587: FutureWarning: Series.base is deprecated and will be removed in a future version\n",
      "  if getattr(data, 'base', None) is not None and \\\n",
      "/Users/takigawa/.pyenv/versions/anaconda3-5.1.0/lib/python3.6/site-packages/xgboost/core.py:587: FutureWarning: Series.base is deprecated and will be removed in a future version\n",
      "  if getattr(data, 'base', None) is not None and \\\n",
      "/Users/takigawa/.pyenv/versions/anaconda3-5.1.0/lib/python3.6/site-packages/xgboost/core.py:587: FutureWarning: Series.base is deprecated and will be removed in a future version\n",
      "  if getattr(data, 'base', None) is not None and \\\n",
      "/Users/takigawa/.pyenv/versions/anaconda3-5.1.0/lib/python3.6/site-packages/xgboost/core.py:587: FutureWarning: Series.base is deprecated and will be removed in a future version\n",
      "  if getattr(data, 'base', None) is not None and \\\n",
      "/Users/takigawa/.pyenv/versions/anaconda3-5.1.0/lib/python3.6/site-packages/xgboost/core.py:587: FutureWarning: Series.base is deprecated and will be removed in a future version\n",
      "  if getattr(data, 'base', None) is not None and \\\n",
      "/Users/takigawa/.pyenv/versions/anaconda3-5.1.0/lib/python3.6/site-packages/xgboost/core.py:587: FutureWarning: Series.base is deprecated and will be removed in a future version\n",
      "  if getattr(data, 'base', None) is not None and \\\n",
      "/Users/takigawa/.pyenv/versions/anaconda3-5.1.0/lib/python3.6/site-packages/xgboost/core.py:587: FutureWarning: Series.base is deprecated and will be removed in a future version\n",
      "  if getattr(data, 'base', None) is not None and \\\n",
      "/Users/takigawa/.pyenv/versions/anaconda3-5.1.0/lib/python3.6/site-packages/xgboost/core.py:587: FutureWarning: Series.base is deprecated and will be removed in a future version\n",
      "  if getattr(data, 'base', None) is not None and \\\n",
      "/Users/takigawa/.pyenv/versions/anaconda3-5.1.0/lib/python3.6/site-packages/xgboost/core.py:587: FutureWarning: Series.base is deprecated and will be removed in a future version\n",
      "  if getattr(data, 'base', None) is not None and \\\n",
      "/Users/takigawa/.pyenv/versions/anaconda3-5.1.0/lib/python3.6/site-packages/xgboost/core.py:587: FutureWarning: Series.base is deprecated and will be removed in a future version\n",
      "  if getattr(data, 'base', None) is not None and \\\n",
      "/Users/takigawa/.pyenv/versions/anaconda3-5.1.0/lib/python3.6/site-packages/xgboost/core.py:587: FutureWarning: Series.base is deprecated and will be removed in a future version\n",
      "  if getattr(data, 'base', None) is not None and \\\n",
      "/Users/takigawa/.pyenv/versions/anaconda3-5.1.0/lib/python3.6/site-packages/xgboost/core.py:587: FutureWarning: Series.base is deprecated and will be removed in a future version\n",
      "  if getattr(data, 'base', None) is not None and \\\n",
      "/Users/takigawa/.pyenv/versions/anaconda3-5.1.0/lib/python3.6/site-packages/xgboost/core.py:587: FutureWarning: Series.base is deprecated and will be removed in a future version\n",
      "  if getattr(data, 'base', None) is not None and \\\n",
      "/Users/takigawa/.pyenv/versions/anaconda3-5.1.0/lib/python3.6/site-packages/xgboost/core.py:587: FutureWarning: Series.base is deprecated and will be removed in a future version\n",
      "  if getattr(data, 'base', None) is not None and \\\n",
      "/Users/takigawa/.pyenv/versions/anaconda3-5.1.0/lib/python3.6/site-packages/xgboost/core.py:587: FutureWarning: Series.base is deprecated and will be removed in a future version\n",
      "  if getattr(data, 'base', None) is not None and \\\n"
     ]
    },
    {
     "name": "stderr",
     "output_type": "stream",
     "text": [
      "/Users/takigawa/.pyenv/versions/anaconda3-5.1.0/lib/python3.6/site-packages/xgboost/core.py:587: FutureWarning: Series.base is deprecated and will be removed in a future version\n",
      "  if getattr(data, 'base', None) is not None and \\\n",
      "/Users/takigawa/.pyenv/versions/anaconda3-5.1.0/lib/python3.6/site-packages/xgboost/core.py:587: FutureWarning: Series.base is deprecated and will be removed in a future version\n",
      "  if getattr(data, 'base', None) is not None and \\\n",
      "/Users/takigawa/.pyenv/versions/anaconda3-5.1.0/lib/python3.6/site-packages/xgboost/core.py:587: FutureWarning: Series.base is deprecated and will be removed in a future version\n",
      "  if getattr(data, 'base', None) is not None and \\\n",
      "/Users/takigawa/.pyenv/versions/anaconda3-5.1.0/lib/python3.6/site-packages/xgboost/core.py:587: FutureWarning: Series.base is deprecated and will be removed in a future version\n",
      "  if getattr(data, 'base', None) is not None and \\\n",
      "/Users/takigawa/.pyenv/versions/anaconda3-5.1.0/lib/python3.6/site-packages/xgboost/core.py:587: FutureWarning: Series.base is deprecated and will be removed in a future version\n",
      "  if getattr(data, 'base', None) is not None and \\\n",
      "/Users/takigawa/.pyenv/versions/anaconda3-5.1.0/lib/python3.6/site-packages/xgboost/core.py:587: FutureWarning: Series.base is deprecated and will be removed in a future version\n",
      "  if getattr(data, 'base', None) is not None and \\\n",
      "/Users/takigawa/.pyenv/versions/anaconda3-5.1.0/lib/python3.6/site-packages/xgboost/core.py:587: FutureWarning: Series.base is deprecated and will be removed in a future version\n",
      "  if getattr(data, 'base', None) is not None and \\\n",
      "/Users/takigawa/.pyenv/versions/anaconda3-5.1.0/lib/python3.6/site-packages/xgboost/core.py:587: FutureWarning: Series.base is deprecated and will be removed in a future version\n",
      "  if getattr(data, 'base', None) is not None and \\\n",
      "/Users/takigawa/.pyenv/versions/anaconda3-5.1.0/lib/python3.6/site-packages/xgboost/core.py:587: FutureWarning: Series.base is deprecated and will be removed in a future version\n",
      "  if getattr(data, 'base', None) is not None and \\\n",
      "/Users/takigawa/.pyenv/versions/anaconda3-5.1.0/lib/python3.6/site-packages/xgboost/core.py:587: FutureWarning: Series.base is deprecated and will be removed in a future version\n",
      "  if getattr(data, 'base', None) is not None and \\\n",
      "/Users/takigawa/.pyenv/versions/anaconda3-5.1.0/lib/python3.6/site-packages/xgboost/core.py:587: FutureWarning: Series.base is deprecated and will be removed in a future version\n",
      "  if getattr(data, 'base', None) is not None and \\\n",
      "/Users/takigawa/.pyenv/versions/anaconda3-5.1.0/lib/python3.6/site-packages/xgboost/core.py:587: FutureWarning: Series.base is deprecated and will be removed in a future version\n",
      "  if getattr(data, 'base', None) is not None and \\\n",
      "/Users/takigawa/.pyenv/versions/anaconda3-5.1.0/lib/python3.6/site-packages/xgboost/core.py:587: FutureWarning: Series.base is deprecated and will be removed in a future version\n",
      "  if getattr(data, 'base', None) is not None and \\\n",
      "/Users/takigawa/.pyenv/versions/anaconda3-5.1.0/lib/python3.6/site-packages/xgboost/core.py:587: FutureWarning: Series.base is deprecated and will be removed in a future version\n",
      "  if getattr(data, 'base', None) is not None and \\\n",
      "/Users/takigawa/.pyenv/versions/anaconda3-5.1.0/lib/python3.6/site-packages/xgboost/core.py:588: FutureWarning: Series.base is deprecated and will be removed in a future version\n",
      "  data.base is not None and isinstance(data, np.ndarray) \\\n"
     ]
    },
    {
     "name": "stdout",
     "output_type": "stream",
     "text": [
      "4 1 0.9 0.1\n"
     ]
    }
   ],
   "source": [
    "cv_xgb.fit(ocm.iloc[:,:-1], ocm.iloc[:,-1])\n",
    "\n",
    "cvdepth = cv_xgb.best_params_['max_depth']\n",
    "cvsubsample = cv_xgb.best_params_['subsample']\n",
    "cvcolsample = cv_xgb.best_params_['colsample_bytree']\n",
    "cvlr = cv_xgb.best_params_['learning_rate']\n",
    "\n",
    "print(cvdepth, cvsubsample, cvcolsample, cvlr)"
   ]
  },
  {
   "cell_type": "code",
   "execution_count": 19,
   "metadata": {},
   "outputs": [
    {
     "name": "stdout",
     "output_type": "stream",
     "text": [
      "XGBRegressor(base_score=0.5, booster='gbtree', colsample_bylevel=1,\n",
      "             colsample_bytree=0.9, gamma=0, importance_type='gain',\n",
      "             learning_rate=0.1, max_delta_step=0, max_depth=4,\n",
      "             min_child_weight=1, missing=None, n_estimators=10, n_jobs=-1,\n",
      "             nthread=None, objective='reg:linear', random_state=929,\n",
      "             reg_alpha=0, reg_lambda=1, scale_pos_weight=1, seed=929,\n",
      "             silent=True, subsample=1)\n"
     ]
    }
   ],
   "source": [
    "estimator = XGBRegressor(n_estimators=ntree,\\\n",
    "                       max_depth=cvdepth,\\\n",
    "                       subsample=cvsubsample,\\\n",
    "                       colsample_bytree=cvcolsample,\\\n",
    "                       learning_rate=cvlr,\\\n",
    "                       random_state=929, seed=929, n_jobs=-1)\n",
    "print(estimator)\n",
    "\n",
    "best_xgb_ocm = estimator"
   ]
  },
  {
   "cell_type": "code",
   "execution_count": 20,
   "metadata": {},
   "outputs": [],
   "source": [
    "train_test = shuffle(ocm, random_state=10)"
   ]
  },
  {
   "cell_type": "code",
   "execution_count": 21,
   "metadata": {},
   "outputs": [
    {
     "name": "stderr",
     "output_type": "stream",
     "text": [
      "/Users/takigawa/.pyenv/versions/anaconda3-5.1.0/lib/python3.6/site-packages/xgboost/core.py:587: FutureWarning: Series.base is deprecated and will be removed in a future version\n",
      "  if getattr(data, 'base', None) is not None and \\\n"
     ]
    },
    {
     "name": "stdout",
     "output_type": "stream",
     "text": [
      "RMSE_test: 6.578 STD_test: 0.447\n",
      "RMSE_train: 6.382 STD_train: 0.032\n",
      "Data size:(1833, 104)\n"
     ]
    }
   ],
   "source": [
    "cv = Cv_Pred_Expected(estimator=estimator,\\\n",
    "                      X=train_test.iloc[:,:-1],\\\n",
    "                      y=train_test.iloc[:,-1],\\\n",
    "                      cv=10)\n",
    "cv.cross_validation()"
   ]
  },
  {
   "cell_type": "code",
   "execution_count": 22,
   "metadata": {},
   "outputs": [
    {
     "name": "stdout",
     "output_type": "stream",
     "text": [
      "(1649, 104) (1649,)\n",
      "RMSE(Train): 6.372\n",
      "RMSE(Test): 6.597\n"
     ]
    },
    {
     "name": "stderr",
     "output_type": "stream",
     "text": [
      "/Users/takigawa/.pyenv/versions/anaconda3-5.1.0/lib/python3.6/site-packages/xgboost/core.py:587: FutureWarning: Series.base is deprecated and will be removed in a future version\n",
      "  if getattr(data, 'base', None) is not None and \\\n"
     ]
    }
   ],
   "source": [
    "cv.plot_pred_expected(save=True,\\\n",
    "                      title='',\\\n",
    "                      os_title='',\\\n",
    "                      titlesize = 11, \\\n",
    "                      filename='output/fig5_composition&condition_',\n",
    "                      close=True)"
   ]
  },
  {
   "cell_type": "markdown",
   "metadata": {},
   "source": [
    "### ocm_desc"
   ]
  },
  {
   "cell_type": "code",
   "execution_count": 23,
   "metadata": {},
   "outputs": [
    {
     "name": "stderr",
     "output_type": "stream",
     "text": [
      "/Users/takigawa/.pyenv/versions/anaconda3-5.1.0/lib/python3.6/site-packages/sklearn/model_selection/_split.py:1978: FutureWarning: The default value of cv will change from 3 to 5 in version 0.22. Specify it explicitly to silence this warning.\n",
      "  warnings.warn(CV_WARNING, FutureWarning)\n",
      "/Users/takigawa/.pyenv/versions/anaconda3-5.1.0/lib/python3.6/site-packages/xgboost/core.py:587: FutureWarning: Series.base is deprecated and will be removed in a future version\n",
      "  if getattr(data, 'base', None) is not None and \\\n",
      "/Users/takigawa/.pyenv/versions/anaconda3-5.1.0/lib/python3.6/site-packages/xgboost/core.py:587: FutureWarning: Series.base is deprecated and will be removed in a future version\n",
      "  if getattr(data, 'base', None) is not None and \\\n",
      "/Users/takigawa/.pyenv/versions/anaconda3-5.1.0/lib/python3.6/site-packages/xgboost/core.py:587: FutureWarning: Series.base is deprecated and will be removed in a future version\n",
      "  if getattr(data, 'base', None) is not None and \\\n",
      "/Users/takigawa/.pyenv/versions/anaconda3-5.1.0/lib/python3.6/site-packages/xgboost/core.py:587: FutureWarning: Series.base is deprecated and will be removed in a future version\n",
      "  if getattr(data, 'base', None) is not None and \\\n",
      "/Users/takigawa/.pyenv/versions/anaconda3-5.1.0/lib/python3.6/site-packages/xgboost/core.py:587: FutureWarning: Series.base is deprecated and will be removed in a future version\n",
      "  if getattr(data, 'base', None) is not None and \\\n",
      "/Users/takigawa/.pyenv/versions/anaconda3-5.1.0/lib/python3.6/site-packages/xgboost/core.py:587: FutureWarning: Series.base is deprecated and will be removed in a future version\n",
      "  if getattr(data, 'base', None) is not None and \\\n",
      "/Users/takigawa/.pyenv/versions/anaconda3-5.1.0/lib/python3.6/site-packages/xgboost/core.py:587: FutureWarning: Series.base is deprecated and will be removed in a future version\n",
      "  if getattr(data, 'base', None) is not None and \\\n",
      "/Users/takigawa/.pyenv/versions/anaconda3-5.1.0/lib/python3.6/site-packages/xgboost/core.py:587: FutureWarning: Series.base is deprecated and will be removed in a future version\n",
      "  if getattr(data, 'base', None) is not None and \\\n",
      "/Users/takigawa/.pyenv/versions/anaconda3-5.1.0/lib/python3.6/site-packages/xgboost/core.py:587: FutureWarning: Series.base is deprecated and will be removed in a future version\n",
      "  if getattr(data, 'base', None) is not None and \\\n",
      "/Users/takigawa/.pyenv/versions/anaconda3-5.1.0/lib/python3.6/site-packages/xgboost/core.py:587: FutureWarning: Series.base is deprecated and will be removed in a future version\n",
      "  if getattr(data, 'base', None) is not None and \\\n",
      "/Users/takigawa/.pyenv/versions/anaconda3-5.1.0/lib/python3.6/site-packages/xgboost/core.py:587: FutureWarning: Series.base is deprecated and will be removed in a future version\n",
      "  if getattr(data, 'base', None) is not None and \\\n",
      "/Users/takigawa/.pyenv/versions/anaconda3-5.1.0/lib/python3.6/site-packages/xgboost/core.py:587: FutureWarning: Series.base is deprecated and will be removed in a future version\n",
      "  if getattr(data, 'base', None) is not None and \\\n",
      "/Users/takigawa/.pyenv/versions/anaconda3-5.1.0/lib/python3.6/site-packages/xgboost/core.py:587: FutureWarning: Series.base is deprecated and will be removed in a future version\n",
      "  if getattr(data, 'base', None) is not None and \\\n",
      "/Users/takigawa/.pyenv/versions/anaconda3-5.1.0/lib/python3.6/site-packages/xgboost/core.py:587: FutureWarning: Series.base is deprecated and will be removed in a future version\n",
      "  if getattr(data, 'base', None) is not None and \\\n",
      "/Users/takigawa/.pyenv/versions/anaconda3-5.1.0/lib/python3.6/site-packages/xgboost/core.py:587: FutureWarning: Series.base is deprecated and will be removed in a future version\n",
      "  if getattr(data, 'base', None) is not None and \\\n",
      "/Users/takigawa/.pyenv/versions/anaconda3-5.1.0/lib/python3.6/site-packages/xgboost/core.py:587: FutureWarning: Series.base is deprecated and will be removed in a future version\n",
      "  if getattr(data, 'base', None) is not None and \\\n",
      "/Users/takigawa/.pyenv/versions/anaconda3-5.1.0/lib/python3.6/site-packages/xgboost/core.py:587: FutureWarning: Series.base is deprecated and will be removed in a future version\n",
      "  if getattr(data, 'base', None) is not None and \\\n",
      "/Users/takigawa/.pyenv/versions/anaconda3-5.1.0/lib/python3.6/site-packages/xgboost/core.py:587: FutureWarning: Series.base is deprecated and will be removed in a future version\n",
      "  if getattr(data, 'base', None) is not None and \\\n",
      "/Users/takigawa/.pyenv/versions/anaconda3-5.1.0/lib/python3.6/site-packages/xgboost/core.py:587: FutureWarning: Series.base is deprecated and will be removed in a future version\n",
      "  if getattr(data, 'base', None) is not None and \\\n",
      "/Users/takigawa/.pyenv/versions/anaconda3-5.1.0/lib/python3.6/site-packages/xgboost/core.py:587: FutureWarning: Series.base is deprecated and will be removed in a future version\n",
      "  if getattr(data, 'base', None) is not None and \\\n",
      "/Users/takigawa/.pyenv/versions/anaconda3-5.1.0/lib/python3.6/site-packages/xgboost/core.py:587: FutureWarning: Series.base is deprecated and will be removed in a future version\n",
      "  if getattr(data, 'base', None) is not None and \\\n",
      "/Users/takigawa/.pyenv/versions/anaconda3-5.1.0/lib/python3.6/site-packages/xgboost/core.py:587: FutureWarning: Series.base is deprecated and will be removed in a future version\n",
      "  if getattr(data, 'base', None) is not None and \\\n",
      "/Users/takigawa/.pyenv/versions/anaconda3-5.1.0/lib/python3.6/site-packages/xgboost/core.py:587: FutureWarning: Series.base is deprecated and will be removed in a future version\n",
      "  if getattr(data, 'base', None) is not None and \\\n",
      "/Users/takigawa/.pyenv/versions/anaconda3-5.1.0/lib/python3.6/site-packages/xgboost/core.py:587: FutureWarning: Series.base is deprecated and will be removed in a future version\n",
      "  if getattr(data, 'base', None) is not None and \\\n",
      "/Users/takigawa/.pyenv/versions/anaconda3-5.1.0/lib/python3.6/site-packages/xgboost/core.py:587: FutureWarning: Series.base is deprecated and will be removed in a future version\n",
      "  if getattr(data, 'base', None) is not None and \\\n",
      "/Users/takigawa/.pyenv/versions/anaconda3-5.1.0/lib/python3.6/site-packages/xgboost/core.py:587: FutureWarning: Series.base is deprecated and will be removed in a future version\n",
      "  if getattr(data, 'base', None) is not None and \\\n",
      "/Users/takigawa/.pyenv/versions/anaconda3-5.1.0/lib/python3.6/site-packages/xgboost/core.py:587: FutureWarning: Series.base is deprecated and will be removed in a future version\n",
      "  if getattr(data, 'base', None) is not None and \\\n",
      "/Users/takigawa/.pyenv/versions/anaconda3-5.1.0/lib/python3.6/site-packages/xgboost/core.py:587: FutureWarning: Series.base is deprecated and will be removed in a future version\n",
      "  if getattr(data, 'base', None) is not None and \\\n",
      "/Users/takigawa/.pyenv/versions/anaconda3-5.1.0/lib/python3.6/site-packages/xgboost/core.py:587: FutureWarning: Series.base is deprecated and will be removed in a future version\n",
      "  if getattr(data, 'base', None) is not None and \\\n",
      "/Users/takigawa/.pyenv/versions/anaconda3-5.1.0/lib/python3.6/site-packages/xgboost/core.py:587: FutureWarning: Series.base is deprecated and will be removed in a future version\n",
      "  if getattr(data, 'base', None) is not None and \\\n",
      "/Users/takigawa/.pyenv/versions/anaconda3-5.1.0/lib/python3.6/site-packages/xgboost/core.py:587: FutureWarning: Series.base is deprecated and will be removed in a future version\n",
      "  if getattr(data, 'base', None) is not None and \\\n",
      "/Users/takigawa/.pyenv/versions/anaconda3-5.1.0/lib/python3.6/site-packages/xgboost/core.py:587: FutureWarning: Series.base is deprecated and will be removed in a future version\n",
      "  if getattr(data, 'base', None) is not None and \\\n",
      "/Users/takigawa/.pyenv/versions/anaconda3-5.1.0/lib/python3.6/site-packages/xgboost/core.py:587: FutureWarning: Series.base is deprecated and will be removed in a future version\n",
      "  if getattr(data, 'base', None) is not None and \\\n",
      "/Users/takigawa/.pyenv/versions/anaconda3-5.1.0/lib/python3.6/site-packages/xgboost/core.py:587: FutureWarning: Series.base is deprecated and will be removed in a future version\n",
      "  if getattr(data, 'base', None) is not None and \\\n",
      "/Users/takigawa/.pyenv/versions/anaconda3-5.1.0/lib/python3.6/site-packages/xgboost/core.py:587: FutureWarning: Series.base is deprecated and will be removed in a future version\n",
      "  if getattr(data, 'base', None) is not None and \\\n"
     ]
    },
    {
     "name": "stderr",
     "output_type": "stream",
     "text": [
      "/Users/takigawa/.pyenv/versions/anaconda3-5.1.0/lib/python3.6/site-packages/xgboost/core.py:587: FutureWarning: Series.base is deprecated and will be removed in a future version\n",
      "  if getattr(data, 'base', None) is not None and \\\n",
      "/Users/takigawa/.pyenv/versions/anaconda3-5.1.0/lib/python3.6/site-packages/xgboost/core.py:587: FutureWarning: Series.base is deprecated and will be removed in a future version\n",
      "  if getattr(data, 'base', None) is not None and \\\n",
      "/Users/takigawa/.pyenv/versions/anaconda3-5.1.0/lib/python3.6/site-packages/xgboost/core.py:587: FutureWarning: Series.base is deprecated and will be removed in a future version\n",
      "  if getattr(data, 'base', None) is not None and \\\n",
      "/Users/takigawa/.pyenv/versions/anaconda3-5.1.0/lib/python3.6/site-packages/xgboost/core.py:587: FutureWarning: Series.base is deprecated and will be removed in a future version\n",
      "  if getattr(data, 'base', None) is not None and \\\n",
      "/Users/takigawa/.pyenv/versions/anaconda3-5.1.0/lib/python3.6/site-packages/xgboost/core.py:587: FutureWarning: Series.base is deprecated and will be removed in a future version\n",
      "  if getattr(data, 'base', None) is not None and \\\n",
      "/Users/takigawa/.pyenv/versions/anaconda3-5.1.0/lib/python3.6/site-packages/xgboost/core.py:587: FutureWarning: Series.base is deprecated and will be removed in a future version\n",
      "  if getattr(data, 'base', None) is not None and \\\n",
      "/Users/takigawa/.pyenv/versions/anaconda3-5.1.0/lib/python3.6/site-packages/xgboost/core.py:587: FutureWarning: Series.base is deprecated and will be removed in a future version\n",
      "  if getattr(data, 'base', None) is not None and \\\n",
      "/Users/takigawa/.pyenv/versions/anaconda3-5.1.0/lib/python3.6/site-packages/xgboost/core.py:587: FutureWarning: Series.base is deprecated and will be removed in a future version\n",
      "  if getattr(data, 'base', None) is not None and \\\n",
      "/Users/takigawa/.pyenv/versions/anaconda3-5.1.0/lib/python3.6/site-packages/xgboost/core.py:587: FutureWarning: Series.base is deprecated and will be removed in a future version\n",
      "  if getattr(data, 'base', None) is not None and \\\n",
      "/Users/takigawa/.pyenv/versions/anaconda3-5.1.0/lib/python3.6/site-packages/xgboost/core.py:587: FutureWarning: Series.base is deprecated and will be removed in a future version\n",
      "  if getattr(data, 'base', None) is not None and \\\n",
      "/Users/takigawa/.pyenv/versions/anaconda3-5.1.0/lib/python3.6/site-packages/xgboost/core.py:587: FutureWarning: Series.base is deprecated and will be removed in a future version\n",
      "  if getattr(data, 'base', None) is not None and \\\n",
      "/Users/takigawa/.pyenv/versions/anaconda3-5.1.0/lib/python3.6/site-packages/xgboost/core.py:587: FutureWarning: Series.base is deprecated and will be removed in a future version\n",
      "  if getattr(data, 'base', None) is not None and \\\n",
      "/Users/takigawa/.pyenv/versions/anaconda3-5.1.0/lib/python3.6/site-packages/xgboost/core.py:587: FutureWarning: Series.base is deprecated and will be removed in a future version\n",
      "  if getattr(data, 'base', None) is not None and \\\n",
      "/Users/takigawa/.pyenv/versions/anaconda3-5.1.0/lib/python3.6/site-packages/xgboost/core.py:587: FutureWarning: Series.base is deprecated and will be removed in a future version\n",
      "  if getattr(data, 'base', None) is not None and \\\n",
      "/Users/takigawa/.pyenv/versions/anaconda3-5.1.0/lib/python3.6/site-packages/xgboost/core.py:588: FutureWarning: Series.base is deprecated and will be removed in a future version\n",
      "  data.base is not None and isinstance(data, np.ndarray) \\\n"
     ]
    },
    {
     "name": "stdout",
     "output_type": "stream",
     "text": [
      "4 0.9 1 0.05\n"
     ]
    }
   ],
   "source": [
    "cv_xgb.fit(ocm_desc.iloc[:,:-1],ocm_desc.iloc[:,-1])\n",
    "\n",
    "cvdepth = cv_xgb.best_params_['max_depth']\n",
    "cvsubsample = cv_xgb.best_params_['subsample']\n",
    "cvcolsample = cv_xgb.best_params_['colsample_bytree']\n",
    "cvlr = cv_xgb.best_params_['learning_rate']\n",
    "\n",
    "print(cvdepth, cvsubsample, cvcolsample, cvlr)"
   ]
  },
  {
   "cell_type": "code",
   "execution_count": 24,
   "metadata": {},
   "outputs": [
    {
     "name": "stdout",
     "output_type": "stream",
     "text": [
      "XGBRegressor(base_score=0.5, booster='gbtree', colsample_bylevel=1,\n",
      "             colsample_bytree=1, gamma=0, importance_type='gain',\n",
      "             learning_rate=0.05, max_delta_step=0, max_depth=4,\n",
      "             min_child_weight=1, missing=None, n_estimators=10, n_jobs=-1,\n",
      "             nthread=None, objective='reg:linear', random_state=929,\n",
      "             reg_alpha=0, reg_lambda=1, scale_pos_weight=1, seed=929,\n",
      "             silent=True, subsample=0.9)\n"
     ]
    }
   ],
   "source": [
    "estimator = XGBRegressor(n_estimators=ntree,\\\n",
    "                       max_depth=cvdepth,\\\n",
    "                       subsample=cvsubsample,\\\n",
    "                       colsample_bytree=cvcolsample,\\\n",
    "                       learning_rate=cvlr,\\\n",
    "                       random_state=929, seed=929, n_jobs=-1)\n",
    "print(estimator)\n",
    "\n",
    "best_xgb_ocmdesc = estimator"
   ]
  },
  {
   "cell_type": "code",
   "execution_count": 25,
   "metadata": {},
   "outputs": [],
   "source": [
    "train_test = shuffle(ocm_desc, random_state=10)"
   ]
  },
  {
   "cell_type": "code",
   "execution_count": 26,
   "metadata": {},
   "outputs": [
    {
     "name": "stderr",
     "output_type": "stream",
     "text": [
      "/Users/takigawa/.pyenv/versions/anaconda3-5.1.0/lib/python3.6/site-packages/xgboost/core.py:587: FutureWarning: Series.base is deprecated and will be removed in a future version\n",
      "  if getattr(data, 'base', None) is not None and \\\n"
     ]
    },
    {
     "name": "stdout",
     "output_type": "stream",
     "text": [
      "RMSE_test: 8.148 STD_test: 0.481\n",
      "RMSE_train: 8.034 STD_train: 0.041\n",
      "Data size:(1833, 148)\n"
     ]
    }
   ],
   "source": [
    "cv = Cv_Pred_Expected(estimator=estimator,\\\n",
    "                      X=train_test.iloc[:,:-1],\\\n",
    "                      y=train_test.iloc[:,-1],\\\n",
    "                      cv=10, redc=True)\n",
    "cv.cross_validation()"
   ]
  },
  {
   "cell_type": "code",
   "execution_count": 27,
   "metadata": {},
   "outputs": [],
   "source": [
    "xgb_cvbest = cv"
   ]
  },
  {
   "cell_type": "code",
   "execution_count": 28,
   "metadata": {},
   "outputs": [
    {
     "name": "stdout",
     "output_type": "stream",
     "text": [
      "(1650, 148) (1650,)\n",
      "RMSE(Train): 8.002\n",
      "RMSE(Test): 8.224\n"
     ]
    },
    {
     "name": "stderr",
     "output_type": "stream",
     "text": [
      "/Users/takigawa/.pyenv/versions/anaconda3-5.1.0/lib/python3.6/site-packages/xgboost/core.py:587: FutureWarning: Series.base is deprecated and will be removed in a future version\n",
      "  if getattr(data, 'base', None) is not None and \\\n"
     ]
    }
   ],
   "source": [
    "cv.plot_pred_expected(save=True,\\\n",
    "                      title='',\\\n",
    "                      os_title='',\\\n",
    "                      filename='output/fig4-fig5_gb_',\\\n",
    "                      titlesize=11,\n",
    "                      close=True)"
   ]
  },
  {
   "cell_type": "markdown",
   "metadata": {},
   "source": [
    "## Fig.4"
   ]
  },
  {
   "cell_type": "code",
   "execution_count": 29,
   "metadata": {},
   "outputs": [],
   "source": [
    "train_test = shuffle(ocm_desc, random_state=10)"
   ]
  },
  {
   "cell_type": "code",
   "execution_count": 30,
   "metadata": {},
   "outputs": [
    {
     "name": "stderr",
     "output_type": "stream",
     "text": [
      "/Users/takigawa/.pyenv/versions/anaconda3-5.1.0/lib/python3.6/site-packages/sklearn/model_selection/_split.py:1978: FutureWarning: The default value of cv will change from 3 to 5 in version 0.22. Specify it explicitly to silence this warning.\n",
      "  warnings.warn(CV_WARNING, FutureWarning)\n",
      "/Users/takigawa/.pyenv/versions/anaconda3-5.1.0/lib/python3.6/site-packages/sklearn/linear_model/coordinate_descent.py:475: ConvergenceWarning: Objective did not converge. You might want to increase the number of iterations. Duality gap: 17197.705109852704, tolerance: 5.5818553610883805\n",
      "  positive)\n",
      "/Users/takigawa/.pyenv/versions/anaconda3-5.1.0/lib/python3.6/site-packages/sklearn/linear_model/coordinate_descent.py:475: ConvergenceWarning: Objective did not converge. You might want to increase the number of iterations. Duality gap: 17097.472180321434, tolerance: 5.508298215425533\n",
      "  positive)\n",
      "/Users/takigawa/.pyenv/versions/anaconda3-5.1.0/lib/python3.6/site-packages/sklearn/linear_model/coordinate_descent.py:475: ConvergenceWarning: Objective did not converge. You might want to increase the number of iterations. Duality gap: 15835.167281500924, tolerance: 5.381936177577743\n",
      "  positive)\n",
      "/Users/takigawa/.pyenv/versions/anaconda3-5.1.0/lib/python3.6/site-packages/sklearn/linear_model/coordinate_descent.py:475: ConvergenceWarning: Objective did not converge. You might want to increase the number of iterations. Duality gap: 19531.383364111738, tolerance: 5.5818553610883805\n",
      "  positive)\n",
      "/Users/takigawa/.pyenv/versions/anaconda3-5.1.0/lib/python3.6/site-packages/sklearn/linear_model/coordinate_descent.py:475: ConvergenceWarning: Objective did not converge. You might want to increase the number of iterations. Duality gap: 18672.49757780483, tolerance: 5.508298215425533\n",
      "  positive)\n",
      "/Users/takigawa/.pyenv/versions/anaconda3-5.1.0/lib/python3.6/site-packages/sklearn/linear_model/coordinate_descent.py:475: ConvergenceWarning: Objective did not converge. You might want to increase the number of iterations. Duality gap: 18175.867534146866, tolerance: 5.381936177577743\n",
      "  positive)\n",
      "/Users/takigawa/.pyenv/versions/anaconda3-5.1.0/lib/python3.6/site-packages/sklearn/linear_model/coordinate_descent.py:475: ConvergenceWarning: Objective did not converge. You might want to increase the number of iterations. Duality gap: 27829.82333835948, tolerance: 8.251709865248227\n",
      "  positive)\n"
     ]
    },
    {
     "name": "stdout",
     "output_type": "stream",
     "text": [
      "Lasso(alpha=0.01, copy_X=True, fit_intercept=True, max_iter=1000,\n",
      "      normalize=False, positive=False, precompute=False, random_state=929,\n",
      "      selection='cyclic', tol=0.0001, warm_start=False)\n"
     ]
    },
    {
     "name": "stderr",
     "output_type": "stream",
     "text": [
      "/Users/takigawa/.pyenv/versions/anaconda3-5.1.0/lib/python3.6/site-packages/sklearn/linear_model/coordinate_descent.py:475: ConvergenceWarning: Objective did not converge. You might want to increase the number of iterations. Duality gap: 25163.081208441778, tolerance: 7.544120143723469\n",
      "  positive)\n",
      "/Users/takigawa/.pyenv/versions/anaconda3-5.1.0/lib/python3.6/site-packages/sklearn/linear_model/coordinate_descent.py:475: ConvergenceWarning: Objective did not converge. You might want to increase the number of iterations. Duality gap: 25022.687105336274, tolerance: 7.431372534869618\n",
      "  positive)\n",
      "/Users/takigawa/.pyenv/versions/anaconda3-5.1.0/lib/python3.6/site-packages/sklearn/linear_model/coordinate_descent.py:475: ConvergenceWarning: Objective did not converge. You might want to increase the number of iterations. Duality gap: 25715.04039060453, tolerance: 7.516430010915706\n",
      "  positive)\n",
      "/Users/takigawa/.pyenv/versions/anaconda3-5.1.0/lib/python3.6/site-packages/sklearn/linear_model/coordinate_descent.py:475: ConvergenceWarning: Objective did not converge. You might want to increase the number of iterations. Duality gap: 24479.535559067954, tolerance: 7.313736882575759\n",
      "  positive)\n",
      "/Users/takigawa/.pyenv/versions/anaconda3-5.1.0/lib/python3.6/site-packages/sklearn/linear_model/coordinate_descent.py:475: ConvergenceWarning: Objective did not converge. You might want to increase the number of iterations. Duality gap: 25121.169611549343, tolerance: 7.505410631666666\n",
      "  positive)\n",
      "/Users/takigawa/.pyenv/versions/anaconda3-5.1.0/lib/python3.6/site-packages/sklearn/linear_model/coordinate_descent.py:475: ConvergenceWarning: Objective did not converge. You might want to increase the number of iterations. Duality gap: 24591.76850899667, tolerance: 7.405482246212122\n",
      "  positive)\n",
      "/Users/takigawa/.pyenv/versions/anaconda3-5.1.0/lib/python3.6/site-packages/sklearn/linear_model/coordinate_descent.py:475: ConvergenceWarning: Objective did not converge. You might want to increase the number of iterations. Duality gap: 24689.096255673663, tolerance: 7.377854583181818\n",
      "  positive)\n",
      "/Users/takigawa/.pyenv/versions/anaconda3-5.1.0/lib/python3.6/site-packages/sklearn/linear_model/coordinate_descent.py:475: ConvergenceWarning: Objective did not converge. You might want to increase the number of iterations. Duality gap: 24621.80324195742, tolerance: 7.440634806212122\n",
      "  positive)\n",
      "/Users/takigawa/.pyenv/versions/anaconda3-5.1.0/lib/python3.6/site-packages/sklearn/linear_model/coordinate_descent.py:475: ConvergenceWarning: Objective did not converge. You might want to increase the number of iterations. Duality gap: 25071.94796890718, tolerance: 7.442958406212123\n",
      "  positive)\n",
      "/Users/takigawa/.pyenv/versions/anaconda3-5.1.0/lib/python3.6/site-packages/sklearn/linear_model/coordinate_descent.py:475: ConvergenceWarning: Objective did not converge. You might want to increase the number of iterations. Duality gap: 24113.74008292837, tolerance: 7.283308322575759\n",
      "  positive)\n"
     ]
    },
    {
     "name": "stdout",
     "output_type": "stream",
     "text": [
      "RMSE_test: 5.987 STD_test: 0.512\n",
      "RMSE_train: 5.402 STD_train: 0.049\n",
      "Data size:(1833, 148)\n",
      "(1650, 148) (1650,)\n",
      "RMSE(Train): 5.381\n",
      "RMSE(Test): 6.059\n"
     ]
    },
    {
     "name": "stderr",
     "output_type": "stream",
     "text": [
      "/Users/takigawa/.pyenv/versions/anaconda3-5.1.0/lib/python3.6/site-packages/sklearn/linear_model/coordinate_descent.py:475: ConvergenceWarning: Objective did not converge. You might want to increase the number of iterations. Duality gap: 24689.096255673692, tolerance: 7.377854583181819\n",
      "  positive)\n"
     ]
    }
   ],
   "source": [
    "# LASSO\n",
    "cv_lasso.fit(ocm_desc.iloc[:,:-1],ocm_desc.iloc[:,-1])\n",
    "cvalpha = cv_lasso.best_params_['alpha']\n",
    "estimator = Lasso(random_state=929, alpha=cvalpha)\n",
    "\n",
    "best_lasso_ocmdesc = estimator\n",
    "print(estimator)\n",
    "\n",
    "cv = Cv_Pred_Expected(estimator=estimator,\\\n",
    "                      X=train_test.iloc[:,:-1],\\\n",
    "                      y=train_test.iloc[:,-1],\\\n",
    "                      cv=10, redc=True)\n",
    "cv.cross_validation()\n",
    "cv.plot_pred_expected(save=True,\\\n",
    "                      title='',\\\n",
    "                      os_title='',\\\n",
    "                      filename='output/fig4_lasso_', \\\n",
    "                      titlesize=11,\n",
    "                      close=True)"
   ]
  },
  {
   "cell_type": "code",
   "execution_count": 31,
   "metadata": {
    "scrolled": true
   },
   "outputs": [
    {
     "name": "stderr",
     "output_type": "stream",
     "text": [
      "/Users/takigawa/.pyenv/versions/anaconda3-5.1.0/lib/python3.6/site-packages/sklearn/model_selection/_split.py:1978: FutureWarning: The default value of cv will change from 3 to 5 in version 0.22. Specify it explicitly to silence this warning.\n",
      "  warnings.warn(CV_WARNING, FutureWarning)\n"
     ]
    },
    {
     "name": "stdout",
     "output_type": "stream",
     "text": [
      "Ridge(alpha=0.1, copy_X=True, fit_intercept=True, max_iter=None,\n",
      "      normalize=False, random_state=929, solver='auto', tol=0.001)\n",
      "RMSE_test: 6.338 STD_test: 0.546\n",
      "RMSE_train: 5.356 STD_train: 0.049\n",
      "Data size:(1833, 148)\n",
      "(1649, 148) (1649,)\n",
      "RMSE(Train): 5.453\n",
      "RMSE(Test): 6.345\n"
     ]
    }
   ],
   "source": [
    "# Ridge\n",
    "cv_ridge.fit(ocm_desc.iloc[:,:-1],ocm_desc.iloc[:,-1])\n",
    "cvalpha = cv_ridge.best_params_['alpha']\n",
    "estimator = Ridge(random_state=929, alpha=cvalpha)\n",
    "\n",
    "best_ridge_ocmdesc = estimator\n",
    "print(estimator)\n",
    "\n",
    "cv = Cv_Pred_Expected(estimator=estimator,\\\n",
    "                      X=train_test.iloc[:,:-1],\\\n",
    "                      y=train_test.iloc[:,-1],\\\n",
    "                      cv=10, redc=True)\n",
    "cv.cross_validation()\n",
    "cv.plot_pred_expected(save=True,\\\n",
    "                      title='',\\\n",
    "                      os_title='',\\\n",
    "                      filename='output/fig4_ridge_',\\\n",
    "                      titlesize=11,\n",
    "                      close=True)"
   ]
  },
  {
   "cell_type": "code",
   "execution_count": 32,
   "metadata": {},
   "outputs": [
    {
     "name": "stderr",
     "output_type": "stream",
     "text": [
      "/Users/takigawa/.pyenv/versions/anaconda3-5.1.0/lib/python3.6/site-packages/sklearn/model_selection/_split.py:1978: FutureWarning: The default value of cv will change from 3 to 5 in version 0.22. Specify it explicitly to silence this warning.\n",
      "  warnings.warn(CV_WARNING, FutureWarning)\n"
     ]
    },
    {
     "name": "stdout",
     "output_type": "stream",
     "text": [
      "KernelRidge(alpha=0.1, coef0=1, degree=3, gamma=0.1, kernel='rbf',\n",
      "            kernel_params=None)\n",
      "RMSE_test: 10.857 STD_test: 0.571\n",
      "RMSE_train: 1.063 STD_train: 0.007\n",
      "Data size:(1833, 148)\n",
      "(1650, 148) (1650,)\n",
      "RMSE(Train): 1.054\n",
      "RMSE(Test): 10.910\n"
     ]
    }
   ],
   "source": [
    "# KRR\n",
    "cv_krr.fit(ocm_desc.iloc[:,:-1],ocm_desc.iloc[:,-1])\n",
    "cvalpha = cv_krr.best_params_['alpha']\n",
    "cvgamma = cv_krr.best_params_['gamma']\n",
    "estimator = KernelRidge(kernel='rbf',alpha=cvalpha, gamma=cvgamma)\n",
    "\n",
    "best_krr_ocmdesc = estimator\n",
    "print(estimator)\n",
    "\n",
    "cv = Cv_Pred_Expected(estimator=estimator,\\\n",
    "                      X=train_test.iloc[:,:-1],\\\n",
    "                      y=train_test.iloc[:,-1],\\\n",
    "                      cv=10, redc=True)\n",
    "cv.cross_validation()\n",
    "cv.plot_pred_expected(save=True,\\\n",
    "                      title='', \\\n",
    "                      os_title='',\\\n",
    "                      filename='output/fig4_krr_',\\\n",
    "                      titlesize=11,\n",
    "                      close=True)"
   ]
  },
  {
   "cell_type": "code",
   "execution_count": 33,
   "metadata": {},
   "outputs": [
    {
     "name": "stderr",
     "output_type": "stream",
     "text": [
      "/Users/takigawa/.pyenv/versions/anaconda3-5.1.0/lib/python3.6/site-packages/sklearn/model_selection/_split.py:1978: FutureWarning: The default value of cv will change from 3 to 5 in version 0.22. Specify it explicitly to silence this warning.\n",
      "  warnings.warn(CV_WARNING, FutureWarning)\n"
     ]
    },
    {
     "name": "stdout",
     "output_type": "stream",
     "text": [
      "SVR(C=10.0, cache_size=200, coef0=0.0, degree=3, epsilon=0.1, gamma=0.1,\n",
      "    kernel='rbf', max_iter=-1, shrinking=True, tol=0.001, verbose=False)\n",
      "RMSE_test: 6.415 STD_test: 0.308\n",
      "RMSE_train: 1.510 STD_train: 0.052\n",
      "Data size:(1833, 148)\n",
      "(1649, 148) (1649,)\n",
      "RMSE(Train): 1.533\n",
      "RMSE(Test): 6.468\n"
     ]
    }
   ],
   "source": [
    "# SVR\n",
    "cv_svr.fit(ocm_desc.iloc[:,:-1], ocm_desc.iloc[:,-1])\n",
    "cvC = cv_svr.best_params_['C']\n",
    "cvgamma = cv_svr.best_params_['gamma']\n",
    "cvepsilon = cv_svr.best_params_['epsilon']\n",
    "estimator = SVR(kernel='rbf', epsilon=cvepsilon, C=cvC, gamma=cvgamma)\n",
    "\n",
    "best_svr_ocmdesc = estimator\n",
    "print(estimator)\n",
    "\n",
    "cv = Cv_Pred_Expected(estimator=estimator,\\\n",
    "                      X=train_test.iloc[:,:-1],\\\n",
    "                      y=train_test.iloc[:,-1],\\\n",
    "                      cv=10, redc=True)\n",
    "cv.cross_validation()\n",
    "cv.plot_pred_expected(save=True,\\\n",
    "                      title='',\\\n",
    "                      os_title='',\\\n",
    "                      filename='output/fig4_svr_',\\\n",
    "                      titlesize=11,\n",
    "                      close=True)"
   ]
  },
  {
   "cell_type": "code",
   "execution_count": 34,
   "metadata": {},
   "outputs": [
    {
     "name": "stdout",
     "output_type": "stream",
     "text": [
      "RandomForestRegressor(bootstrap=True, criterion='mse', max_depth=None,\n",
      "                      max_features='auto', max_leaf_nodes=None,\n",
      "                      min_impurity_decrease=0.0, min_impurity_split=None,\n",
      "                      min_samples_leaf=1, min_samples_split=2,\n",
      "                      min_weight_fraction_leaf=0.0, n_estimators=10, n_jobs=-1,\n",
      "                      oob_score=False, random_state=929, verbose=0,\n",
      "                      warm_start=False)\n",
      "RMSE_test: 4.671 STD_test: 0.287\n",
      "RMSE_train: 1.974 STD_train: 0.052\n",
      "Data size:(1833, 148)\n",
      "(1650, 148) (1650,)\n",
      "RMSE(Train): 2.012\n",
      "RMSE(Test): 4.601\n"
     ]
    }
   ],
   "source": [
    "# RFR\n",
    "estimator = RandomForestRegressor(n_estimators=ntree, random_state=929, n_jobs=-1)\n",
    "\n",
    "best_rfr_ocmdesc = estimator\n",
    "print(estimator)\n",
    "\n",
    "cv = Cv_Pred_Expected(estimator=estimator,\\\n",
    "                      X=train_test.iloc[:,:-1],\\\n",
    "                      y=train_test.iloc[:,-1],\\\n",
    "                      cv=10, redc=True)\n",
    "cv.cross_validation()\n",
    "cv.plot_pred_expected(save=True,\\\n",
    "                      title='',\\\n",
    "                      os_title='',\\\n",
    "                      filename='output/fig4_rfr_',\\\n",
    "                      titlesize=11,\n",
    "                      close=True)"
   ]
  },
  {
   "cell_type": "code",
   "execution_count": 35,
   "metadata": {},
   "outputs": [
    {
     "name": "stdout",
     "output_type": "stream",
     "text": [
      "ExtraTreesRegressor(bootstrap=False, criterion='mse', max_depth=None,\n",
      "                    max_features='auto', max_leaf_nodes=None,\n",
      "                    min_impurity_decrease=0.0, min_impurity_split=None,\n",
      "                    min_samples_leaf=1, min_samples_split=2,\n",
      "                    min_weight_fraction_leaf=0.0, n_estimators=10, n_jobs=-1,\n",
      "                    oob_score=False, random_state=929, verbose=0,\n",
      "                    warm_start=False)\n",
      "RMSE_test: 4.508 STD_test: 0.358\n",
      "RMSE_train: 0.163 STD_train: 0.018\n",
      "Data size:(1833, 148)\n",
      "(1650, 148) (1650,)\n",
      "RMSE(Train): 0.173\n",
      "RMSE(Test): 4.435\n"
     ]
    }
   ],
   "source": [
    "# ETR\n",
    "estimator = ExtraTreesRegressor(n_estimators=ntree, random_state=929, n_jobs=-1)\n",
    "\n",
    "best_etr_ocmdesc = estimator\n",
    "print(estimator)\n",
    "\n",
    "cv = Cv_Pred_Expected(estimator=estimator,\\\n",
    "                      X=train_test.iloc[:,:-1],\\\n",
    "                      y=train_test.iloc[:,-1],\\\n",
    "                      cv=10, redc=True)\n",
    "cv.cross_validation()\n",
    "cv.plot_pred_expected(save=True,\\\n",
    "                      title='',\\\n",
    "                      os_title='',\\\n",
    "                      filename='output/fig4_etr_',\\\n",
    "                      titlesize=11,\n",
    "                      close=True)"
   ]
  },
  {
   "cell_type": "markdown",
   "metadata": {},
   "source": [
    "## Fig.6 (A)"
   ]
  },
  {
   "cell_type": "code",
   "execution_count": 36,
   "metadata": {},
   "outputs": [],
   "source": [
    "plt.figure(figsize=(6, 4), dpi=300)\n",
    "xgb_cvbest.importance.mean(axis=1).sort_values(ascending=False).iloc[:20][::-1].plot(kind='barh',color='b')\n",
    "plt.savefig('output/fig6_ocm.png', format='png',bbox_inches='tight', dpi=300)\n",
    "plt.savefig('output/fig6_ocm.pdf', format='pdf',bbox_inches='tight', dpi=300)\n",
    "plt.close()"
   ]
  },
  {
   "cell_type": "markdown",
   "metadata": {},
   "source": [
    "## Fig.2 (A)"
   ]
  },
  {
   "cell_type": "code",
   "execution_count": 37,
   "metadata": {},
   "outputs": [],
   "source": [
    "common = []\n",
    "tmp = ocm.loc[:,:'Zr']\n",
    "count = 0\n",
    "for key, row in tmp.iterrows():\n",
    "    for i, v in tmp.iloc[count + 1:].iterrows():\n",
    "        temp = (np.array(row) > 1e-5)\n",
    "        temp2 = (np.array(v) > 1e-5)\n",
    "        val = (temp * temp2).sum()\n",
    "        common.append(val)  \n",
    "    count = count + 1\n",
    "\n",
    "freq = dict(Counter(common))\n",
    "plt.figure(figsize=(2.5, 3))\n",
    "plt.bar(freq.keys(), freq.values())\n",
    "plt.xlabel('# Common Elements')\n",
    "plt.ylabel('Frequency (log)')\n",
    "plt.yscale('log')\n",
    "plt.savefig('output/fig2_ocm.png',format='png', bbox_inches='tight',dpi=300)\n",
    "plt.savefig('output/fig2_ocm.pdf',format='pdf', bbox_inches='tight',dpi=300)\n",
    "plt.close()"
   ]
  },
  {
   "cell_type": "code",
   "execution_count": 38,
   "metadata": {},
   "outputs": [
    {
     "name": "stdout",
     "output_type": "stream",
     "text": [
      "2.30\n"
     ]
    }
   ],
   "source": [
    "ocm_orig = pd.read_csv(\"input/OCM_matrix.csv\").drop(['Unnamed: 0'], axis=1)\n",
    "val = (ocm_orig.loc[:,:'Zr'] > 0).sum(axis=1).mean()\n",
    "print('%1.2f' % val)"
   ]
  },
  {
   "cell_type": "code",
   "execution_count": 39,
   "metadata": {},
   "outputs": [
    {
     "name": "stdout",
     "output_type": "stream",
     "text": [
      "I     1\n",
      "Ar    1\n",
      "Au    1\n",
      "Ga    1\n",
      "In    2\n",
      "Te    2\n",
      "Rh    2\n",
      "Pd    2\n",
      "Lu    2\n",
      "Sc    2\n",
      "Ru    2\n",
      "Be    3\n",
      "Re    3\n",
      "Cd    3\n",
      "Cr    3\n",
      "Ge    3\n",
      "N     4\n",
      "Tm    4\n",
      "Pt    4\n",
      "Ho    6\n",
      "Er    6\n",
      "Dy    8\n",
      "Cu    8\n",
      "Tb    9\n",
      "dtype: int64\n"
     ]
    }
   ],
   "source": [
    "dat = (ocm_orig.loc[:,:'Zr'] > 0).sum(axis=0).sort_values()\n",
    "ind = dat < 10\n",
    "print(dat[ind])"
   ]
  },
  {
   "cell_type": "markdown",
   "metadata": {},
   "source": [
    "## Fig.3 & Table 3"
   ]
  },
  {
   "cell_type": "code",
   "execution_count": 40,
   "metadata": {},
   "outputs": [],
   "source": [
    "def crossvalid(xx,yy,model,cv,txt):\n",
    "    cv = Cv_Pred_Expected(estimator=model,X=xx,y=yy,cv=10,redc = True)\n",
    "    cv.cross_validation()\n",
    "    tes_rmse = cv.rmse\n",
    "    tes_std = cv.std\n",
    "    trn_rmse = cv.rmse_train\n",
    "    trn_std = cv.std_train\n",
    "    print()\n",
    "    print(\"[%s] RMSE %1.3f (STD: %1.3f) ... test\" % (txt,tes_rmse,tes_std))\n",
    "    print(\"[%s] RMSE %1.3f (STD: %1.3f) ... train\" % (txt,trn_rmse,trn_std))\n",
    "    ret_obj = {}\n",
    "    ret_obj['tes_mean'] = tes_rmse\n",
    "    ret_obj['tes_sd']   = tes_std \n",
    "    ret_obj['trn_mean'] = trn_rmse\n",
    "    ret_obj['trn_sd']   = trn_std \n",
    "    return ret_obj"
   ]
  },
  {
   "cell_type": "markdown",
   "metadata": {},
   "source": [
    "### ocm_nocond"
   ]
  },
  {
   "cell_type": "code",
   "execution_count": 41,
   "metadata": {},
   "outputs": [],
   "source": [
    "rmse_ocm_nocond = {}\n",
    "data = shuffle(ocm_nocond, random_state=10)\n",
    "\n",
    "target_data = ocm_nocond"
   ]
  },
  {
   "cell_type": "code",
   "execution_count": 42,
   "metadata": {},
   "outputs": [
    {
     "name": "stderr",
     "output_type": "stream",
     "text": [
      "/Users/takigawa/.pyenv/versions/anaconda3-5.1.0/lib/python3.6/site-packages/sklearn/model_selection/_split.py:1978: FutureWarning: The default value of cv will change from 3 to 5 in version 0.22. Specify it explicitly to silence this warning.\n",
      "  warnings.warn(CV_WARNING, FutureWarning)\n",
      "/Users/takigawa/.pyenv/versions/anaconda3-5.1.0/lib/python3.6/site-packages/sklearn/model_selection/_split.py:1978: FutureWarning: The default value of cv will change from 3 to 5 in version 0.22. Specify it explicitly to silence this warning.\n",
      "  warnings.warn(CV_WARNING, FutureWarning)\n",
      "/Users/takigawa/.pyenv/versions/anaconda3-5.1.0/lib/python3.6/site-packages/sklearn/model_selection/_split.py:1978: FutureWarning: The default value of cv will change from 3 to 5 in version 0.22. Specify it explicitly to silence this warning.\n",
      "  warnings.warn(CV_WARNING, FutureWarning)\n",
      "/Users/takigawa/.pyenv/versions/anaconda3-5.1.0/lib/python3.6/site-packages/sklearn/model_selection/_split.py:1978: FutureWarning: The default value of cv will change from 3 to 5 in version 0.22. Specify it explicitly to silence this warning.\n",
      "  warnings.warn(CV_WARNING, FutureWarning)\n"
     ]
    }
   ],
   "source": [
    "# Lasso\n",
    "cv_lasso.fit(target_data.iloc[:,:-1], target_data.iloc[:,-1])\n",
    "cvalpha = cv_lasso.best_params_['alpha']\n",
    "best_lasso = Lasso(random_state=929, alpha=cvalpha)\n",
    "\n",
    "# Ridge\n",
    "cv_ridge.fit(target_data.iloc[:,:-1], target_data.iloc[:,-1])\n",
    "cvalpha = cv_ridge.best_params_['alpha']\n",
    "best_ridge = Ridge(random_state=929, alpha=cvalpha)\n",
    "\n",
    "# KRR\n",
    "cv_krr.fit(target_data.iloc[:,:-1], target_data.iloc[:,-1])\n",
    "cvalpha = cv_krr.best_params_['alpha']\n",
    "cvgamma = cv_krr.best_params_['gamma']\n",
    "best_krr = KernelRidge(kernel='rbf', alpha=cvalpha, gamma=cvgamma)\n",
    "\n",
    "# SVR\n",
    "cv_svr.fit(target_data.iloc[:,:-1], target_data.iloc[:,-1])\n",
    "cvC = cv_svr.best_params_['C']\n",
    "cvgamma = cv_svr.best_params_['gamma']\n",
    "cvepsilon = cv_svr.best_params_['epsilon']\n",
    "best_svr = SVR(kernel='rbf', epsilon=cvepsilon, C=cvC, gamma=cvgamma)\n",
    "\n",
    "# RFR\n",
    "best_rfr = RandomForestRegressor(n_estimators=ntree, random_state=929, n_jobs=-1)\n",
    "\n",
    "# ETR\n",
    "best_etr = ExtraTreesRegressor(n_estimators=ntree, random_state=929, n_jobs=-1)"
   ]
  },
  {
   "cell_type": "code",
   "execution_count": 43,
   "metadata": {},
   "outputs": [
    {
     "name": "stdout",
     "output_type": "stream",
     "text": [
      "Lasso(alpha=0.1, copy_X=True, fit_intercept=True, max_iter=1000,\n",
      "      normalize=False, positive=False, precompute=False, random_state=929,\n",
      "      selection='cyclic', tol=0.0001, warm_start=False)\n",
      "RMSE_test: 6.318 STD_test: 0.426\n",
      "RMSE_train: 6.105 STD_train: 0.052\n",
      "Data size:(1833, 69)\n",
      "\n",
      "[Lasso] RMSE 6.318 (STD: 0.426) ... test\n",
      "[Lasso] RMSE 6.105 (STD: 0.052) ... train\n",
      "Ridge(alpha=0.1, copy_X=True, fit_intercept=True, max_iter=None,\n",
      "      normalize=False, random_state=929, solver='auto', tol=0.001)\n",
      "RMSE_test: 6.840 STD_test: 1.149\n",
      "RMSE_train: 6.085 STD_train: 0.052\n",
      "Data size:(1833, 69)\n",
      "\n",
      "[Ridge] RMSE 6.840 (STD: 1.149) ... test\n",
      "[Ridge] RMSE 6.085 (STD: 0.052) ... train\n",
      "KernelRidge(alpha=0.1, coef0=1, degree=3, gamma=0.1, kernel='rbf',\n",
      "            kernel_params=None)\n",
      "RMSE_test: 8.645 STD_test: 0.525\n",
      "RMSE_train: 2.467 STD_train: 0.033\n",
      "Data size:(1833, 69)\n",
      "\n",
      "[KRR] RMSE 8.645 (STD: 0.525) ... test\n",
      "[KRR] RMSE 2.467 (STD: 0.033) ... train\n",
      "SVR(C=10.0, cache_size=200, coef0=0.0, degree=3, epsilon=0.1, gamma=1.0,\n",
      "    kernel='rbf', max_iter=-1, shrinking=True, tol=0.001, verbose=False)\n",
      "RMSE_test: 6.002 STD_test: 0.303\n",
      "RMSE_train: 2.597 STD_train: 0.046\n",
      "Data size:(1833, 69)\n",
      "\n",
      "[SVR] RMSE 6.002 (STD: 0.303) ... test\n",
      "[SVR] RMSE 2.597 (STD: 0.046) ... train\n",
      "RandomForestRegressor(bootstrap=True, criterion='mse', max_depth=None,\n",
      "                      max_features='auto', max_leaf_nodes=None,\n",
      "                      min_impurity_decrease=0.0, min_impurity_split=None,\n",
      "                      min_samples_leaf=1, min_samples_split=2,\n",
      "                      min_weight_fraction_leaf=0.0, n_estimators=10, n_jobs=-1,\n",
      "                      oob_score=False, random_state=929, verbose=0,\n",
      "                      warm_start=False)\n",
      "RMSE_test: 5.445 STD_test: 0.445\n",
      "RMSE_train: 2.748 STD_train: 0.034\n",
      "Data size:(1833, 69)\n",
      "\n",
      "[RFR] RMSE 5.445 (STD: 0.445) ... test\n",
      "[RFR] RMSE 2.748 (STD: 0.034) ... train\n",
      "ExtraTreesRegressor(bootstrap=False, criterion='mse', max_depth=None,\n",
      "                    max_features='auto', max_leaf_nodes=None,\n",
      "                    min_impurity_decrease=0.0, min_impurity_split=None,\n",
      "                    min_samples_leaf=1, min_samples_split=2,\n",
      "                    min_weight_fraction_leaf=0.0, n_estimators=10, n_jobs=-1,\n",
      "                    oob_score=False, random_state=929, verbose=0,\n",
      "                    warm_start=False)\n",
      "RMSE_test: 5.554 STD_test: 0.300\n",
      "RMSE_train: 1.851 STD_train: 0.034\n",
      "Data size:(1833, 69)\n",
      "\n",
      "[ETR] RMSE 5.554 (STD: 0.300) ... test\n",
      "[ETR] RMSE 1.851 (STD: 0.034) ... train\n",
      "XGBRegressor(base_score=0.5, booster='gbtree', colsample_bylevel=1,\n",
      "             colsample_bytree=0.9, gamma=0, importance_type='gain',\n",
      "             learning_rate=0.05, max_delta_step=0, max_depth=4,\n",
      "             min_child_weight=1, missing=None, n_estimators=10, n_jobs=-1,\n",
      "             nthread=None, objective='reg:linear', random_state=929,\n",
      "             reg_alpha=0, reg_lambda=1, scale_pos_weight=1, seed=929,\n",
      "             silent=True, subsample=1)\n"
     ]
    },
    {
     "name": "stderr",
     "output_type": "stream",
     "text": [
      "/Users/takigawa/.pyenv/versions/anaconda3-5.1.0/lib/python3.6/site-packages/xgboost/core.py:587: FutureWarning: Series.base is deprecated and will be removed in a future version\n",
      "  if getattr(data, 'base', None) is not None and \\\n"
     ]
    },
    {
     "name": "stdout",
     "output_type": "stream",
     "text": [
      "RMSE_test: 8.329 STD_test: 0.499\n",
      "RMSE_train: 8.275 STD_train: 0.045\n",
      "Data size:(1833, 69)\n",
      "\n",
      "[XGB] RMSE 8.329 (STD: 0.499) ... test\n",
      "[XGB] RMSE 8.275 (STD: 0.045) ... train\n"
     ]
    }
   ],
   "source": [
    "model = best_lasso\n",
    "print(model)\n",
    "rmse_ocm_nocond['Lasso'] = crossvalid(data.iloc[:,:-1], data.iloc[:,-1], model, 10, 'Lasso')\n",
    "\n",
    "model = best_ridge\n",
    "print(model)\n",
    "rmse_ocm_nocond['Ridge'] = crossvalid(data.iloc[:,:-1], data.iloc[:,-1], model, 10,  'Ridge')\n",
    "\n",
    "model = best_krr\n",
    "print(model)\n",
    "rmse_ocm_nocond['KRR'] = crossvalid(data.iloc[:,:-1], data.iloc[:,-1], model, 10, 'KRR')\n",
    "\n",
    "model = best_svr\n",
    "print(model)\n",
    "rmse_ocm_nocond['SVR'] = crossvalid(data.iloc[:,:-1], data.iloc[:,-1], model, 10, 'SVR')\n",
    "\n",
    "model = best_rfr\n",
    "print(model)\n",
    "rmse_ocm_nocond['RFR'] = crossvalid(data.iloc[:,:-1], data.iloc[:,-1], model, 10, 'RFR')\n",
    "\n",
    "model = best_etr\n",
    "print(model)\n",
    "rmse_ocm_nocond['ETR'] = crossvalid(data.iloc[:,:-1], data.iloc[:,-1], model, 10, 'ETR')\n",
    "\n",
    "model = best_xgb_ocmnocond\n",
    "print(model)\n",
    "rmse_ocm_nocond['XGB'] = crossvalid(data.iloc[:,:-1], data.iloc[:,-1], model, 10, 'XGB')"
   ]
  },
  {
   "cell_type": "markdown",
   "metadata": {},
   "source": [
    "### ocm"
   ]
  },
  {
   "cell_type": "code",
   "execution_count": 44,
   "metadata": {},
   "outputs": [],
   "source": [
    "rmse_ocm = {}\n",
    "data = shuffle(ocm, random_state=10)\n",
    "target_data = ocm"
   ]
  },
  {
   "cell_type": "code",
   "execution_count": 45,
   "metadata": {},
   "outputs": [
    {
     "name": "stderr",
     "output_type": "stream",
     "text": [
      "/Users/takigawa/.pyenv/versions/anaconda3-5.1.0/lib/python3.6/site-packages/sklearn/model_selection/_split.py:1978: FutureWarning: The default value of cv will change from 3 to 5 in version 0.22. Specify it explicitly to silence this warning.\n",
      "  warnings.warn(CV_WARNING, FutureWarning)\n",
      "/Users/takigawa/.pyenv/versions/anaconda3-5.1.0/lib/python3.6/site-packages/sklearn/linear_model/coordinate_descent.py:475: ConvergenceWarning: Objective did not converge. You might want to increase the number of iterations. Duality gap: 300.2468069471979, tolerance: 5.508298215425533\n",
      "  positive)\n",
      "/Users/takigawa/.pyenv/versions/anaconda3-5.1.0/lib/python3.6/site-packages/sklearn/model_selection/_split.py:1978: FutureWarning: The default value of cv will change from 3 to 5 in version 0.22. Specify it explicitly to silence this warning.\n",
      "  warnings.warn(CV_WARNING, FutureWarning)\n",
      "/Users/takigawa/.pyenv/versions/anaconda3-5.1.0/lib/python3.6/site-packages/sklearn/model_selection/_split.py:1978: FutureWarning: The default value of cv will change from 3 to 5 in version 0.22. Specify it explicitly to silence this warning.\n",
      "  warnings.warn(CV_WARNING, FutureWarning)\n",
      "/Users/takigawa/.pyenv/versions/anaconda3-5.1.0/lib/python3.6/site-packages/sklearn/model_selection/_split.py:1978: FutureWarning: The default value of cv will change from 3 to 5 in version 0.22. Specify it explicitly to silence this warning.\n",
      "  warnings.warn(CV_WARNING, FutureWarning)\n"
     ]
    }
   ],
   "source": [
    "# Lasso\n",
    "cv_lasso.fit(target_data.iloc[:,:-1], target_data.iloc[:,-1])\n",
    "cvalpha = cv_lasso.best_params_['alpha']\n",
    "best_lasso = Lasso(random_state=929, alpha=cvalpha)\n",
    "\n",
    "# Ridge\n",
    "cv_ridge.fit(target_data.iloc[:,:-1], target_data.iloc[:,-1])\n",
    "cvalpha = cv_ridge.best_params_['alpha']\n",
    "best_ridge = Ridge(random_state=929, alpha=cvalpha)\n",
    "\n",
    "# KRR\n",
    "cv_krr.fit(target_data.iloc[:,:-1], target_data.iloc[:,-1])\n",
    "cvalpha = cv_krr.best_params_['alpha']\n",
    "cvgamma = cv_krr.best_params_['gamma']\n",
    "best_krr = KernelRidge(kernel='rbf', alpha=cvalpha, gamma=cvgamma)\n",
    "\n",
    "# SVR\n",
    "cv_svr.fit(target_data.iloc[:,:-1], target_data.iloc[:,-1])\n",
    "cvC = cv_svr.best_params_['C']\n",
    "cvgamma = cv_svr.best_params_['gamma']\n",
    "cvepsilon = cv_svr.best_params_['epsilon']\n",
    "best_svr = SVR(kernel='rbf', epsilon=cvepsilon, C=cvC, gamma=cvgamma)\n",
    "\n",
    "# RFR\n",
    "best_rfr = RandomForestRegressor(n_estimators=ntree, random_state=929, n_jobs=-1)\n",
    "\n",
    "# ETR\n",
    "best_etr = ExtraTreesRegressor(n_estimators=ntree, random_state=929, n_jobs=-1)"
   ]
  },
  {
   "cell_type": "code",
   "execution_count": 46,
   "metadata": {},
   "outputs": [
    {
     "name": "stdout",
     "output_type": "stream",
     "text": [
      "Lasso(alpha=0.01, copy_X=True, fit_intercept=True, max_iter=1000,\n",
      "      normalize=False, positive=False, precompute=False, random_state=929,\n",
      "      selection='cyclic', tol=0.0001, warm_start=False)\n"
     ]
    },
    {
     "name": "stderr",
     "output_type": "stream",
     "text": [
      "/Users/takigawa/.pyenv/versions/anaconda3-5.1.0/lib/python3.6/site-packages/sklearn/linear_model/coordinate_descent.py:475: ConvergenceWarning: Objective did not converge. You might want to increase the number of iterations. Duality gap: 1057.6749693350648, tolerance: 7.544120143723469\n",
      "  positive)\n",
      "/Users/takigawa/.pyenv/versions/anaconda3-5.1.0/lib/python3.6/site-packages/sklearn/linear_model/coordinate_descent.py:475: ConvergenceWarning: Objective did not converge. You might want to increase the number of iterations. Duality gap: 712.215468669383, tolerance: 7.431372534869618\n",
      "  positive)\n",
      "/Users/takigawa/.pyenv/versions/anaconda3-5.1.0/lib/python3.6/site-packages/sklearn/linear_model/coordinate_descent.py:475: ConvergenceWarning: Objective did not converge. You might want to increase the number of iterations. Duality gap: 72.41255264348729, tolerance: 7.516430010915706\n",
      "  positive)\n",
      "/Users/takigawa/.pyenv/versions/anaconda3-5.1.0/lib/python3.6/site-packages/sklearn/linear_model/coordinate_descent.py:475: ConvergenceWarning: Objective did not converge. You might want to increase the number of iterations. Duality gap: 2865.626598288196, tolerance: 7.313736882575759\n",
      "  positive)\n",
      "/Users/takigawa/.pyenv/versions/anaconda3-5.1.0/lib/python3.6/site-packages/sklearn/linear_model/coordinate_descent.py:475: ConvergenceWarning: Objective did not converge. You might want to increase the number of iterations. Duality gap: 162.5931898168783, tolerance: 7.405482246212122\n",
      "  positive)\n",
      "/Users/takigawa/.pyenv/versions/anaconda3-5.1.0/lib/python3.6/site-packages/sklearn/linear_model/coordinate_descent.py:475: ConvergenceWarning: Objective did not converge. You might want to increase the number of iterations. Duality gap: 98.45312209647818, tolerance: 7.377854583181818\n",
      "  positive)\n",
      "/Users/takigawa/.pyenv/versions/anaconda3-5.1.0/lib/python3.6/site-packages/sklearn/linear_model/coordinate_descent.py:475: ConvergenceWarning: Objective did not converge. You might want to increase the number of iterations. Duality gap: 11.092406778050645, tolerance: 7.442958406212123\n",
      "  positive)\n",
      "/Users/takigawa/.pyenv/versions/anaconda3-5.1.0/lib/python3.6/site-packages/sklearn/linear_model/coordinate_descent.py:475: ConvergenceWarning: Objective did not converge. You might want to increase the number of iterations. Duality gap: 29.55659114799346, tolerance: 7.283308322575759\n",
      "  positive)\n"
     ]
    },
    {
     "name": "stdout",
     "output_type": "stream",
     "text": [
      "RMSE_test: 6.069 STD_test: 0.539\n",
      "RMSE_train: 5.590 STD_train: 0.049\n",
      "Data size:(1833, 104)\n",
      "\n",
      "[Lasso] RMSE 6.069 (STD: 0.539) ... test\n",
      "[Lasso] RMSE 5.590 (STD: 0.049) ... train\n",
      "Ridge(alpha=0.01, copy_X=True, fit_intercept=True, max_iter=None,\n",
      "      normalize=False, random_state=929, solver='auto', tol=0.001)\n",
      "RMSE_test: 6.641 STD_test: 0.823\n",
      "RMSE_train: 5.561 STD_train: 0.049\n",
      "Data size:(1833, 104)\n",
      "\n",
      "[Ridge] RMSE 6.641 (STD: 0.823) ... test\n",
      "[Ridge] RMSE 5.561 (STD: 0.049) ... train\n",
      "KernelRidge(alpha=0.1, coef0=1, degree=3, gamma=0.1, kernel='rbf',\n",
      "            kernel_params=None)\n",
      "RMSE_test: 9.829 STD_test: 0.543\n",
      "RMSE_train: 1.185 STD_train: 0.027\n",
      "Data size:(1833, 104)\n",
      "\n",
      "[KRR] RMSE 9.829 (STD: 0.543) ... test\n",
      "[KRR] RMSE 1.185 (STD: 0.027) ... train\n",
      "SVR(C=10.0, cache_size=200, coef0=0.0, degree=3, epsilon=0.1, gamma=0.1,\n",
      "    kernel='rbf', max_iter=-1, shrinking=True, tol=0.001, verbose=False)\n",
      "RMSE_test: 6.163 STD_test: 0.368\n",
      "RMSE_train: 1.893 STD_train: 0.058\n",
      "Data size:(1833, 104)\n",
      "\n",
      "[SVR] RMSE 6.163 (STD: 0.368) ... test\n",
      "[SVR] RMSE 1.893 (STD: 0.058) ... train\n",
      "RandomForestRegressor(bootstrap=True, criterion='mse', max_depth=None,\n",
      "                      max_features='auto', max_leaf_nodes=None,\n",
      "                      min_impurity_decrease=0.0, min_impurity_split=None,\n",
      "                      min_samples_leaf=1, min_samples_split=2,\n",
      "                      min_weight_fraction_leaf=0.0, n_estimators=10, n_jobs=-1,\n",
      "                      oob_score=False, random_state=929, verbose=0,\n",
      "                      warm_start=False)\n",
      "RMSE_test: 4.622 STD_test: 0.354\n",
      "RMSE_train: 1.975 STD_train: 0.041\n",
      "Data size:(1833, 104)\n",
      "\n",
      "[RFR] RMSE 4.622 (STD: 0.354) ... test\n",
      "[RFR] RMSE 1.975 (STD: 0.041) ... train\n",
      "ExtraTreesRegressor(bootstrap=False, criterion='mse', max_depth=None,\n",
      "                    max_features='auto', max_leaf_nodes=None,\n",
      "                    min_impurity_decrease=0.0, min_impurity_split=None,\n",
      "                    min_samples_leaf=1, min_samples_split=2,\n",
      "                    min_weight_fraction_leaf=0.0, n_estimators=10, n_jobs=-1,\n",
      "                    oob_score=False, random_state=929, verbose=0,\n",
      "                    warm_start=False)\n",
      "RMSE_test: 4.518 STD_test: 0.276\n",
      "RMSE_train: 0.163 STD_train: 0.018\n",
      "Data size:(1833, 104)\n",
      "\n",
      "[ETR] RMSE 4.518 (STD: 0.276) ... test\n",
      "[ETR] RMSE 0.163 (STD: 0.018) ... train\n",
      "XGBRegressor(base_score=0.5, booster='gbtree', colsample_bylevel=1,\n",
      "             colsample_bytree=0.9, gamma=0, importance_type='gain',\n",
      "             learning_rate=0.1, max_delta_step=0, max_depth=4,\n",
      "             min_child_weight=1, missing=None, n_estimators=10, n_jobs=-1,\n",
      "             nthread=None, objective='reg:linear', random_state=929,\n",
      "             reg_alpha=0, reg_lambda=1, scale_pos_weight=1, seed=929,\n",
      "             silent=True, subsample=1)\n"
     ]
    },
    {
     "name": "stderr",
     "output_type": "stream",
     "text": [
      "/Users/takigawa/.pyenv/versions/anaconda3-5.1.0/lib/python3.6/site-packages/xgboost/core.py:587: FutureWarning: Series.base is deprecated and will be removed in a future version\n",
      "  if getattr(data, 'base', None) is not None and \\\n"
     ]
    },
    {
     "name": "stdout",
     "output_type": "stream",
     "text": [
      "RMSE_test: 6.578 STD_test: 0.447\n",
      "RMSE_train: 6.382 STD_train: 0.032\n",
      "Data size:(1833, 104)\n",
      "\n",
      "[XGB] RMSE 6.578 (STD: 0.447) ... test\n",
      "[XGB] RMSE 6.382 (STD: 0.032) ... train\n"
     ]
    }
   ],
   "source": [
    "model = best_lasso\n",
    "print(model)\n",
    "rmse_ocm['Lasso'] = crossvalid(data.iloc[:,:-1], data.iloc[:,-1], model, 10, 'Lasso')\n",
    "\n",
    "model = best_ridge\n",
    "print(model)\n",
    "rmse_ocm['Ridge'] = crossvalid(data.iloc[:,:-1], data.iloc[:,-1], model, 10, 'Ridge')\n",
    "\n",
    "model = best_krr\n",
    "print(model)\n",
    "rmse_ocm['KRR'] = crossvalid(data.iloc[:,:-1], data.iloc[:,-1], model, 10, 'KRR')\n",
    "\n",
    "model = best_svr\n",
    "print(model)\n",
    "rmse_ocm['SVR'] = crossvalid(data.iloc[:,:-1], data.iloc[:,-1], model, 10, 'SVR')\n",
    "\n",
    "model = best_rfr\n",
    "print(model)\n",
    "rmse_ocm['RFR'] = crossvalid(data.iloc[:,:-1], data.iloc[:,-1], model, 10, 'RFR')\n",
    "\n",
    "model = best_etr\n",
    "print(model)\n",
    "rmse_ocm['ETR'] = crossvalid(data.iloc[:,:-1], data.iloc[:,-1], model, 10, 'ETR')\n",
    "\n",
    "model = best_xgb_ocm\n",
    "print(model)\n",
    "rmse_ocm['XGB'] = crossvalid(data.iloc[:,:-1], data.iloc[:,-1], model, 10, 'XGB')"
   ]
  },
  {
   "cell_type": "markdown",
   "metadata": {},
   "source": [
    "### ocm_desc"
   ]
  },
  {
   "cell_type": "code",
   "execution_count": 47,
   "metadata": {},
   "outputs": [],
   "source": [
    "rmse_ocm_desc = {}\n",
    "data = shuffle(ocm_desc, random_state=929)\n",
    "target_data = ocm_desc"
   ]
  },
  {
   "cell_type": "code",
   "execution_count": 48,
   "metadata": {},
   "outputs": [
    {
     "name": "stdout",
     "output_type": "stream",
     "text": [
      "Lasso(alpha=0.01, copy_X=True, fit_intercept=True, max_iter=1000,\n",
      "      normalize=False, positive=False, precompute=False, random_state=929,\n",
      "      selection='cyclic', tol=0.0001, warm_start=False)\n"
     ]
    },
    {
     "name": "stderr",
     "output_type": "stream",
     "text": [
      "/Users/takigawa/.pyenv/versions/anaconda3-5.1.0/lib/python3.6/site-packages/sklearn/linear_model/coordinate_descent.py:475: ConvergenceWarning: Objective did not converge. You might want to increase the number of iterations. Duality gap: 24281.24615518106, tolerance: 7.365366804123711\n",
      "  positive)\n",
      "/Users/takigawa/.pyenv/versions/anaconda3-5.1.0/lib/python3.6/site-packages/sklearn/linear_model/coordinate_descent.py:475: ConvergenceWarning: Objective did not converge. You might want to increase the number of iterations. Duality gap: 25443.1501925046, tolerance: 7.531452939357186\n",
      "  positive)\n",
      "/Users/takigawa/.pyenv/versions/anaconda3-5.1.0/lib/python3.6/site-packages/sklearn/linear_model/coordinate_descent.py:475: ConvergenceWarning: Objective did not converge. You might want to increase the number of iterations. Duality gap: 24131.01359004105, tolerance: 7.383119440873256\n",
      "  positive)\n",
      "/Users/takigawa/.pyenv/versions/anaconda3-5.1.0/lib/python3.6/site-packages/sklearn/linear_model/coordinate_descent.py:475: ConvergenceWarning: Objective did not converge. You might want to increase the number of iterations. Duality gap: 24335.25981850167, tolerance: 7.354483103181818\n",
      "  positive)\n",
      "/Users/takigawa/.pyenv/versions/anaconda3-5.1.0/lib/python3.6/site-packages/sklearn/linear_model/coordinate_descent.py:475: ConvergenceWarning: Objective did not converge. You might want to increase the number of iterations. Duality gap: 25316.91369607669, tolerance: 7.45893969939394\n",
      "  positive)\n",
      "/Users/takigawa/.pyenv/versions/anaconda3-5.1.0/lib/python3.6/site-packages/sklearn/linear_model/coordinate_descent.py:475: ConvergenceWarning: Objective did not converge. You might want to increase the number of iterations. Duality gap: 24656.92602916218, tolerance: 7.378376019545457\n",
      "  positive)\n",
      "/Users/takigawa/.pyenv/versions/anaconda3-5.1.0/lib/python3.6/site-packages/sklearn/linear_model/coordinate_descent.py:475: ConvergenceWarning: Objective did not converge. You might want to increase the number of iterations. Duality gap: 25444.503361302162, tolerance: 7.37397911530303\n",
      "  positive)\n",
      "/Users/takigawa/.pyenv/versions/anaconda3-5.1.0/lib/python3.6/site-packages/sklearn/linear_model/coordinate_descent.py:475: ConvergenceWarning: Objective did not converge. You might want to increase the number of iterations. Duality gap: 24489.380043215333, tolerance: 7.380192704393938\n",
      "  positive)\n",
      "/Users/takigawa/.pyenv/versions/anaconda3-5.1.0/lib/python3.6/site-packages/sklearn/linear_model/coordinate_descent.py:475: ConvergenceWarning: Objective did not converge. You might want to increase the number of iterations. Duality gap: 25077.89308494029, tolerance: 7.521445442575758\n",
      "  positive)\n",
      "/Users/takigawa/.pyenv/versions/anaconda3-5.1.0/lib/python3.6/site-packages/sklearn/linear_model/coordinate_descent.py:475: ConvergenceWarning: Objective did not converge. You might want to increase the number of iterations. Duality gap: 25378.242680708656, tolerance: 7.512344831666669\n",
      "  positive)\n"
     ]
    },
    {
     "name": "stdout",
     "output_type": "stream",
     "text": [
      "RMSE_test: 6.038 STD_test: 0.608\n",
      "RMSE_train: 5.401 STD_train: 0.056\n",
      "Data size:(1833, 148)\n",
      "\n",
      "[Lasso] RMSE 6.038 (STD: 0.608) ... test\n",
      "[Lasso] RMSE 5.401 (STD: 0.056) ... train\n",
      "Ridge(alpha=0.1, copy_X=True, fit_intercept=True, max_iter=None,\n",
      "      normalize=False, random_state=929, solver='auto', tol=0.001)\n",
      "RMSE_test: 6.499 STD_test: 0.627\n",
      "RMSE_train: 5.354 STD_train: 0.057\n",
      "Data size:(1833, 148)\n",
      "\n",
      "[Ridge] RMSE 6.499 (STD: 0.627) ... test\n",
      "[Ridge] RMSE 5.354 (STD: 0.057) ... train\n",
      "KernelRidge(alpha=0.1, coef0=1, degree=3, gamma=0.1, kernel='rbf',\n",
      "            kernel_params=None)\n",
      "RMSE_test: 10.904 STD_test: 0.552\n",
      "RMSE_train: 1.062 STD_train: 0.009\n",
      "Data size:(1833, 148)\n",
      "\n",
      "[KRR] RMSE 10.904 (STD: 0.552) ... test\n",
      "[KRR] RMSE 1.062 (STD: 0.009) ... train\n",
      "SVR(C=10.0, cache_size=200, coef0=0.0, degree=3, epsilon=0.1, gamma=0.1,\n",
      "    kernel='rbf', max_iter=-1, shrinking=True, tol=0.001, verbose=False)\n",
      "RMSE_test: 6.421 STD_test: 0.301\n",
      "RMSE_train: 1.508 STD_train: 0.049\n",
      "Data size:(1833, 148)\n",
      "\n",
      "[SVR] RMSE 6.421 (STD: 0.301) ... test\n",
      "[SVR] RMSE 1.508 (STD: 0.049) ... train\n",
      "RandomForestRegressor(bootstrap=True, criterion='mse', max_depth=None,\n",
      "                      max_features='auto', max_leaf_nodes=None,\n",
      "                      min_impurity_decrease=0.0, min_impurity_split=None,\n",
      "                      min_samples_leaf=1, min_samples_split=2,\n",
      "                      min_weight_fraction_leaf=0.0, n_estimators=10, n_jobs=-1,\n",
      "                      oob_score=False, random_state=929, verbose=0,\n",
      "                      warm_start=False)\n",
      "RMSE_test: 4.594 STD_test: 0.310\n",
      "RMSE_train: 1.967 STD_train: 0.043\n",
      "Data size:(1833, 148)\n",
      "\n",
      "[RFR] RMSE 4.594 (STD: 0.310) ... test\n",
      "[RFR] RMSE 1.967 (STD: 0.043) ... train\n",
      "ExtraTreesRegressor(bootstrap=False, criterion='mse', max_depth=None,\n",
      "                    max_features='auto', max_leaf_nodes=None,\n",
      "                    min_impurity_decrease=0.0, min_impurity_split=None,\n",
      "                    min_samples_leaf=1, min_samples_split=2,\n",
      "                    min_weight_fraction_leaf=0.0, n_estimators=10, n_jobs=-1,\n",
      "                    oob_score=False, random_state=929, verbose=0,\n",
      "                    warm_start=False)\n",
      "RMSE_test: 4.450 STD_test: 0.473\n",
      "RMSE_train: 0.157 STD_train: 0.021\n",
      "Data size:(1833, 148)\n",
      "\n",
      "[ETR] RMSE 4.450 (STD: 0.473) ... test\n",
      "[ETR] RMSE 0.157 (STD: 0.021) ... train\n",
      "XGBRegressor(base_score=0.5, booster='gbtree', colsample_bylevel=1,\n",
      "             colsample_bytree=1, gamma=0, importance_type='gain',\n",
      "             learning_rate=0.05, max_delta_step=0, max_depth=4,\n",
      "             min_child_weight=1, missing=None, n_estimators=10, n_jobs=-1,\n",
      "             nthread=None, objective='reg:linear', random_state=929,\n",
      "             reg_alpha=0, reg_lambda=1, scale_pos_weight=1, seed=929,\n",
      "             silent=True, subsample=0.9)\n"
     ]
    },
    {
     "name": "stderr",
     "output_type": "stream",
     "text": [
      "/Users/takigawa/.pyenv/versions/anaconda3-5.1.0/lib/python3.6/site-packages/xgboost/core.py:587: FutureWarning: Series.base is deprecated and will be removed in a future version\n",
      "  if getattr(data, 'base', None) is not None and \\\n"
     ]
    },
    {
     "name": "stdout",
     "output_type": "stream",
     "text": [
      "RMSE_test: 8.130 STD_test: 0.492\n",
      "RMSE_train: 8.039 STD_train: 0.039\n",
      "Data size:(1833, 148)\n",
      "\n",
      "[XGB] RMSE 8.130 (STD: 0.492) ... test\n",
      "[XGB] RMSE 8.039 (STD: 0.039) ... train\n"
     ]
    }
   ],
   "source": [
    "model = best_lasso_ocmdesc\n",
    "print(model)\n",
    "rmse_ocm_desc['Lasso'] = crossvalid(data.iloc[:,:-1], data.iloc[:,-1], model, 10, 'Lasso')\n",
    "\n",
    "model = best_ridge_ocmdesc\n",
    "print(model)\n",
    "rmse_ocm_desc['Ridge'] = crossvalid(data.iloc[:,:-1], data.iloc[:,-1], model, 10, 'Ridge')\n",
    "\n",
    "model = best_krr_ocmdesc\n",
    "print(model)\n",
    "rmse_ocm_desc['KRR'] = crossvalid(data.iloc[:,:-1], data.iloc[:,-1], model, 10, 'KRR')\n",
    "\n",
    "model = best_svr_ocmdesc\n",
    "print(model)\n",
    "rmse_ocm_desc['SVR'] = crossvalid(data.iloc[:,:-1], data.iloc[:,-1], model, 10, 'SVR')\n",
    "\n",
    "model = best_rfr_ocmdesc\n",
    "print(model)\n",
    "rmse_ocm_desc['RFR'] = crossvalid(data.iloc[:,:-1], data.iloc[:,-1], model, 10, 'RFR')\n",
    "\n",
    "model = best_etr_ocmdesc\n",
    "print(model)\n",
    "rmse_ocm_desc['ETR'] = crossvalid(data.iloc[:,:-1], data.iloc[:,-1], model, 10, 'ETR')\n",
    "\n",
    "model = best_xgb_ocmdesc\n",
    "print(model)\n",
    "rmse_ocm_desc['XGB'] = crossvalid(data.iloc[:,:-1], data.iloc[:,-1], model, 10, 'XGB')"
   ]
  },
  {
   "cell_type": "markdown",
   "metadata": {},
   "source": [
    "### Fig.3"
   ]
  },
  {
   "cell_type": "code",
   "execution_count": 49,
   "metadata": {
    "scrolled": false
   },
   "outputs": [],
   "source": [
    "methods = ['Lasso','Ridge','KRR','SVR','RFR','ETR','XGB']\n",
    "\n",
    "tes_mean = [rmse_ocm_desc[m]['tes_mean'] for m in methods]\n",
    "tes_sd   = [rmse_ocm_desc[m]['tes_sd']   for m in methods]\n",
    "trn_mean = [rmse_ocm_desc[m]['trn_mean'] for m in methods]\n",
    "trn_sd   = [rmse_ocm_desc[m]['trn_sd']   for m in methods]\n",
    "\n",
    "# 2*sigma = 95% CI\n",
    "tes_ci = 2 * np.array(tes_sd)\n",
    "trn_ci = 2 * np.array(trn_sd)\n",
    "\n",
    "plt.figure(figsize=(6,3))\n",
    "\n",
    "ind = np.arange(len(methods))\n",
    "width = 0.4\n",
    "plt.bar(ind, trn_mean, width, color='0.9', align='center', yerr=trn_ci)\n",
    "plt.bar(ind+width, tes_mean, width, color='0.6', align='center', yerr=tes_ci)\n",
    "\n",
    "plt.ylabel('RMSE (%)')\n",
    "plt.xticks(ind+width/2,methods,rotation=45, fontsize=12)\n",
    "plt.legend(('Training Error',\n",
    "            'Test Error'), loc =\"upper right\", prop={'size':12})\n",
    "plt.ylim(0,np.max(tes_mean)+5)\n",
    "\n",
    "for x,y in zip(ind, trn_mean):\n",
    "    plt.text(x, y+1.5, '%.2f' % y, ha='center', va= 'bottom', rotation='90', fontsize=10)\n",
    "\n",
    "for x,y in zip(ind+width, tes_mean):\n",
    "    plt.text(x, y+1.5, '%.2f' % y, ha='center', va= 'bottom', rotation='90', fontsize=10)\n",
    "\n",
    "plt.savefig('output/fig3.png',format='png', bbox_inches='tight',dpi=300)\n",
    "plt.savefig('output/fig3.pdf',format='pdf', bbox_inches='tight',dpi=300)\n",
    "plt.close()"
   ]
  },
  {
   "cell_type": "markdown",
   "metadata": {},
   "source": [
    "### Table 3"
   ]
  },
  {
   "cell_type": "code",
   "execution_count": 50,
   "metadata": {},
   "outputs": [
    {
     "name": "stdout",
     "output_type": "stream",
     "text": [
      "          Lasso  Ridge   KRR   SVR   RFR   ETR   XGB\n",
      "tes_mean   6.32   6.84  8.65  6.00  5.45  5.55  8.33\n",
      "tes_sd     0.43   1.15  0.52  0.30  0.45  0.30  0.50\n",
      "trn_mean   6.11   6.09  2.47  2.60  2.75  1.85  8.27\n",
      "trn_sd     0.05   0.05  0.03  0.05  0.03  0.03  0.05\n",
      "          Lasso  Ridge   KRR   SVR   RFR   ETR   XGB\n",
      "tes_mean   6.07   6.64  9.83  6.16  4.62  4.52  6.58\n",
      "tes_sd     0.54   0.82  0.54  0.37  0.35  0.28  0.45\n",
      "trn_mean   5.59   5.56  1.18  1.89  1.98  0.16  6.38\n",
      "trn_sd     0.05   0.05  0.03  0.06  0.04  0.02  0.03\n",
      "          Lasso  Ridge       KRR   SVR   RFR   ETR   XGB\n",
      "tes_mean   6.04   6.50  1.09e+01  6.42  4.59  4.45  8.13\n",
      "tes_sd     0.61   0.63  5.52e-01  0.30  0.31  0.47  0.49\n",
      "trn_mean   5.40   5.35  1.06e+00  1.51  1.97  0.16  8.04\n",
      "trn_sd     0.06   0.06  9.44e-03  0.05  0.04  0.02  0.04\n"
     ]
    }
   ],
   "source": [
    "pd.options.display.precision = 2\n",
    "\n",
    "print(pd.DataFrame(rmse_ocm_nocond))\n",
    "\n",
    "print(pd.DataFrame(rmse_ocm))\n",
    "\n",
    "print(pd.DataFrame(rmse_ocm_desc))"
   ]
  },
  {
   "cell_type": "markdown",
   "metadata": {},
   "source": [
    "## WGS data"
   ]
  },
  {
   "cell_type": "code",
   "execution_count": 51,
   "metadata": {},
   "outputs": [],
   "source": [
    "desc = pd.read_csv('input/Descriptors.csv',skiprows = [0],index_col='symbol').drop(['Unnamed: 0',\n",
    "                                                                               'name',\n",
    "                                                                               'ionic radius',\n",
    "                                                                               'covalent radius',\n",
    "                                                                               'VdW radius',\n",
    "                                                                               'crystal radius',\n",
    "                                                                               'a x 106 ',\n",
    "                                                                               'Heat capacity ',\n",
    "                                                                               'l',\n",
    "                                                                               'electron affinity ',\n",
    "                                                                               'VE',\n",
    "                                                                               'Surface energy '],axis=1)\n",
    "desc = desc.iloc[:83, :]"
   ]
  },
  {
   "cell_type": "code",
   "execution_count": 52,
   "metadata": {},
   "outputs": [],
   "source": [
    "wgs = pd.read_csv(\"input/wgs.csv\")\n",
    "wgs.index = list(wgs.iloc[:,0])\n",
    "wgs = wgs.drop([wgs.columns[0]], axis=1)\n",
    "\n",
    "wgs_desc = pd.read_csv(\"input/wgs_desc.csv\")\n",
    "wgs_desc.index = list(wgs_desc.iloc[:,0])\n",
    "wgs_desc = wgs_desc.drop([wgs_desc.columns[0]], axis=1)\n",
    "\n",
    "atom = list(wgs.loc[:,:'Pd'].columns) + list(wgs.loc[:,'Li':'Sr'].columns)\n",
    "desc = desc.loc[atom]\n",
    "\n",
    "desc=desc.fillna(desc.mean())"
   ]
  },
  {
   "cell_type": "code",
   "execution_count": 53,
   "metadata": {},
   "outputs": [],
   "source": [
    "# WGS\n",
    "ntree = 1500\n",
    "if debug_run:\n",
    "    ntree = 10\n",
    "\n",
    "# Lasso\n",
    "cv_lasso = GridSearchCV(\n",
    "    Lasso(random_state=929), cv=5,\n",
    "    param_grid={\"alpha\": range_lasso})\n",
    "\n",
    "# Ridge\n",
    "cv_ridge = GridSearchCV(\n",
    "    Ridge(random_state=929), cv=5,\n",
    "    param_grid={\"alpha\": range_ridge})\n",
    "\n",
    "# KRR\n",
    "cv_krr = GridSearchCV(\n",
    "    KernelRidge(kernel='rbf'), cv=5,\n",
    "    param_grid={\"alpha\": range_krr_alpha, \n",
    "                \"gamma\": range_krr_gamma})\n",
    "\n",
    "# SVR\n",
    "cv_svr = GridSearchCV(\n",
    "    SVR(kernel='rbf'), cv=5,\n",
    "    param_grid={\"C\": range_svr_C, \n",
    "                \"gamma\": range_svr_gamma, \n",
    "                \"epsilon\": range_svr_epsilon})\n",
    "\n",
    "# XGB\n",
    "cv_xgb = GridSearchCV(\n",
    "    XGBRegressor(random_state=929,\n",
    "                 n_estimators=ntree), cv=5,\n",
    "    param_grid={\"max_depth\": range_depth, \n",
    "                \"subsample\": range_subsample, \n",
    "                \"colsample_bytree\": range_colsample,\n",
    "                \"learning_rate\": range_lr})"
   ]
  },
  {
   "cell_type": "markdown",
   "metadata": {},
   "source": [
    "## Fig.6 (B)"
   ]
  },
  {
   "cell_type": "code",
   "execution_count": 54,
   "metadata": {},
   "outputs": [
    {
     "name": "stderr",
     "output_type": "stream",
     "text": [
      "/Users/takigawa/.pyenv/versions/anaconda3-5.1.0/lib/python3.6/site-packages/sklearn/model_selection/_split.py:1978: FutureWarning: The default value of cv will change from 3 to 5 in version 0.22. Specify it explicitly to silence this warning.\n",
      "  warnings.warn(CV_WARNING, FutureWarning)\n",
      "/Users/takigawa/.pyenv/versions/anaconda3-5.1.0/lib/python3.6/site-packages/xgboost/core.py:587: FutureWarning: Series.base is deprecated and will be removed in a future version\n",
      "  if getattr(data, 'base', None) is not None and \\\n",
      "/Users/takigawa/.pyenv/versions/anaconda3-5.1.0/lib/python3.6/site-packages/xgboost/core.py:587: FutureWarning: Series.base is deprecated and will be removed in a future version\n",
      "  if getattr(data, 'base', None) is not None and \\\n",
      "/Users/takigawa/.pyenv/versions/anaconda3-5.1.0/lib/python3.6/site-packages/xgboost/core.py:587: FutureWarning: Series.base is deprecated and will be removed in a future version\n",
      "  if getattr(data, 'base', None) is not None and \\\n",
      "/Users/takigawa/.pyenv/versions/anaconda3-5.1.0/lib/python3.6/site-packages/xgboost/core.py:587: FutureWarning: Series.base is deprecated and will be removed in a future version\n",
      "  if getattr(data, 'base', None) is not None and \\\n",
      "/Users/takigawa/.pyenv/versions/anaconda3-5.1.0/lib/python3.6/site-packages/xgboost/core.py:587: FutureWarning: Series.base is deprecated and will be removed in a future version\n",
      "  if getattr(data, 'base', None) is not None and \\\n",
      "/Users/takigawa/.pyenv/versions/anaconda3-5.1.0/lib/python3.6/site-packages/xgboost/core.py:587: FutureWarning: Series.base is deprecated and will be removed in a future version\n",
      "  if getattr(data, 'base', None) is not None and \\\n",
      "/Users/takigawa/.pyenv/versions/anaconda3-5.1.0/lib/python3.6/site-packages/xgboost/core.py:587: FutureWarning: Series.base is deprecated and will be removed in a future version\n",
      "  if getattr(data, 'base', None) is not None and \\\n",
      "/Users/takigawa/.pyenv/versions/anaconda3-5.1.0/lib/python3.6/site-packages/xgboost/core.py:587: FutureWarning: Series.base is deprecated and will be removed in a future version\n",
      "  if getattr(data, 'base', None) is not None and \\\n",
      "/Users/takigawa/.pyenv/versions/anaconda3-5.1.0/lib/python3.6/site-packages/xgboost/core.py:587: FutureWarning: Series.base is deprecated and will be removed in a future version\n",
      "  if getattr(data, 'base', None) is not None and \\\n",
      "/Users/takigawa/.pyenv/versions/anaconda3-5.1.0/lib/python3.6/site-packages/xgboost/core.py:587: FutureWarning: Series.base is deprecated and will be removed in a future version\n",
      "  if getattr(data, 'base', None) is not None and \\\n",
      "/Users/takigawa/.pyenv/versions/anaconda3-5.1.0/lib/python3.6/site-packages/xgboost/core.py:587: FutureWarning: Series.base is deprecated and will be removed in a future version\n",
      "  if getattr(data, 'base', None) is not None and \\\n",
      "/Users/takigawa/.pyenv/versions/anaconda3-5.1.0/lib/python3.6/site-packages/xgboost/core.py:587: FutureWarning: Series.base is deprecated and will be removed in a future version\n",
      "  if getattr(data, 'base', None) is not None and \\\n",
      "/Users/takigawa/.pyenv/versions/anaconda3-5.1.0/lib/python3.6/site-packages/xgboost/core.py:587: FutureWarning: Series.base is deprecated and will be removed in a future version\n",
      "  if getattr(data, 'base', None) is not None and \\\n",
      "/Users/takigawa/.pyenv/versions/anaconda3-5.1.0/lib/python3.6/site-packages/xgboost/core.py:587: FutureWarning: Series.base is deprecated and will be removed in a future version\n",
      "  if getattr(data, 'base', None) is not None and \\\n",
      "/Users/takigawa/.pyenv/versions/anaconda3-5.1.0/lib/python3.6/site-packages/xgboost/core.py:587: FutureWarning: Series.base is deprecated and will be removed in a future version\n",
      "  if getattr(data, 'base', None) is not None and \\\n",
      "/Users/takigawa/.pyenv/versions/anaconda3-5.1.0/lib/python3.6/site-packages/xgboost/core.py:587: FutureWarning: Series.base is deprecated and will be removed in a future version\n",
      "  if getattr(data, 'base', None) is not None and \\\n",
      "/Users/takigawa/.pyenv/versions/anaconda3-5.1.0/lib/python3.6/site-packages/xgboost/core.py:587: FutureWarning: Series.base is deprecated and will be removed in a future version\n",
      "  if getattr(data, 'base', None) is not None and \\\n",
      "/Users/takigawa/.pyenv/versions/anaconda3-5.1.0/lib/python3.6/site-packages/xgboost/core.py:587: FutureWarning: Series.base is deprecated and will be removed in a future version\n",
      "  if getattr(data, 'base', None) is not None and \\\n",
      "/Users/takigawa/.pyenv/versions/anaconda3-5.1.0/lib/python3.6/site-packages/xgboost/core.py:587: FutureWarning: Series.base is deprecated and will be removed in a future version\n",
      "  if getattr(data, 'base', None) is not None and \\\n",
      "/Users/takigawa/.pyenv/versions/anaconda3-5.1.0/lib/python3.6/site-packages/xgboost/core.py:587: FutureWarning: Series.base is deprecated and will be removed in a future version\n",
      "  if getattr(data, 'base', None) is not None and \\\n",
      "/Users/takigawa/.pyenv/versions/anaconda3-5.1.0/lib/python3.6/site-packages/xgboost/core.py:587: FutureWarning: Series.base is deprecated and will be removed in a future version\n",
      "  if getattr(data, 'base', None) is not None and \\\n",
      "/Users/takigawa/.pyenv/versions/anaconda3-5.1.0/lib/python3.6/site-packages/xgboost/core.py:587: FutureWarning: Series.base is deprecated and will be removed in a future version\n",
      "  if getattr(data, 'base', None) is not None and \\\n",
      "/Users/takigawa/.pyenv/versions/anaconda3-5.1.0/lib/python3.6/site-packages/xgboost/core.py:587: FutureWarning: Series.base is deprecated and will be removed in a future version\n",
      "  if getattr(data, 'base', None) is not None and \\\n",
      "/Users/takigawa/.pyenv/versions/anaconda3-5.1.0/lib/python3.6/site-packages/xgboost/core.py:587: FutureWarning: Series.base is deprecated and will be removed in a future version\n",
      "  if getattr(data, 'base', None) is not None and \\\n",
      "/Users/takigawa/.pyenv/versions/anaconda3-5.1.0/lib/python3.6/site-packages/xgboost/core.py:587: FutureWarning: Series.base is deprecated and will be removed in a future version\n",
      "  if getattr(data, 'base', None) is not None and \\\n",
      "/Users/takigawa/.pyenv/versions/anaconda3-5.1.0/lib/python3.6/site-packages/xgboost/core.py:587: FutureWarning: Series.base is deprecated and will be removed in a future version\n",
      "  if getattr(data, 'base', None) is not None and \\\n",
      "/Users/takigawa/.pyenv/versions/anaconda3-5.1.0/lib/python3.6/site-packages/xgboost/core.py:587: FutureWarning: Series.base is deprecated and will be removed in a future version\n",
      "  if getattr(data, 'base', None) is not None and \\\n",
      "/Users/takigawa/.pyenv/versions/anaconda3-5.1.0/lib/python3.6/site-packages/xgboost/core.py:587: FutureWarning: Series.base is deprecated and will be removed in a future version\n",
      "  if getattr(data, 'base', None) is not None and \\\n",
      "/Users/takigawa/.pyenv/versions/anaconda3-5.1.0/lib/python3.6/site-packages/xgboost/core.py:587: FutureWarning: Series.base is deprecated and will be removed in a future version\n",
      "  if getattr(data, 'base', None) is not None and \\\n",
      "/Users/takigawa/.pyenv/versions/anaconda3-5.1.0/lib/python3.6/site-packages/xgboost/core.py:587: FutureWarning: Series.base is deprecated and will be removed in a future version\n",
      "  if getattr(data, 'base', None) is not None and \\\n",
      "/Users/takigawa/.pyenv/versions/anaconda3-5.1.0/lib/python3.6/site-packages/xgboost/core.py:587: FutureWarning: Series.base is deprecated and will be removed in a future version\n",
      "  if getattr(data, 'base', None) is not None and \\\n",
      "/Users/takigawa/.pyenv/versions/anaconda3-5.1.0/lib/python3.6/site-packages/xgboost/core.py:587: FutureWarning: Series.base is deprecated and will be removed in a future version\n",
      "  if getattr(data, 'base', None) is not None and \\\n",
      "/Users/takigawa/.pyenv/versions/anaconda3-5.1.0/lib/python3.6/site-packages/xgboost/core.py:587: FutureWarning: Series.base is deprecated and will be removed in a future version\n",
      "  if getattr(data, 'base', None) is not None and \\\n",
      "/Users/takigawa/.pyenv/versions/anaconda3-5.1.0/lib/python3.6/site-packages/xgboost/core.py:587: FutureWarning: Series.base is deprecated and will be removed in a future version\n",
      "  if getattr(data, 'base', None) is not None and \\\n",
      "/Users/takigawa/.pyenv/versions/anaconda3-5.1.0/lib/python3.6/site-packages/xgboost/core.py:587: FutureWarning: Series.base is deprecated and will be removed in a future version\n",
      "  if getattr(data, 'base', None) is not None and \\\n"
     ]
    },
    {
     "name": "stderr",
     "output_type": "stream",
     "text": [
      "/Users/takigawa/.pyenv/versions/anaconda3-5.1.0/lib/python3.6/site-packages/xgboost/core.py:587: FutureWarning: Series.base is deprecated and will be removed in a future version\n",
      "  if getattr(data, 'base', None) is not None and \\\n",
      "/Users/takigawa/.pyenv/versions/anaconda3-5.1.0/lib/python3.6/site-packages/xgboost/core.py:587: FutureWarning: Series.base is deprecated and will be removed in a future version\n",
      "  if getattr(data, 'base', None) is not None and \\\n",
      "/Users/takigawa/.pyenv/versions/anaconda3-5.1.0/lib/python3.6/site-packages/xgboost/core.py:587: FutureWarning: Series.base is deprecated and will be removed in a future version\n",
      "  if getattr(data, 'base', None) is not None and \\\n",
      "/Users/takigawa/.pyenv/versions/anaconda3-5.1.0/lib/python3.6/site-packages/xgboost/core.py:587: FutureWarning: Series.base is deprecated and will be removed in a future version\n",
      "  if getattr(data, 'base', None) is not None and \\\n",
      "/Users/takigawa/.pyenv/versions/anaconda3-5.1.0/lib/python3.6/site-packages/xgboost/core.py:587: FutureWarning: Series.base is deprecated and will be removed in a future version\n",
      "  if getattr(data, 'base', None) is not None and \\\n",
      "/Users/takigawa/.pyenv/versions/anaconda3-5.1.0/lib/python3.6/site-packages/xgboost/core.py:587: FutureWarning: Series.base is deprecated and will be removed in a future version\n",
      "  if getattr(data, 'base', None) is not None and \\\n",
      "/Users/takigawa/.pyenv/versions/anaconda3-5.1.0/lib/python3.6/site-packages/xgboost/core.py:587: FutureWarning: Series.base is deprecated and will be removed in a future version\n",
      "  if getattr(data, 'base', None) is not None and \\\n",
      "/Users/takigawa/.pyenv/versions/anaconda3-5.1.0/lib/python3.6/site-packages/xgboost/core.py:587: FutureWarning: Series.base is deprecated and will be removed in a future version\n",
      "  if getattr(data, 'base', None) is not None and \\\n",
      "/Users/takigawa/.pyenv/versions/anaconda3-5.1.0/lib/python3.6/site-packages/xgboost/core.py:587: FutureWarning: Series.base is deprecated and will be removed in a future version\n",
      "  if getattr(data, 'base', None) is not None and \\\n",
      "/Users/takigawa/.pyenv/versions/anaconda3-5.1.0/lib/python3.6/site-packages/xgboost/core.py:587: FutureWarning: Series.base is deprecated and will be removed in a future version\n",
      "  if getattr(data, 'base', None) is not None and \\\n",
      "/Users/takigawa/.pyenv/versions/anaconda3-5.1.0/lib/python3.6/site-packages/xgboost/core.py:587: FutureWarning: Series.base is deprecated and will be removed in a future version\n",
      "  if getattr(data, 'base', None) is not None and \\\n",
      "/Users/takigawa/.pyenv/versions/anaconda3-5.1.0/lib/python3.6/site-packages/xgboost/core.py:587: FutureWarning: Series.base is deprecated and will be removed in a future version\n",
      "  if getattr(data, 'base', None) is not None and \\\n",
      "/Users/takigawa/.pyenv/versions/anaconda3-5.1.0/lib/python3.6/site-packages/xgboost/core.py:587: FutureWarning: Series.base is deprecated and will be removed in a future version\n",
      "  if getattr(data, 'base', None) is not None and \\\n",
      "/Users/takigawa/.pyenv/versions/anaconda3-5.1.0/lib/python3.6/site-packages/xgboost/core.py:587: FutureWarning: Series.base is deprecated and will be removed in a future version\n",
      "  if getattr(data, 'base', None) is not None and \\\n",
      "/Users/takigawa/.pyenv/versions/anaconda3-5.1.0/lib/python3.6/site-packages/xgboost/core.py:588: FutureWarning: Series.base is deprecated and will be removed in a future version\n",
      "  data.base is not None and isinstance(data, np.ndarray) \\\n"
     ]
    },
    {
     "name": "stdout",
     "output_type": "stream",
     "text": [
      "3 0.9 1 0.05\n"
     ]
    }
   ],
   "source": [
    "cv_xgb.fit(wgs_desc.iloc[:,:-1], wgs_desc.iloc[:,-1])\n",
    "\n",
    "cvdepth = cv_xgb.best_params_['max_depth']\n",
    "cvsubsample = cv_xgb.best_params_['subsample']\n",
    "cvcolsample = cv_xgb.best_params_['colsample_bytree']\n",
    "cvlr = cv_xgb.best_params_['learning_rate']\n",
    "\n",
    "print(cvdepth, cvsubsample, cvcolsample, cvlr)"
   ]
  },
  {
   "cell_type": "code",
   "execution_count": 55,
   "metadata": {},
   "outputs": [
    {
     "name": "stdout",
     "output_type": "stream",
     "text": [
      "XGBRegressor(base_score=0.5, booster='gbtree', colsample_bylevel=1,\n",
      "             colsample_bytree=1, gamma=0, importance_type='gain',\n",
      "             learning_rate=0.05, max_delta_step=0, max_depth=3,\n",
      "             min_child_weight=1, missing=None, n_estimators=10, n_jobs=-1,\n",
      "             nthread=None, objective='reg:linear', random_state=929,\n",
      "             reg_alpha=0, reg_lambda=1, scale_pos_weight=1, seed=929,\n",
      "             silent=True, subsample=0.9)\n"
     ]
    }
   ],
   "source": [
    "estimator = XGBRegressor(n_estimators=ntree,\\\n",
    "                       max_depth=cvdepth,\\\n",
    "                       subsample=cvsubsample,\\\n",
    "                       colsample_bytree=cvcolsample,\\\n",
    "                       learning_rate=cvlr,\\\n",
    "                       random_state=929, seed=929, n_jobs=-1)\n",
    "print(estimator)\n",
    "\n",
    "best_xgb_wgsdesc = estimator"
   ]
  },
  {
   "cell_type": "code",
   "execution_count": 56,
   "metadata": {},
   "outputs": [],
   "source": [
    "train_test = shuffle(wgs_desc, random_state=929)"
   ]
  },
  {
   "cell_type": "code",
   "execution_count": 57,
   "metadata": {},
   "outputs": [
    {
     "name": "stderr",
     "output_type": "stream",
     "text": [
      "/Users/takigawa/.pyenv/versions/anaconda3-5.1.0/lib/python3.6/site-packages/xgboost/core.py:587: FutureWarning: Series.base is deprecated and will be removed in a future version\n",
      "  if getattr(data, 'base', None) is not None and \\\n"
     ]
    },
    {
     "name": "stdout",
     "output_type": "stream",
     "text": [
      "RMSE_test: 37.750 STD_test: 1.484\n",
      "RMSE_train: 37.652 STD_train: 0.109\n",
      "Data size:(4185, 134)\n"
     ]
    }
   ],
   "source": [
    "cv = Cv_Pred_Expected(estimator=estimator,\\\n",
    "                      X=train_test.iloc[:,:-1],\\\n",
    "                      y=train_test.iloc[:,-1],\\\n",
    "                      cv=10, redc=True)\n",
    "cv.cross_validation()"
   ]
  },
  {
   "cell_type": "code",
   "execution_count": 58,
   "metadata": {},
   "outputs": [],
   "source": [
    "xgb_cvbest = cv"
   ]
  },
  {
   "cell_type": "code",
   "execution_count": 59,
   "metadata": {},
   "outputs": [
    {
     "name": "stdout",
     "output_type": "stream",
     "text": [
      "(3767, 134) (3767,)\n",
      "RMSE(Train): 37.699\n",
      "RMSE(Test): 37.696\n"
     ]
    },
    {
     "name": "stderr",
     "output_type": "stream",
     "text": [
      "/Users/takigawa/.pyenv/versions/anaconda3-5.1.0/lib/python3.6/site-packages/xgboost/core.py:587: FutureWarning: Series.base is deprecated and will be removed in a future version\n",
      "  if getattr(data, 'base', None) is not None and \\\n"
     ]
    }
   ],
   "source": [
    "cv.plot_pred_expected(save=True,\\\n",
    "                      title='',\\\n",
    "                      os_title='',\\\n",
    "                      filename='output/wgs_gb_',\\\n",
    "                      titlesize=11,\n",
    "                      close=True)"
   ]
  },
  {
   "cell_type": "code",
   "execution_count": 60,
   "metadata": {
    "scrolled": false
   },
   "outputs": [],
   "source": [
    "plt.figure(figsize=(6, 4), dpi=300)\n",
    "xgb_cvbest.importance.mean(axis=1).sort_values(ascending=False).iloc[:20][::-1].plot(kind='barh',color='b')\n",
    "plt.savefig('output/fig6_wgs.png', format='png',bbox_inches='tight', dpi=300)\n",
    "plt.savefig('output/fig6_wgs.pdf', format='pdf',bbox_inches='tight', dpi=300)\n",
    "plt.close()"
   ]
  },
  {
   "cell_type": "markdown",
   "metadata": {},
   "source": [
    "## Fig.2 (B)"
   ]
  },
  {
   "cell_type": "code",
   "execution_count": 61,
   "metadata": {},
   "outputs": [
    {
     "name": "stderr",
     "output_type": "stream",
     "text": [
      "/Users/takigawa/.pyenv/versions/anaconda3-5.1.0/lib/python3.6/site-packages/ipykernel_launcher.py:2: DeprecationWarning: \n",
      ".ix is deprecated. Please use\n",
      ".loc for label based indexing or\n",
      ".iloc for positional indexing\n",
      "\n",
      "See the documentation here:\n",
      "http://pandas.pydata.org/pandas-docs/stable/indexing.html#ix-indexer-is-deprecated\n",
      "  \n"
     ]
    }
   ],
   "source": [
    "common = []\n",
    "hoge = wgs.ix[:,'Pt':'Pd']\n",
    "count = 0\n",
    "for key, row in hoge.iterrows():\n",
    "    for i, v in hoge.iloc[count + 1:].iterrows():\n",
    "        temp = (np.array(row) > 1e-5)\n",
    "        temp2 = (np.array(v) > 1e-5)\n",
    "        val = (temp * temp2).sum()\n",
    "        common.append(val)     \n",
    "    count = count + 1\n",
    "\n",
    "freq = dict(Counter(common))\n",
    "plt.figure(figsize=(1.5, 3))\n",
    "plt.bar(freq.keys(), freq.values())\n",
    "plt.xlabel('# Common Elements')\n",
    "plt.ylabel('Frequency (log)')\n",
    "plt.yscale('log')\n",
    "plt.savefig('output/fig2_wgs.png',format='png', bbox_inches='tight',dpi=300)\n",
    "plt.savefig('output/fig2_wgs.pdf',format='pdf', bbox_inches='tight',dpi=300)\n",
    "plt.close()"
   ]
  },
  {
   "cell_type": "markdown",
   "metadata": {},
   "source": [
    "## Table 4 (wgs)"
   ]
  },
  {
   "cell_type": "markdown",
   "metadata": {},
   "source": [
    "### wgs_nocond"
   ]
  },
  {
   "cell_type": "code",
   "execution_count": 62,
   "metadata": {},
   "outputs": [],
   "source": [
    "comppro = list(wgs.loc[:, :'Pd'].columns)\n",
    "wgs_nocond = wgs.loc[:, comppro + ['CO Conversion']]"
   ]
  },
  {
   "cell_type": "code",
   "execution_count": 63,
   "metadata": {},
   "outputs": [],
   "source": [
    "rmse_wgs_nocond = {}\n",
    "data = shuffle(wgs_nocond, random_state=10)\n",
    "target_data = wgs_nocond"
   ]
  },
  {
   "cell_type": "code",
   "execution_count": 64,
   "metadata": {},
   "outputs": [
    {
     "name": "stderr",
     "output_type": "stream",
     "text": [
      "/Users/takigawa/.pyenv/versions/anaconda3-5.1.0/lib/python3.6/site-packages/sklearn/model_selection/_split.py:1978: FutureWarning: The default value of cv will change from 3 to 5 in version 0.22. Specify it explicitly to silence this warning.\n",
      "  warnings.warn(CV_WARNING, FutureWarning)\n",
      "/Users/takigawa/.pyenv/versions/anaconda3-5.1.0/lib/python3.6/site-packages/sklearn/model_selection/_split.py:1978: FutureWarning: The default value of cv will change from 3 to 5 in version 0.22. Specify it explicitly to silence this warning.\n",
      "  warnings.warn(CV_WARNING, FutureWarning)\n",
      "/Users/takigawa/.pyenv/versions/anaconda3-5.1.0/lib/python3.6/site-packages/sklearn/model_selection/_split.py:1978: FutureWarning: The default value of cv will change from 3 to 5 in version 0.22. Specify it explicitly to silence this warning.\n",
      "  warnings.warn(CV_WARNING, FutureWarning)\n",
      "/Users/takigawa/.pyenv/versions/anaconda3-5.1.0/lib/python3.6/site-packages/sklearn/model_selection/_split.py:1978: FutureWarning: The default value of cv will change from 3 to 5 in version 0.22. Specify it explicitly to silence this warning.\n",
      "  warnings.warn(CV_WARNING, FutureWarning)\n",
      "/Users/takigawa/.pyenv/versions/anaconda3-5.1.0/lib/python3.6/site-packages/sklearn/model_selection/_split.py:1978: FutureWarning: The default value of cv will change from 3 to 5 in version 0.22. Specify it explicitly to silence this warning.\n",
      "  warnings.warn(CV_WARNING, FutureWarning)\n",
      "/Users/takigawa/.pyenv/versions/anaconda3-5.1.0/lib/python3.6/site-packages/xgboost/core.py:587: FutureWarning: Series.base is deprecated and will be removed in a future version\n",
      "  if getattr(data, 'base', None) is not None and \\\n",
      "/Users/takigawa/.pyenv/versions/anaconda3-5.1.0/lib/python3.6/site-packages/xgboost/core.py:587: FutureWarning: Series.base is deprecated and will be removed in a future version\n",
      "  if getattr(data, 'base', None) is not None and \\\n",
      "/Users/takigawa/.pyenv/versions/anaconda3-5.1.0/lib/python3.6/site-packages/xgboost/core.py:587: FutureWarning: Series.base is deprecated and will be removed in a future version\n",
      "  if getattr(data, 'base', None) is not None and \\\n",
      "/Users/takigawa/.pyenv/versions/anaconda3-5.1.0/lib/python3.6/site-packages/xgboost/core.py:587: FutureWarning: Series.base is deprecated and will be removed in a future version\n",
      "  if getattr(data, 'base', None) is not None and \\\n",
      "/Users/takigawa/.pyenv/versions/anaconda3-5.1.0/lib/python3.6/site-packages/xgboost/core.py:587: FutureWarning: Series.base is deprecated and will be removed in a future version\n",
      "  if getattr(data, 'base', None) is not None and \\\n",
      "/Users/takigawa/.pyenv/versions/anaconda3-5.1.0/lib/python3.6/site-packages/xgboost/core.py:587: FutureWarning: Series.base is deprecated and will be removed in a future version\n",
      "  if getattr(data, 'base', None) is not None and \\\n",
      "/Users/takigawa/.pyenv/versions/anaconda3-5.1.0/lib/python3.6/site-packages/xgboost/core.py:587: FutureWarning: Series.base is deprecated and will be removed in a future version\n",
      "  if getattr(data, 'base', None) is not None and \\\n",
      "/Users/takigawa/.pyenv/versions/anaconda3-5.1.0/lib/python3.6/site-packages/xgboost/core.py:587: FutureWarning: Series.base is deprecated and will be removed in a future version\n",
      "  if getattr(data, 'base', None) is not None and \\\n",
      "/Users/takigawa/.pyenv/versions/anaconda3-5.1.0/lib/python3.6/site-packages/xgboost/core.py:587: FutureWarning: Series.base is deprecated and will be removed in a future version\n",
      "  if getattr(data, 'base', None) is not None and \\\n",
      "/Users/takigawa/.pyenv/versions/anaconda3-5.1.0/lib/python3.6/site-packages/xgboost/core.py:587: FutureWarning: Series.base is deprecated and will be removed in a future version\n",
      "  if getattr(data, 'base', None) is not None and \\\n",
      "/Users/takigawa/.pyenv/versions/anaconda3-5.1.0/lib/python3.6/site-packages/xgboost/core.py:587: FutureWarning: Series.base is deprecated and will be removed in a future version\n",
      "  if getattr(data, 'base', None) is not None and \\\n",
      "/Users/takigawa/.pyenv/versions/anaconda3-5.1.0/lib/python3.6/site-packages/xgboost/core.py:587: FutureWarning: Series.base is deprecated and will be removed in a future version\n",
      "  if getattr(data, 'base', None) is not None and \\\n",
      "/Users/takigawa/.pyenv/versions/anaconda3-5.1.0/lib/python3.6/site-packages/xgboost/core.py:587: FutureWarning: Series.base is deprecated and will be removed in a future version\n",
      "  if getattr(data, 'base', None) is not None and \\\n",
      "/Users/takigawa/.pyenv/versions/anaconda3-5.1.0/lib/python3.6/site-packages/xgboost/core.py:587: FutureWarning: Series.base is deprecated and will be removed in a future version\n",
      "  if getattr(data, 'base', None) is not None and \\\n",
      "/Users/takigawa/.pyenv/versions/anaconda3-5.1.0/lib/python3.6/site-packages/xgboost/core.py:587: FutureWarning: Series.base is deprecated and will be removed in a future version\n",
      "  if getattr(data, 'base', None) is not None and \\\n",
      "/Users/takigawa/.pyenv/versions/anaconda3-5.1.0/lib/python3.6/site-packages/xgboost/core.py:587: FutureWarning: Series.base is deprecated and will be removed in a future version\n",
      "  if getattr(data, 'base', None) is not None and \\\n",
      "/Users/takigawa/.pyenv/versions/anaconda3-5.1.0/lib/python3.6/site-packages/xgboost/core.py:587: FutureWarning: Series.base is deprecated and will be removed in a future version\n",
      "  if getattr(data, 'base', None) is not None and \\\n",
      "/Users/takigawa/.pyenv/versions/anaconda3-5.1.0/lib/python3.6/site-packages/xgboost/core.py:587: FutureWarning: Series.base is deprecated and will be removed in a future version\n",
      "  if getattr(data, 'base', None) is not None and \\\n",
      "/Users/takigawa/.pyenv/versions/anaconda3-5.1.0/lib/python3.6/site-packages/xgboost/core.py:587: FutureWarning: Series.base is deprecated and will be removed in a future version\n",
      "  if getattr(data, 'base', None) is not None and \\\n",
      "/Users/takigawa/.pyenv/versions/anaconda3-5.1.0/lib/python3.6/site-packages/xgboost/core.py:587: FutureWarning: Series.base is deprecated and will be removed in a future version\n",
      "  if getattr(data, 'base', None) is not None and \\\n",
      "/Users/takigawa/.pyenv/versions/anaconda3-5.1.0/lib/python3.6/site-packages/xgboost/core.py:587: FutureWarning: Series.base is deprecated and will be removed in a future version\n",
      "  if getattr(data, 'base', None) is not None and \\\n",
      "/Users/takigawa/.pyenv/versions/anaconda3-5.1.0/lib/python3.6/site-packages/xgboost/core.py:587: FutureWarning: Series.base is deprecated and will be removed in a future version\n",
      "  if getattr(data, 'base', None) is not None and \\\n",
      "/Users/takigawa/.pyenv/versions/anaconda3-5.1.0/lib/python3.6/site-packages/xgboost/core.py:587: FutureWarning: Series.base is deprecated and will be removed in a future version\n",
      "  if getattr(data, 'base', None) is not None and \\\n",
      "/Users/takigawa/.pyenv/versions/anaconda3-5.1.0/lib/python3.6/site-packages/xgboost/core.py:587: FutureWarning: Series.base is deprecated and will be removed in a future version\n",
      "  if getattr(data, 'base', None) is not None and \\\n",
      "/Users/takigawa/.pyenv/versions/anaconda3-5.1.0/lib/python3.6/site-packages/xgboost/core.py:587: FutureWarning: Series.base is deprecated and will be removed in a future version\n",
      "  if getattr(data, 'base', None) is not None and \\\n",
      "/Users/takigawa/.pyenv/versions/anaconda3-5.1.0/lib/python3.6/site-packages/xgboost/core.py:587: FutureWarning: Series.base is deprecated and will be removed in a future version\n",
      "  if getattr(data, 'base', None) is not None and \\\n",
      "/Users/takigawa/.pyenv/versions/anaconda3-5.1.0/lib/python3.6/site-packages/xgboost/core.py:587: FutureWarning: Series.base is deprecated and will be removed in a future version\n",
      "  if getattr(data, 'base', None) is not None and \\\n",
      "/Users/takigawa/.pyenv/versions/anaconda3-5.1.0/lib/python3.6/site-packages/xgboost/core.py:587: FutureWarning: Series.base is deprecated and will be removed in a future version\n",
      "  if getattr(data, 'base', None) is not None and \\\n",
      "/Users/takigawa/.pyenv/versions/anaconda3-5.1.0/lib/python3.6/site-packages/xgboost/core.py:587: FutureWarning: Series.base is deprecated and will be removed in a future version\n",
      "  if getattr(data, 'base', None) is not None and \\\n",
      "/Users/takigawa/.pyenv/versions/anaconda3-5.1.0/lib/python3.6/site-packages/xgboost/core.py:587: FutureWarning: Series.base is deprecated and will be removed in a future version\n",
      "  if getattr(data, 'base', None) is not None and \\\n"
     ]
    },
    {
     "name": "stderr",
     "output_type": "stream",
     "text": [
      "/Users/takigawa/.pyenv/versions/anaconda3-5.1.0/lib/python3.6/site-packages/xgboost/core.py:587: FutureWarning: Series.base is deprecated and will be removed in a future version\n",
      "  if getattr(data, 'base', None) is not None and \\\n",
      "/Users/takigawa/.pyenv/versions/anaconda3-5.1.0/lib/python3.6/site-packages/xgboost/core.py:587: FutureWarning: Series.base is deprecated and will be removed in a future version\n",
      "  if getattr(data, 'base', None) is not None and \\\n",
      "/Users/takigawa/.pyenv/versions/anaconda3-5.1.0/lib/python3.6/site-packages/xgboost/core.py:587: FutureWarning: Series.base is deprecated and will be removed in a future version\n",
      "  if getattr(data, 'base', None) is not None and \\\n",
      "/Users/takigawa/.pyenv/versions/anaconda3-5.1.0/lib/python3.6/site-packages/xgboost/core.py:587: FutureWarning: Series.base is deprecated and will be removed in a future version\n",
      "  if getattr(data, 'base', None) is not None and \\\n",
      "/Users/takigawa/.pyenv/versions/anaconda3-5.1.0/lib/python3.6/site-packages/xgboost/core.py:587: FutureWarning: Series.base is deprecated and will be removed in a future version\n",
      "  if getattr(data, 'base', None) is not None and \\\n",
      "/Users/takigawa/.pyenv/versions/anaconda3-5.1.0/lib/python3.6/site-packages/xgboost/core.py:587: FutureWarning: Series.base is deprecated and will be removed in a future version\n",
      "  if getattr(data, 'base', None) is not None and \\\n",
      "/Users/takigawa/.pyenv/versions/anaconda3-5.1.0/lib/python3.6/site-packages/xgboost/core.py:587: FutureWarning: Series.base is deprecated and will be removed in a future version\n",
      "  if getattr(data, 'base', None) is not None and \\\n",
      "/Users/takigawa/.pyenv/versions/anaconda3-5.1.0/lib/python3.6/site-packages/xgboost/core.py:587: FutureWarning: Series.base is deprecated and will be removed in a future version\n",
      "  if getattr(data, 'base', None) is not None and \\\n",
      "/Users/takigawa/.pyenv/versions/anaconda3-5.1.0/lib/python3.6/site-packages/xgboost/core.py:587: FutureWarning: Series.base is deprecated and will be removed in a future version\n",
      "  if getattr(data, 'base', None) is not None and \\\n",
      "/Users/takigawa/.pyenv/versions/anaconda3-5.1.0/lib/python3.6/site-packages/xgboost/core.py:587: FutureWarning: Series.base is deprecated and will be removed in a future version\n",
      "  if getattr(data, 'base', None) is not None and \\\n",
      "/Users/takigawa/.pyenv/versions/anaconda3-5.1.0/lib/python3.6/site-packages/xgboost/core.py:587: FutureWarning: Series.base is deprecated and will be removed in a future version\n",
      "  if getattr(data, 'base', None) is not None and \\\n",
      "/Users/takigawa/.pyenv/versions/anaconda3-5.1.0/lib/python3.6/site-packages/xgboost/core.py:587: FutureWarning: Series.base is deprecated and will be removed in a future version\n",
      "  if getattr(data, 'base', None) is not None and \\\n",
      "/Users/takigawa/.pyenv/versions/anaconda3-5.1.0/lib/python3.6/site-packages/xgboost/core.py:587: FutureWarning: Series.base is deprecated and will be removed in a future version\n",
      "  if getattr(data, 'base', None) is not None and \\\n",
      "/Users/takigawa/.pyenv/versions/anaconda3-5.1.0/lib/python3.6/site-packages/xgboost/core.py:587: FutureWarning: Series.base is deprecated and will be removed in a future version\n",
      "  if getattr(data, 'base', None) is not None and \\\n",
      "/Users/takigawa/.pyenv/versions/anaconda3-5.1.0/lib/python3.6/site-packages/xgboost/core.py:587: FutureWarning: Series.base is deprecated and will be removed in a future version\n",
      "  if getattr(data, 'base', None) is not None and \\\n",
      "/Users/takigawa/.pyenv/versions/anaconda3-5.1.0/lib/python3.6/site-packages/xgboost/core.py:587: FutureWarning: Series.base is deprecated and will be removed in a future version\n",
      "  if getattr(data, 'base', None) is not None and \\\n",
      "/Users/takigawa/.pyenv/versions/anaconda3-5.1.0/lib/python3.6/site-packages/xgboost/core.py:587: FutureWarning: Series.base is deprecated and will be removed in a future version\n",
      "  if getattr(data, 'base', None) is not None and \\\n",
      "/Users/takigawa/.pyenv/versions/anaconda3-5.1.0/lib/python3.6/site-packages/xgboost/core.py:587: FutureWarning: Series.base is deprecated and will be removed in a future version\n",
      "  if getattr(data, 'base', None) is not None and \\\n",
      "/Users/takigawa/.pyenv/versions/anaconda3-5.1.0/lib/python3.6/site-packages/xgboost/core.py:587: FutureWarning: Series.base is deprecated and will be removed in a future version\n",
      "  if getattr(data, 'base', None) is not None and \\\n",
      "/Users/takigawa/.pyenv/versions/anaconda3-5.1.0/lib/python3.6/site-packages/xgboost/core.py:588: FutureWarning: Series.base is deprecated and will be removed in a future version\n",
      "  data.base is not None and isinstance(data, np.ndarray) \\\n"
     ]
    }
   ],
   "source": [
    "# Lasso\n",
    "cv_lasso.fit(target_data.iloc[:,:-1], target_data.iloc[:,-1])\n",
    "cvalpha = cv_lasso.best_params_['alpha']\n",
    "best_lasso = Lasso(random_state=929, alpha=cvalpha)\n",
    "\n",
    "# Ridge\n",
    "cv_ridge.fit(target_data.iloc[:,:-1], target_data.iloc[:,-1])\n",
    "cvalpha = cv_ridge.best_params_['alpha']\n",
    "best_ridge = Ridge(random_state=929, alpha=cvalpha)\n",
    "\n",
    "# KRR\n",
    "cv_krr.fit(target_data.iloc[:,:-1], target_data.iloc[:,-1])\n",
    "cvalpha = cv_krr.best_params_['alpha']\n",
    "cvgamma = cv_krr.best_params_['gamma']\n",
    "best_krr = KernelRidge(kernel='rbf', alpha=cvalpha, gamma=cvgamma)\n",
    "\n",
    "# SVR\n",
    "cv_svr.fit(target_data.iloc[:,:-1], target_data.iloc[:,-1])\n",
    "cvC = cv_svr.best_params_['C']\n",
    "cvgamma = cv_svr.best_params_['gamma']\n",
    "cvepsilon = cv_svr.best_params_['epsilon']\n",
    "best_svr = SVR(kernel='rbf', epsilon=cvepsilon, C=cvC, gamma=cvgamma)\n",
    "\n",
    "# RFR\n",
    "best_rfr = RandomForestRegressor(n_estimators=ntree, random_state=929, n_jobs=-1)\n",
    "\n",
    "# ETR\n",
    "best_etr = ExtraTreesRegressor(n_estimators=ntree, random_state=929, n_jobs=-1)\n",
    "\n",
    "# XGB\n",
    "cv_xgb.fit(target_data.iloc[:,:-1], target_data.iloc[:,-1])\n",
    "cvdepth = cv_xgb.best_params_['max_depth']\n",
    "cvsubsample = cv_xgb.best_params_['subsample']\n",
    "cvcolsample = cv_xgb.best_params_['colsample_bytree']\n",
    "cvlr = cv_xgb.best_params_['learning_rate']\n",
    "best_xgb = XGBRegressor(n_estimators=ntree,\\\n",
    "                       max_depth=cvdepth,\\\n",
    "                       subsample=cvsubsample,\\\n",
    "                       colsample_bytree=cvcolsample,\\\n",
    "                       learning_rate=cvlr,\\\n",
    "                       random_state=929, seed=929, n_jobs=-1)"
   ]
  },
  {
   "cell_type": "code",
   "execution_count": 65,
   "metadata": {},
   "outputs": [
    {
     "name": "stdout",
     "output_type": "stream",
     "text": [
      "Lasso(alpha=0.1, copy_X=True, fit_intercept=True, max_iter=1000,\n",
      "      normalize=False, positive=False, precompute=False, random_state=929,\n",
      "      selection='cyclic', tol=0.0001, warm_start=False)\n",
      "RMSE_test: 32.271 STD_test: 0.494\n",
      "RMSE_train: 32.066 STD_train: 0.053\n",
      "Data size:(4185, 35)\n",
      "\n",
      "[Lasso] RMSE 32.271 (STD: 0.494) ... test\n",
      "[Lasso] RMSE 32.066 (STD: 0.053) ... train\n",
      "Ridge(alpha=0.1, copy_X=True, fit_intercept=True, max_iter=None,\n",
      "      normalize=False, random_state=929, solver='auto', tol=0.001)\n",
      "RMSE_test: 32.301 STD_test: 0.454\n",
      "RMSE_train: 31.993 STD_train: 0.052\n",
      "Data size:(4185, 35)\n",
      "\n",
      "[Ridge] RMSE 32.301 (STD: 0.454) ... test\n",
      "[Ridge] RMSE 31.993 (STD: 0.052) ... train\n",
      "KernelRidge(alpha=1.0, coef0=1, degree=3, gamma=0.1, kernel='rbf',\n",
      "            kernel_params=None)\n",
      "RMSE_test: 31.585 STD_test: 0.621\n",
      "RMSE_train: 30.936 STD_train: 0.061\n",
      "Data size:(4185, 35)\n",
      "\n",
      "[KRR] RMSE 31.585 (STD: 0.621) ... test\n",
      "[KRR] RMSE 30.936 (STD: 0.061) ... train\n",
      "SVR(C=1.0, cache_size=200, coef0=0.0, degree=3, epsilon=0.1, gamma=0.1,\n",
      "    kernel='rbf', max_iter=-1, shrinking=True, tol=0.001, verbose=False)\n",
      "RMSE_test: 32.150 STD_test: 0.767\n",
      "RMSE_train: 31.936 STD_train: 0.069\n",
      "Data size:(4185, 35)\n",
      "\n",
      "[SVR] RMSE 32.150 (STD: 0.767) ... test\n",
      "[SVR] RMSE 31.936 (STD: 0.069) ... train\n",
      "RandomForestRegressor(bootstrap=True, criterion='mse', max_depth=None,\n",
      "                      max_features='auto', max_leaf_nodes=None,\n",
      "                      min_impurity_decrease=0.0, min_impurity_split=None,\n",
      "                      min_samples_leaf=1, min_samples_split=2,\n",
      "                      min_weight_fraction_leaf=0.0, n_estimators=10, n_jobs=-1,\n",
      "                      oob_score=False, random_state=929, verbose=0,\n",
      "                      warm_start=False)\n",
      "RMSE_test: 31.291 STD_test: 0.673\n",
      "RMSE_train: 29.696 STD_train: 0.066\n",
      "Data size:(4185, 35)\n",
      "\n",
      "[RFR] RMSE 31.291 (STD: 0.673) ... test\n",
      "[RFR] RMSE 29.696 (STD: 0.066) ... train\n",
      "ExtraTreesRegressor(bootstrap=False, criterion='mse', max_depth=None,\n",
      "                    max_features='auto', max_leaf_nodes=None,\n",
      "                    min_impurity_decrease=0.0, min_impurity_split=None,\n",
      "                    min_samples_leaf=1, min_samples_split=2,\n",
      "                    min_weight_fraction_leaf=0.0, n_estimators=10, n_jobs=-1,\n",
      "                    oob_score=False, random_state=929, verbose=0,\n",
      "                    warm_start=False)\n",
      "RMSE_test: 31.174 STD_test: 0.642\n",
      "RMSE_train: 29.613 STD_train: 0.067\n",
      "Data size:(4185, 35)\n",
      "\n",
      "[ETR] RMSE 31.174 (STD: 0.642) ... test\n",
      "[ETR] RMSE 29.613 (STD: 0.067) ... train\n",
      "XGBRegressor(base_score=0.5, booster='gbtree', colsample_bylevel=1,\n",
      "             colsample_bytree=1, gamma=0, importance_type='gain',\n",
      "             learning_rate=0.05, max_delta_step=0, max_depth=3,\n",
      "             min_child_weight=1, missing=None, n_estimators=10, n_jobs=-1,\n",
      "             nthread=None, objective='reg:linear', random_state=929,\n",
      "             reg_alpha=0, reg_lambda=1, scale_pos_weight=1, seed=929,\n",
      "             silent=True, subsample=1)\n"
     ]
    },
    {
     "name": "stderr",
     "output_type": "stream",
     "text": [
      "/Users/takigawa/.pyenv/versions/anaconda3-5.1.0/lib/python3.6/site-packages/xgboost/core.py:587: FutureWarning: Series.base is deprecated and will be removed in a future version\n",
      "  if getattr(data, 'base', None) is not None and \\\n"
     ]
    },
    {
     "name": "stdout",
     "output_type": "stream",
     "text": [
      "RMSE_test: 40.941 STD_test: 1.449\n",
      "RMSE_train: 40.886 STD_train: 0.111\n",
      "Data size:(4185, 35)\n",
      "\n",
      "[XGB] RMSE 40.941 (STD: 1.449) ... test\n",
      "[XGB] RMSE 40.886 (STD: 0.111) ... train\n"
     ]
    }
   ],
   "source": [
    "model = best_lasso\n",
    "print(model)\n",
    "rmse_wgs_nocond['Lasso'] = crossvalid(data.iloc[:,:-1], data.iloc[:,-1], model, 10, 'Lasso')\n",
    "\n",
    "model = best_ridge\n",
    "print(model)\n",
    "rmse_wgs_nocond['Ridge'] = crossvalid(data.iloc[:,:-1], data.iloc[:,-1], model, 10,  'Ridge')\n",
    "\n",
    "model = best_krr\n",
    "print(model)\n",
    "rmse_wgs_nocond['KRR'] = crossvalid(data.iloc[:,:-1], data.iloc[:,-1], model, 10, 'KRR')\n",
    "\n",
    "model = best_svr\n",
    "print(model)\n",
    "rmse_wgs_nocond['SVR'] = crossvalid(data.iloc[:,:-1], data.iloc[:,-1], model, 10, 'SVR')\n",
    "\n",
    "model = best_rfr\n",
    "print(model)\n",
    "rmse_wgs_nocond['RFR'] = crossvalid(data.iloc[:,:-1], data.iloc[:,-1], model, 10, 'RFR')\n",
    "\n",
    "model = best_etr\n",
    "print(model)\n",
    "rmse_wgs_nocond['ETR'] = crossvalid(data.iloc[:,:-1], data.iloc[:,-1], model, 10, 'ETR')\n",
    "\n",
    "model = best_xgb\n",
    "print(model)\n",
    "rmse_wgs_nocond['XGB'] = crossvalid(data.iloc[:,:-1], data.iloc[:,-1], model, 10, 'XGB')"
   ]
  },
  {
   "cell_type": "markdown",
   "metadata": {},
   "source": [
    "### wgs"
   ]
  },
  {
   "cell_type": "code",
   "execution_count": 66,
   "metadata": {},
   "outputs": [],
   "source": [
    "rmse_wgs = {}\n",
    "data = shuffle(wgs, random_state=10)\n",
    "target_data = wgs"
   ]
  },
  {
   "cell_type": "code",
   "execution_count": 67,
   "metadata": {},
   "outputs": [
    {
     "name": "stderr",
     "output_type": "stream",
     "text": [
      "/Users/takigawa/.pyenv/versions/anaconda3-5.1.0/lib/python3.6/site-packages/sklearn/model_selection/_split.py:1978: FutureWarning: The default value of cv will change from 3 to 5 in version 0.22. Specify it explicitly to silence this warning.\n",
      "  warnings.warn(CV_WARNING, FutureWarning)\n",
      "/Users/takigawa/.pyenv/versions/anaconda3-5.1.0/lib/python3.6/site-packages/sklearn/model_selection/_split.py:1978: FutureWarning: The default value of cv will change from 3 to 5 in version 0.22. Specify it explicitly to silence this warning.\n",
      "  warnings.warn(CV_WARNING, FutureWarning)\n",
      "/Users/takigawa/.pyenv/versions/anaconda3-5.1.0/lib/python3.6/site-packages/sklearn/model_selection/_split.py:1978: FutureWarning: The default value of cv will change from 3 to 5 in version 0.22. Specify it explicitly to silence this warning.\n",
      "  warnings.warn(CV_WARNING, FutureWarning)\n",
      "/Users/takigawa/.pyenv/versions/anaconda3-5.1.0/lib/python3.6/site-packages/sklearn/model_selection/_split.py:1978: FutureWarning: The default value of cv will change from 3 to 5 in version 0.22. Specify it explicitly to silence this warning.\n",
      "  warnings.warn(CV_WARNING, FutureWarning)\n",
      "/Users/takigawa/.pyenv/versions/anaconda3-5.1.0/lib/python3.6/site-packages/sklearn/model_selection/_split.py:1978: FutureWarning: The default value of cv will change from 3 to 5 in version 0.22. Specify it explicitly to silence this warning.\n",
      "  warnings.warn(CV_WARNING, FutureWarning)\n",
      "/Users/takigawa/.pyenv/versions/anaconda3-5.1.0/lib/python3.6/site-packages/xgboost/core.py:587: FutureWarning: Series.base is deprecated and will be removed in a future version\n",
      "  if getattr(data, 'base', None) is not None and \\\n",
      "/Users/takigawa/.pyenv/versions/anaconda3-5.1.0/lib/python3.6/site-packages/xgboost/core.py:587: FutureWarning: Series.base is deprecated and will be removed in a future version\n",
      "  if getattr(data, 'base', None) is not None and \\\n",
      "/Users/takigawa/.pyenv/versions/anaconda3-5.1.0/lib/python3.6/site-packages/xgboost/core.py:587: FutureWarning: Series.base is deprecated and will be removed in a future version\n",
      "  if getattr(data, 'base', None) is not None and \\\n",
      "/Users/takigawa/.pyenv/versions/anaconda3-5.1.0/lib/python3.6/site-packages/xgboost/core.py:587: FutureWarning: Series.base is deprecated and will be removed in a future version\n",
      "  if getattr(data, 'base', None) is not None and \\\n",
      "/Users/takigawa/.pyenv/versions/anaconda3-5.1.0/lib/python3.6/site-packages/xgboost/core.py:587: FutureWarning: Series.base is deprecated and will be removed in a future version\n",
      "  if getattr(data, 'base', None) is not None and \\\n",
      "/Users/takigawa/.pyenv/versions/anaconda3-5.1.0/lib/python3.6/site-packages/xgboost/core.py:587: FutureWarning: Series.base is deprecated and will be removed in a future version\n",
      "  if getattr(data, 'base', None) is not None and \\\n",
      "/Users/takigawa/.pyenv/versions/anaconda3-5.1.0/lib/python3.6/site-packages/xgboost/core.py:587: FutureWarning: Series.base is deprecated and will be removed in a future version\n",
      "  if getattr(data, 'base', None) is not None and \\\n",
      "/Users/takigawa/.pyenv/versions/anaconda3-5.1.0/lib/python3.6/site-packages/xgboost/core.py:587: FutureWarning: Series.base is deprecated and will be removed in a future version\n",
      "  if getattr(data, 'base', None) is not None and \\\n",
      "/Users/takigawa/.pyenv/versions/anaconda3-5.1.0/lib/python3.6/site-packages/xgboost/core.py:587: FutureWarning: Series.base is deprecated and will be removed in a future version\n",
      "  if getattr(data, 'base', None) is not None and \\\n",
      "/Users/takigawa/.pyenv/versions/anaconda3-5.1.0/lib/python3.6/site-packages/xgboost/core.py:587: FutureWarning: Series.base is deprecated and will be removed in a future version\n",
      "  if getattr(data, 'base', None) is not None and \\\n",
      "/Users/takigawa/.pyenv/versions/anaconda3-5.1.0/lib/python3.6/site-packages/xgboost/core.py:587: FutureWarning: Series.base is deprecated and will be removed in a future version\n",
      "  if getattr(data, 'base', None) is not None and \\\n",
      "/Users/takigawa/.pyenv/versions/anaconda3-5.1.0/lib/python3.6/site-packages/xgboost/core.py:587: FutureWarning: Series.base is deprecated and will be removed in a future version\n",
      "  if getattr(data, 'base', None) is not None and \\\n",
      "/Users/takigawa/.pyenv/versions/anaconda3-5.1.0/lib/python3.6/site-packages/xgboost/core.py:587: FutureWarning: Series.base is deprecated and will be removed in a future version\n",
      "  if getattr(data, 'base', None) is not None and \\\n",
      "/Users/takigawa/.pyenv/versions/anaconda3-5.1.0/lib/python3.6/site-packages/xgboost/core.py:587: FutureWarning: Series.base is deprecated and will be removed in a future version\n",
      "  if getattr(data, 'base', None) is not None and \\\n",
      "/Users/takigawa/.pyenv/versions/anaconda3-5.1.0/lib/python3.6/site-packages/xgboost/core.py:587: FutureWarning: Series.base is deprecated and will be removed in a future version\n",
      "  if getattr(data, 'base', None) is not None and \\\n",
      "/Users/takigawa/.pyenv/versions/anaconda3-5.1.0/lib/python3.6/site-packages/xgboost/core.py:587: FutureWarning: Series.base is deprecated and will be removed in a future version\n",
      "  if getattr(data, 'base', None) is not None and \\\n",
      "/Users/takigawa/.pyenv/versions/anaconda3-5.1.0/lib/python3.6/site-packages/xgboost/core.py:587: FutureWarning: Series.base is deprecated and will be removed in a future version\n",
      "  if getattr(data, 'base', None) is not None and \\\n",
      "/Users/takigawa/.pyenv/versions/anaconda3-5.1.0/lib/python3.6/site-packages/xgboost/core.py:587: FutureWarning: Series.base is deprecated and will be removed in a future version\n",
      "  if getattr(data, 'base', None) is not None and \\\n",
      "/Users/takigawa/.pyenv/versions/anaconda3-5.1.0/lib/python3.6/site-packages/xgboost/core.py:587: FutureWarning: Series.base is deprecated and will be removed in a future version\n",
      "  if getattr(data, 'base', None) is not None and \\\n",
      "/Users/takigawa/.pyenv/versions/anaconda3-5.1.0/lib/python3.6/site-packages/xgboost/core.py:587: FutureWarning: Series.base is deprecated and will be removed in a future version\n",
      "  if getattr(data, 'base', None) is not None and \\\n",
      "/Users/takigawa/.pyenv/versions/anaconda3-5.1.0/lib/python3.6/site-packages/xgboost/core.py:587: FutureWarning: Series.base is deprecated and will be removed in a future version\n",
      "  if getattr(data, 'base', None) is not None and \\\n",
      "/Users/takigawa/.pyenv/versions/anaconda3-5.1.0/lib/python3.6/site-packages/xgboost/core.py:587: FutureWarning: Series.base is deprecated and will be removed in a future version\n",
      "  if getattr(data, 'base', None) is not None and \\\n",
      "/Users/takigawa/.pyenv/versions/anaconda3-5.1.0/lib/python3.6/site-packages/xgboost/core.py:587: FutureWarning: Series.base is deprecated and will be removed in a future version\n",
      "  if getattr(data, 'base', None) is not None and \\\n",
      "/Users/takigawa/.pyenv/versions/anaconda3-5.1.0/lib/python3.6/site-packages/xgboost/core.py:587: FutureWarning: Series.base is deprecated and will be removed in a future version\n",
      "  if getattr(data, 'base', None) is not None and \\\n",
      "/Users/takigawa/.pyenv/versions/anaconda3-5.1.0/lib/python3.6/site-packages/xgboost/core.py:587: FutureWarning: Series.base is deprecated and will be removed in a future version\n",
      "  if getattr(data, 'base', None) is not None and \\\n",
      "/Users/takigawa/.pyenv/versions/anaconda3-5.1.0/lib/python3.6/site-packages/xgboost/core.py:587: FutureWarning: Series.base is deprecated and will be removed in a future version\n",
      "  if getattr(data, 'base', None) is not None and \\\n",
      "/Users/takigawa/.pyenv/versions/anaconda3-5.1.0/lib/python3.6/site-packages/xgboost/core.py:587: FutureWarning: Series.base is deprecated and will be removed in a future version\n",
      "  if getattr(data, 'base', None) is not None and \\\n",
      "/Users/takigawa/.pyenv/versions/anaconda3-5.1.0/lib/python3.6/site-packages/xgboost/core.py:587: FutureWarning: Series.base is deprecated and will be removed in a future version\n",
      "  if getattr(data, 'base', None) is not None and \\\n",
      "/Users/takigawa/.pyenv/versions/anaconda3-5.1.0/lib/python3.6/site-packages/xgboost/core.py:587: FutureWarning: Series.base is deprecated and will be removed in a future version\n",
      "  if getattr(data, 'base', None) is not None and \\\n",
      "/Users/takigawa/.pyenv/versions/anaconda3-5.1.0/lib/python3.6/site-packages/xgboost/core.py:587: FutureWarning: Series.base is deprecated and will be removed in a future version\n",
      "  if getattr(data, 'base', None) is not None and \\\n"
     ]
    },
    {
     "name": "stderr",
     "output_type": "stream",
     "text": [
      "/Users/takigawa/.pyenv/versions/anaconda3-5.1.0/lib/python3.6/site-packages/xgboost/core.py:587: FutureWarning: Series.base is deprecated and will be removed in a future version\n",
      "  if getattr(data, 'base', None) is not None and \\\n",
      "/Users/takigawa/.pyenv/versions/anaconda3-5.1.0/lib/python3.6/site-packages/xgboost/core.py:587: FutureWarning: Series.base is deprecated and will be removed in a future version\n",
      "  if getattr(data, 'base', None) is not None and \\\n",
      "/Users/takigawa/.pyenv/versions/anaconda3-5.1.0/lib/python3.6/site-packages/xgboost/core.py:587: FutureWarning: Series.base is deprecated and will be removed in a future version\n",
      "  if getattr(data, 'base', None) is not None and \\\n",
      "/Users/takigawa/.pyenv/versions/anaconda3-5.1.0/lib/python3.6/site-packages/xgboost/core.py:587: FutureWarning: Series.base is deprecated and will be removed in a future version\n",
      "  if getattr(data, 'base', None) is not None and \\\n",
      "/Users/takigawa/.pyenv/versions/anaconda3-5.1.0/lib/python3.6/site-packages/xgboost/core.py:587: FutureWarning: Series.base is deprecated and will be removed in a future version\n",
      "  if getattr(data, 'base', None) is not None and \\\n",
      "/Users/takigawa/.pyenv/versions/anaconda3-5.1.0/lib/python3.6/site-packages/xgboost/core.py:587: FutureWarning: Series.base is deprecated and will be removed in a future version\n",
      "  if getattr(data, 'base', None) is not None and \\\n",
      "/Users/takigawa/.pyenv/versions/anaconda3-5.1.0/lib/python3.6/site-packages/xgboost/core.py:587: FutureWarning: Series.base is deprecated and will be removed in a future version\n",
      "  if getattr(data, 'base', None) is not None and \\\n",
      "/Users/takigawa/.pyenv/versions/anaconda3-5.1.0/lib/python3.6/site-packages/xgboost/core.py:587: FutureWarning: Series.base is deprecated and will be removed in a future version\n",
      "  if getattr(data, 'base', None) is not None and \\\n",
      "/Users/takigawa/.pyenv/versions/anaconda3-5.1.0/lib/python3.6/site-packages/xgboost/core.py:587: FutureWarning: Series.base is deprecated and will be removed in a future version\n",
      "  if getattr(data, 'base', None) is not None and \\\n",
      "/Users/takigawa/.pyenv/versions/anaconda3-5.1.0/lib/python3.6/site-packages/xgboost/core.py:587: FutureWarning: Series.base is deprecated and will be removed in a future version\n",
      "  if getattr(data, 'base', None) is not None and \\\n",
      "/Users/takigawa/.pyenv/versions/anaconda3-5.1.0/lib/python3.6/site-packages/xgboost/core.py:587: FutureWarning: Series.base is deprecated and will be removed in a future version\n",
      "  if getattr(data, 'base', None) is not None and \\\n",
      "/Users/takigawa/.pyenv/versions/anaconda3-5.1.0/lib/python3.6/site-packages/xgboost/core.py:587: FutureWarning: Series.base is deprecated and will be removed in a future version\n",
      "  if getattr(data, 'base', None) is not None and \\\n",
      "/Users/takigawa/.pyenv/versions/anaconda3-5.1.0/lib/python3.6/site-packages/xgboost/core.py:587: FutureWarning: Series.base is deprecated and will be removed in a future version\n",
      "  if getattr(data, 'base', None) is not None and \\\n",
      "/Users/takigawa/.pyenv/versions/anaconda3-5.1.0/lib/python3.6/site-packages/xgboost/core.py:587: FutureWarning: Series.base is deprecated and will be removed in a future version\n",
      "  if getattr(data, 'base', None) is not None and \\\n",
      "/Users/takigawa/.pyenv/versions/anaconda3-5.1.0/lib/python3.6/site-packages/xgboost/core.py:587: FutureWarning: Series.base is deprecated and will be removed in a future version\n",
      "  if getattr(data, 'base', None) is not None and \\\n",
      "/Users/takigawa/.pyenv/versions/anaconda3-5.1.0/lib/python3.6/site-packages/xgboost/core.py:587: FutureWarning: Series.base is deprecated and will be removed in a future version\n",
      "  if getattr(data, 'base', None) is not None and \\\n",
      "/Users/takigawa/.pyenv/versions/anaconda3-5.1.0/lib/python3.6/site-packages/xgboost/core.py:587: FutureWarning: Series.base is deprecated and will be removed in a future version\n",
      "  if getattr(data, 'base', None) is not None and \\\n",
      "/Users/takigawa/.pyenv/versions/anaconda3-5.1.0/lib/python3.6/site-packages/xgboost/core.py:587: FutureWarning: Series.base is deprecated and will be removed in a future version\n",
      "  if getattr(data, 'base', None) is not None and \\\n",
      "/Users/takigawa/.pyenv/versions/anaconda3-5.1.0/lib/python3.6/site-packages/xgboost/core.py:587: FutureWarning: Series.base is deprecated and will be removed in a future version\n",
      "  if getattr(data, 'base', None) is not None and \\\n",
      "/Users/takigawa/.pyenv/versions/anaconda3-5.1.0/lib/python3.6/site-packages/xgboost/core.py:588: FutureWarning: Series.base is deprecated and will be removed in a future version\n",
      "  data.base is not None and isinstance(data, np.ndarray) \\\n"
     ]
    }
   ],
   "source": [
    "# Lasso\n",
    "cv_lasso.fit(target_data.iloc[:,:-1], target_data.iloc[:,-1])\n",
    "cvalpha = cv_lasso.best_params_['alpha']\n",
    "best_lasso = Lasso(random_state=929, alpha=cvalpha)\n",
    "\n",
    "# Ridge\n",
    "cv_ridge.fit(target_data.iloc[:,:-1], target_data.iloc[:,-1])\n",
    "cvalpha = cv_ridge.best_params_['alpha']\n",
    "best_ridge = Ridge(random_state=929, alpha=cvalpha)\n",
    "\n",
    "# KRR\n",
    "cv_krr.fit(target_data.iloc[:,:-1], target_data.iloc[:,-1])\n",
    "cvalpha = cv_krr.best_params_['alpha']\n",
    "cvgamma = cv_krr.best_params_['gamma']\n",
    "best_krr = KernelRidge(kernel='rbf', alpha=cvalpha, gamma=cvgamma)\n",
    "\n",
    "# SVR\n",
    "cv_svr.fit(target_data.iloc[:,:-1], target_data.iloc[:,-1])\n",
    "cvC = cv_svr.best_params_['C']\n",
    "cvgamma = cv_svr.best_params_['gamma']\n",
    "cvepsilon = cv_svr.best_params_['epsilon']\n",
    "best_svr = SVR(kernel='rbf', epsilon=cvepsilon, C=cvC, gamma=cvgamma)\n",
    "\n",
    "# RFR\n",
    "best_rfr = RandomForestRegressor(n_estimators=ntree, random_state=929, n_jobs=-1)\n",
    "\n",
    "# ETR\n",
    "best_etr = ExtraTreesRegressor(n_estimators=ntree, random_state=929, n_jobs=-1)\n",
    "\n",
    "# XGB\n",
    "cv_xgb.fit(target_data.iloc[:,:-1], target_data.iloc[:,-1])\n",
    "cvdepth = cv_xgb.best_params_['max_depth']\n",
    "cvsubsample = cv_xgb.best_params_['subsample']\n",
    "cvcolsample = cv_xgb.best_params_['colsample_bytree']\n",
    "cvlr = cv_xgb.best_params_['learning_rate']\n",
    "best_xgb = XGBRegressor(n_estimators=ntree,\\\n",
    "                       max_depth=cvdepth,\\\n",
    "                       subsample=cvsubsample,\\\n",
    "                       colsample_bytree=cvcolsample,\\\n",
    "                       learning_rate=cvlr,\\\n",
    "                       random_state=929, seed=929, n_jobs=-1)"
   ]
  },
  {
   "cell_type": "code",
   "execution_count": 68,
   "metadata": {},
   "outputs": [
    {
     "name": "stdout",
     "output_type": "stream",
     "text": [
      "Lasso(alpha=0.1, copy_X=True, fit_intercept=True, max_iter=1000,\n",
      "      normalize=False, positive=False, precompute=False, random_state=929,\n",
      "      selection='cyclic', tol=0.0001, warm_start=False)\n",
      "RMSE_test: 24.059 STD_test: 0.692\n",
      "RMSE_train: 23.711 STD_train: 0.076\n",
      "Data size:(4185, 79)\n",
      "\n",
      "[Lasso] RMSE 24.059 (STD: 0.692) ... test\n",
      "[Lasso] RMSE 23.711 (STD: 0.076) ... train\n",
      "Ridge(alpha=0.1, copy_X=True, fit_intercept=True, max_iter=None,\n",
      "      normalize=False, random_state=929, solver='auto', tol=0.001)\n",
      "RMSE_test: 23.510 STD_test: 0.581\n",
      "RMSE_train: 23.003 STD_train: 0.068\n",
      "Data size:(4185, 79)\n",
      "\n",
      "[Ridge] RMSE 23.510 (STD: 0.581) ... test\n",
      "[Ridge] RMSE 23.003 (STD: 0.068) ... train\n",
      "KernelRidge(alpha=0.1, coef0=1, degree=3, gamma=0.1, kernel='rbf',\n",
      "            kernel_params=None)\n",
      "RMSE_test: 35.989 STD_test: 1.028\n",
      "RMSE_train: 6.412 STD_train: 0.089\n",
      "Data size:(4185, 79)\n",
      "\n",
      "[KRR] RMSE 35.989 (STD: 1.028) ... test\n",
      "[KRR] RMSE 6.412 (STD: 0.089) ... train\n",
      "SVR(C=10.0, cache_size=200, coef0=0.0, degree=3, epsilon=0.1, gamma=0.1,\n",
      "    kernel='rbf', max_iter=-1, shrinking=True, tol=0.001, verbose=False)\n",
      "RMSE_test: 26.826 STD_test: 0.523\n",
      "RMSE_train: 20.132 STD_train: 0.083\n",
      "Data size:(4185, 79)\n",
      "\n",
      "[SVR] RMSE 26.826 (STD: 0.523) ... test\n",
      "[SVR] RMSE 20.132 (STD: 0.083) ... train\n",
      "RandomForestRegressor(bootstrap=True, criterion='mse', max_depth=None,\n",
      "                      max_features='auto', max_leaf_nodes=None,\n",
      "                      min_impurity_decrease=0.0, min_impurity_split=None,\n",
      "                      min_samples_leaf=1, min_samples_split=2,\n",
      "                      min_weight_fraction_leaf=0.0, n_estimators=10, n_jobs=-1,\n",
      "                      oob_score=False, random_state=929, verbose=0,\n",
      "                      warm_start=False)\n",
      "RMSE_test: 12.241 STD_test: 0.944\n",
      "RMSE_train: 5.263 STD_train: 0.134\n",
      "Data size:(4185, 79)\n",
      "\n",
      "[RFR] RMSE 12.241 (STD: 0.944) ... test\n",
      "[RFR] RMSE 5.263 (STD: 0.134) ... train\n",
      "ExtraTreesRegressor(bootstrap=False, criterion='mse', max_depth=None,\n",
      "                    max_features='auto', max_leaf_nodes=None,\n",
      "                    min_impurity_decrease=0.0, min_impurity_split=None,\n",
      "                    min_samples_leaf=1, min_samples_split=2,\n",
      "                    min_weight_fraction_leaf=0.0, n_estimators=10, n_jobs=-1,\n",
      "                    oob_score=False, random_state=929, verbose=0,\n",
      "                    warm_start=False)\n",
      "RMSE_test: 11.048 STD_test: 0.911\n",
      "RMSE_train: 0.011 STD_train: 0.005\n",
      "Data size:(4185, 79)\n",
      "\n",
      "[ETR] RMSE 11.048 (STD: 0.911) ... test\n",
      "[ETR] RMSE 0.011 (STD: 0.005) ... train\n",
      "XGBRegressor(base_score=0.5, booster='gbtree', colsample_bylevel=1,\n",
      "             colsample_bytree=1, gamma=0, importance_type='gain',\n",
      "             learning_rate=0.1, max_delta_step=0, max_depth=4,\n",
      "             min_child_weight=1, missing=None, n_estimators=10, n_jobs=-1,\n",
      "             nthread=None, objective='reg:linear', random_state=929,\n",
      "             reg_alpha=0, reg_lambda=1, scale_pos_weight=1, seed=929,\n",
      "             silent=True, subsample=0.9)\n"
     ]
    },
    {
     "name": "stderr",
     "output_type": "stream",
     "text": [
      "/Users/takigawa/.pyenv/versions/anaconda3-5.1.0/lib/python3.6/site-packages/xgboost/core.py:587: FutureWarning: Series.base is deprecated and will be removed in a future version\n",
      "  if getattr(data, 'base', None) is not None and \\\n"
     ]
    },
    {
     "name": "stdout",
     "output_type": "stream",
     "text": [
      "RMSE_test: 28.076 STD_test: 0.818\n",
      "RMSE_train: 27.693 STD_train: 0.063\n",
      "Data size:(4185, 79)\n",
      "\n",
      "[XGB] RMSE 28.076 (STD: 0.818) ... test\n",
      "[XGB] RMSE 27.693 (STD: 0.063) ... train\n"
     ]
    }
   ],
   "source": [
    "model = best_lasso\n",
    "print(model)\n",
    "rmse_wgs['Lasso'] = crossvalid(data.iloc[:,:-1], data.iloc[:,-1], model, 10, 'Lasso')\n",
    "\n",
    "model = best_ridge\n",
    "print(model)\n",
    "rmse_wgs['Ridge'] = crossvalid(data.iloc[:,:-1], data.iloc[:,-1], model, 10, 'Ridge')\n",
    "\n",
    "model = best_krr\n",
    "print(model)\n",
    "rmse_wgs['KRR'] = crossvalid(data.iloc[:,:-1], data.iloc[:,-1], model, 10, 'KRR')\n",
    "\n",
    "model = best_svr\n",
    "print(model)\n",
    "rmse_wgs['SVR'] = crossvalid(data.iloc[:,:-1], data.iloc[:,-1], model, 10, 'SVR')\n",
    "\n",
    "model = best_rfr\n",
    "print(model)\n",
    "rmse_wgs['RFR'] = crossvalid(data.iloc[:,:-1], data.iloc[:,-1], model, 10, 'RFR')\n",
    "\n",
    "model = best_etr\n",
    "print(model)\n",
    "rmse_wgs['ETR'] = crossvalid(data.iloc[:,:-1], data.iloc[:,-1], model, 10, 'ETR')\n",
    "\n",
    "model = best_xgb\n",
    "print(model)\n",
    "rmse_wgs['XGB'] = crossvalid(data.iloc[:,:-1], data.iloc[:,-1], model, 10, 'XGB')"
   ]
  },
  {
   "cell_type": "markdown",
   "metadata": {},
   "source": [
    "### wgs_desc"
   ]
  },
  {
   "cell_type": "code",
   "execution_count": 69,
   "metadata": {},
   "outputs": [],
   "source": [
    "rmse_wgs_desc = {}\n",
    "data = shuffle(wgs_desc, random_state=929)\n",
    "target_data = wgs_desc"
   ]
  },
  {
   "cell_type": "code",
   "execution_count": 70,
   "metadata": {},
   "outputs": [
    {
     "name": "stderr",
     "output_type": "stream",
     "text": [
      "/Users/takigawa/.pyenv/versions/anaconda3-5.1.0/lib/python3.6/site-packages/sklearn/model_selection/_split.py:1978: FutureWarning: The default value of cv will change from 3 to 5 in version 0.22. Specify it explicitly to silence this warning.\n",
      "  warnings.warn(CV_WARNING, FutureWarning)\n",
      "/Users/takigawa/.pyenv/versions/anaconda3-5.1.0/lib/python3.6/site-packages/sklearn/linear_model/coordinate_descent.py:475: ConvergenceWarning: Objective did not converge. You might want to increase the number of iterations. Duality gap: 677317.0302980654, tolerance: 279.59831767828445\n",
      "  positive)\n",
      "/Users/takigawa/.pyenv/versions/anaconda3-5.1.0/lib/python3.6/site-packages/sklearn/linear_model/coordinate_descent.py:475: ConvergenceWarning: Objective did not converge. You might want to increase the number of iterations. Duality gap: 763897.3246697523, tolerance: 304.69124376603196\n",
      "  positive)\n",
      "/Users/takigawa/.pyenv/versions/anaconda3-5.1.0/lib/python3.6/site-packages/sklearn/linear_model/coordinate_descent.py:475: ConvergenceWarning: Objective did not converge. You might want to increase the number of iterations. Duality gap: 631562.2445580076, tolerance: 307.92121808089803\n",
      "  positive)\n",
      "/Users/takigawa/.pyenv/versions/anaconda3-5.1.0/lib/python3.6/site-packages/sklearn/linear_model/coordinate_descent.py:475: ConvergenceWarning: Objective did not converge. You might want to increase the number of iterations. Duality gap: 765990.7057821122, tolerance: 279.59831767828445\n",
      "  positive)\n",
      "/Users/takigawa/.pyenv/versions/anaconda3-5.1.0/lib/python3.6/site-packages/sklearn/linear_model/coordinate_descent.py:475: ConvergenceWarning: Objective did not converge. You might want to increase the number of iterations. Duality gap: 835464.8330245627, tolerance: 304.69124376603196\n",
      "  positive)\n",
      "/Users/takigawa/.pyenv/versions/anaconda3-5.1.0/lib/python3.6/site-packages/sklearn/linear_model/coordinate_descent.py:475: ConvergenceWarning: Objective did not converge. You might want to increase the number of iterations. Duality gap: 723429.416109058, tolerance: 307.92121808089803\n",
      "  positive)\n",
      "/Users/takigawa/.pyenv/versions/anaconda3-5.1.0/lib/python3.6/site-packages/sklearn/linear_model/coordinate_descent.py:475: ConvergenceWarning: Objective did not converge. You might want to increase the number of iterations. Duality gap: 1251519.4510487483, tolerance: 446.61305384891716\n",
      "  positive)\n",
      "/Users/takigawa/.pyenv/versions/anaconda3-5.1.0/lib/python3.6/site-packages/sklearn/model_selection/_split.py:1978: FutureWarning: The default value of cv will change from 3 to 5 in version 0.22. Specify it explicitly to silence this warning.\n",
      "  warnings.warn(CV_WARNING, FutureWarning)\n",
      "/Users/takigawa/.pyenv/versions/anaconda3-5.1.0/lib/python3.6/site-packages/sklearn/model_selection/_split.py:1978: FutureWarning: The default value of cv will change from 3 to 5 in version 0.22. Specify it explicitly to silence this warning.\n",
      "  warnings.warn(CV_WARNING, FutureWarning)\n",
      "/Users/takigawa/.pyenv/versions/anaconda3-5.1.0/lib/python3.6/site-packages/sklearn/model_selection/_split.py:1978: FutureWarning: The default value of cv will change from 3 to 5 in version 0.22. Specify it explicitly to silence this warning.\n",
      "  warnings.warn(CV_WARNING, FutureWarning)\n"
     ]
    }
   ],
   "source": [
    "# Lasso\n",
    "cv_lasso.fit(target_data.iloc[:,:-1], target_data.iloc[:,-1])\n",
    "cvalpha = cv_lasso.best_params_['alpha']\n",
    "best_lasso = Lasso(random_state=929, alpha=cvalpha)\n",
    "\n",
    "# Ridge\n",
    "cv_ridge.fit(target_data.iloc[:,:-1], target_data.iloc[:,-1])\n",
    "cvalpha = cv_ridge.best_params_['alpha']\n",
    "best_ridge = Ridge(random_state=929, alpha=cvalpha)\n",
    "\n",
    "# KRR\n",
    "cv_krr.fit(target_data.iloc[:,:-1], target_data.iloc[:,-1])\n",
    "cvalpha = cv_krr.best_params_['alpha']\n",
    "cvgamma = cv_krr.best_params_['gamma']\n",
    "best_krr = KernelRidge(kernel='rbf', alpha=cvalpha, gamma=cvgamma)\n",
    "\n",
    "# SVR\n",
    "cv_svr.fit(target_data.iloc[:,:-1], target_data.iloc[:,-1])\n",
    "cvC = cv_svr.best_params_['C']\n",
    "cvgamma = cv_svr.best_params_['gamma']\n",
    "cvepsilon = cv_svr.best_params_['epsilon']\n",
    "best_svr = SVR(kernel='rbf', epsilon=cvepsilon, C=cvC, gamma=cvgamma)\n",
    "\n",
    "# RFR\n",
    "best_rfr = RandomForestRegressor(n_estimators=ntree, random_state=929, n_jobs=-1)\n",
    "\n",
    "# ETR\n",
    "best_etr = ExtraTreesRegressor(n_estimators=ntree, random_state=929, n_jobs=-1)"
   ]
  },
  {
   "cell_type": "code",
   "execution_count": 71,
   "metadata": {},
   "outputs": [
    {
     "name": "stdout",
     "output_type": "stream",
     "text": [
      "Lasso(alpha=0.1, copy_X=True, fit_intercept=True, max_iter=1000,\n",
      "      normalize=False, positive=False, precompute=False, random_state=929,\n",
      "      selection='cyclic', tol=0.0001, warm_start=False)\n"
     ]
    },
    {
     "name": "stderr",
     "output_type": "stream",
     "text": [
      "/Users/takigawa/.pyenv/versions/anaconda3-5.1.0/lib/python3.6/site-packages/sklearn/linear_model/coordinate_descent.py:475: ConvergenceWarning: Objective did not converge. You might want to increase the number of iterations. Duality gap: 1134421.5566300275, tolerance: 402.66865098908943\n",
      "  positive)\n",
      "/Users/takigawa/.pyenv/versions/anaconda3-5.1.0/lib/python3.6/site-packages/sklearn/linear_model/coordinate_descent.py:475: ConvergenceWarning: Objective did not converge. You might want to increase the number of iterations. Duality gap: 1124976.221860943, tolerance: 403.0522811518897\n",
      "  positive)\n",
      "/Users/takigawa/.pyenv/versions/anaconda3-5.1.0/lib/python3.6/site-packages/sklearn/linear_model/coordinate_descent.py:475: ConvergenceWarning: Objective did not converge. You might want to increase the number of iterations. Duality gap: 1134714.3029311716, tolerance: 403.2200847103915\n",
      "  positive)\n",
      "/Users/takigawa/.pyenv/versions/anaconda3-5.1.0/lib/python3.6/site-packages/sklearn/linear_model/coordinate_descent.py:475: ConvergenceWarning: Objective did not converge. You might want to increase the number of iterations. Duality gap: 1128011.1461722662, tolerance: 400.24534497653497\n",
      "  positive)\n",
      "/Users/takigawa/.pyenv/versions/anaconda3-5.1.0/lib/python3.6/site-packages/sklearn/linear_model/coordinate_descent.py:475: ConvergenceWarning: Objective did not converge. You might want to increase the number of iterations. Duality gap: 1118071.5688975502, tolerance: 398.7337866488273\n",
      "  positive)\n",
      "/Users/takigawa/.pyenv/versions/anaconda3-5.1.0/lib/python3.6/site-packages/sklearn/linear_model/coordinate_descent.py:475: ConvergenceWarning: Objective did not converge. You might want to increase the number of iterations. Duality gap: 1104939.3793604109, tolerance: 399.8528548686793\n",
      "  positive)\n",
      "/Users/takigawa/.pyenv/versions/anaconda3-5.1.0/lib/python3.6/site-packages/sklearn/linear_model/coordinate_descent.py:475: ConvergenceWarning: Objective did not converge. You might want to increase the number of iterations. Duality gap: 1124044.9623262875, tolerance: 404.7458496264677\n",
      "  positive)\n",
      "/Users/takigawa/.pyenv/versions/anaconda3-5.1.0/lib/python3.6/site-packages/sklearn/linear_model/coordinate_descent.py:475: ConvergenceWarning: Objective did not converge. You might want to increase the number of iterations. Duality gap: 1129592.6550239362, tolerance: 402.2694113960377\n",
      "  positive)\n",
      "/Users/takigawa/.pyenv/versions/anaconda3-5.1.0/lib/python3.6/site-packages/sklearn/linear_model/coordinate_descent.py:475: ConvergenceWarning: Objective did not converge. You might want to increase the number of iterations. Duality gap: 1116905.6443734441, tolerance: 402.2578024897916\n",
      "  positive)\n",
      "/Users/takigawa/.pyenv/versions/anaconda3-5.1.0/lib/python3.6/site-packages/sklearn/linear_model/coordinate_descent.py:475: ConvergenceWarning: Objective did not converge. You might want to increase the number of iterations. Duality gap: 1125347.1236368865, tolerance: 402.32964569480225\n",
      "  positive)\n"
     ]
    },
    {
     "name": "stdout",
     "output_type": "stream",
     "text": [
      "RMSE_test: 24.039 STD_test: 0.816\n",
      "RMSE_train: 23.642 STD_train: 0.106\n",
      "Data size:(4185, 134)\n",
      "\n",
      "[Lasso] RMSE 24.039 (STD: 0.816) ... test\n",
      "[Lasso] RMSE 23.642 (STD: 0.106) ... train\n",
      "Ridge(alpha=0.1, copy_X=True, fit_intercept=True, max_iter=None,\n",
      "      normalize=False, random_state=929, solver='auto', tol=0.001)\n",
      "RMSE_test: 23.487 STD_test: 0.916\n",
      "RMSE_train: 22.944 STD_train: 0.105\n",
      "Data size:(4185, 134)\n",
      "\n",
      "[Ridge] RMSE 23.487 (STD: 0.916) ... test\n",
      "[Ridge] RMSE 22.944 (STD: 0.105) ... train\n",
      "KernelRidge(alpha=0.1, coef0=1, degree=3, gamma=0.1, kernel='rbf',\n",
      "            kernel_params=None)\n",
      "RMSE_test: 45.596 STD_test: 1.391\n",
      "RMSE_train: 5.787 STD_train: 0.067\n",
      "Data size:(4185, 134)\n",
      "\n",
      "[KRR] RMSE 45.596 (STD: 1.391) ... test\n",
      "[KRR] RMSE 5.787 (STD: 0.067) ... train\n",
      "SVR(C=10.0, cache_size=200, coef0=0.0, degree=3, epsilon=0.1, gamma=0.1,\n",
      "    kernel='rbf', max_iter=-1, shrinking=True, tol=0.001, verbose=False)\n",
      "RMSE_test: 30.480 STD_test: 0.681\n",
      "RMSE_train: 22.744 STD_train: 0.075\n",
      "Data size:(4185, 134)\n",
      "\n",
      "[SVR] RMSE 30.480 (STD: 0.681) ... test\n",
      "[SVR] RMSE 22.744 (STD: 0.075) ... train\n",
      "RandomForestRegressor(bootstrap=True, criterion='mse', max_depth=None,\n",
      "                      max_features='auto', max_leaf_nodes=None,\n",
      "                      min_impurity_decrease=0.0, min_impurity_split=None,\n",
      "                      min_samples_leaf=1, min_samples_split=2,\n",
      "                      min_weight_fraction_leaf=0.0, n_estimators=10, n_jobs=-1,\n",
      "                      oob_score=False, random_state=929, verbose=0,\n",
      "                      warm_start=False)\n",
      "RMSE_test: 12.190 STD_test: 0.877\n",
      "RMSE_train: 5.078 STD_train: 0.078\n",
      "Data size:(4185, 134)\n",
      "\n",
      "[RFR] RMSE 12.190 (STD: 0.877) ... test\n",
      "[RFR] RMSE 5.078 (STD: 0.078) ... train\n",
      "ExtraTreesRegressor(bootstrap=False, criterion='mse', max_depth=None,\n",
      "                    max_features='auto', max_leaf_nodes=None,\n",
      "                    min_impurity_decrease=0.0, min_impurity_split=None,\n",
      "                    min_samples_leaf=1, min_samples_split=2,\n",
      "                    min_weight_fraction_leaf=0.0, n_estimators=10, n_jobs=-1,\n",
      "                    oob_score=False, random_state=929, verbose=0,\n",
      "                    warm_start=False)\n",
      "RMSE_test: 10.847 STD_test: 0.964\n",
      "RMSE_train: 0.022 STD_train: 0.018\n",
      "Data size:(4185, 134)\n",
      "\n",
      "[ETR] RMSE 10.847 (STD: 0.964) ... test\n",
      "[ETR] RMSE 0.022 (STD: 0.018) ... train\n",
      "XGBRegressor(base_score=0.5, booster='gbtree', colsample_bylevel=1,\n",
      "             colsample_bytree=1, gamma=0, importance_type='gain',\n",
      "             learning_rate=0.05, max_delta_step=0, max_depth=3,\n",
      "             min_child_weight=1, missing=None, n_estimators=10, n_jobs=-1,\n",
      "             nthread=None, objective='reg:linear', random_state=929,\n",
      "             reg_alpha=0, reg_lambda=1, scale_pos_weight=1, seed=929,\n",
      "             silent=True, subsample=0.9)\n"
     ]
    },
    {
     "name": "stderr",
     "output_type": "stream",
     "text": [
      "/Users/takigawa/.pyenv/versions/anaconda3-5.1.0/lib/python3.6/site-packages/xgboost/core.py:587: FutureWarning: Series.base is deprecated and will be removed in a future version\n",
      "  if getattr(data, 'base', None) is not None and \\\n"
     ]
    },
    {
     "name": "stdout",
     "output_type": "stream",
     "text": [
      "RMSE_test: 37.750 STD_test: 1.484\n",
      "RMSE_train: 37.652 STD_train: 0.109\n",
      "Data size:(4185, 134)\n",
      "\n",
      "[XGB] RMSE 37.750 (STD: 1.484) ... test\n",
      "[XGB] RMSE 37.652 (STD: 0.109) ... train\n"
     ]
    }
   ],
   "source": [
    "model = best_lasso\n",
    "print(model)\n",
    "rmse_wgs_desc['Lasso'] = crossvalid(data.iloc[:,:-1], data.iloc[:,-1], model, 10, 'Lasso')\n",
    "\n",
    "model = best_ridge\n",
    "print(model)\n",
    "rmse_wgs_desc['Ridge'] = crossvalid(data.iloc[:,:-1], data.iloc[:,-1], model, 10, 'Ridge')\n",
    "\n",
    "model = best_krr\n",
    "print(model)\n",
    "rmse_wgs_desc['KRR'] = crossvalid(data.iloc[:,:-1], data.iloc[:,-1], model, 10, 'KRR')\n",
    "\n",
    "model = best_svr\n",
    "print(model)\n",
    "rmse_wgs_desc['SVR'] = crossvalid(data.iloc[:,:-1], data.iloc[:,-1], model, 10, 'SVR')\n",
    "\n",
    "model = best_rfr\n",
    "print(model)\n",
    "rmse_wgs_desc['RFR'] = crossvalid(data.iloc[:,:-1], data.iloc[:,-1], model, 10, 'RFR')\n",
    "\n",
    "model = best_etr\n",
    "print(model)\n",
    "rmse_wgs_desc['ETR'] = crossvalid(data.iloc[:,:-1], data.iloc[:,-1], model, 10, 'ETR')\n",
    "\n",
    "model = best_xgb_wgsdesc\n",
    "print(model)\n",
    "rmse_wgs_desc['XGB'] = crossvalid(data.iloc[:,:-1], data.iloc[:,-1], model, 10, 'XGB')"
   ]
  },
  {
   "cell_type": "markdown",
   "metadata": {},
   "source": [
    "### Table 4"
   ]
  },
  {
   "cell_type": "code",
   "execution_count": 72,
   "metadata": {},
   "outputs": [
    {
     "name": "stdout",
     "output_type": "stream",
     "text": [
      "          Lasso  Ridge    KRR    SVR    RFR    ETR    XGB\n",
      "tes_mean  32.27  32.30  31.59  32.15  31.29  31.17  40.94\n",
      "tes_sd     0.49   0.45   0.62   0.77   0.67   0.64   1.45\n",
      "trn_mean  32.07  31.99  30.94  31.94  29.70  29.61  40.89\n",
      "trn_sd     0.05   0.05   0.06   0.07   0.07   0.07   0.11\n",
      "          Lasso  Ridge    KRR    SVR    RFR       ETR    XGB\n",
      "tes_mean  24.06  23.51  35.99  26.83  12.24  1.10e+01  28.08\n",
      "tes_sd     0.69   0.58   1.03   0.52   0.94  9.11e-01   0.82\n",
      "trn_mean  23.71  23.00   6.41  20.13   5.26  1.15e-02  27.69\n",
      "trn_sd     0.08   0.07   0.09   0.08   0.13  5.06e-03   0.06\n",
      "          Lasso  Ridge    KRR    SVR    RFR    ETR    XGB\n",
      "tes_mean  24.04  23.49  45.60  30.48  12.19  10.85  37.75\n",
      "tes_sd     0.82   0.92   1.39   0.68   0.88   0.96   1.48\n",
      "trn_mean  23.64  22.94   5.79  22.74   5.08   0.02  37.65\n",
      "trn_sd     0.11   0.11   0.07   0.07   0.08   0.02   0.11\n"
     ]
    }
   ],
   "source": [
    "pd.options.display.precision = 2\n",
    "\n",
    "print(pd.DataFrame(rmse_wgs_nocond))\n",
    "\n",
    "print(pd.DataFrame(rmse_wgs))\n",
    "\n",
    "print(pd.DataFrame(rmse_wgs_desc))"
   ]
  },
  {
   "cell_type": "markdown",
   "metadata": {},
   "source": [
    "## CO oxidation data"
   ]
  },
  {
   "cell_type": "code",
   "execution_count": 73,
   "metadata": {},
   "outputs": [],
   "source": [
    "co = pd.read_csv('input/co.csv')\n",
    "ind = co['Data No']\n",
    "co.index = ind\n",
    "co= co.drop(['Data No'], axis=1)\n",
    "\n",
    "co_desc = pd.read_csv('input/co_desc.csv')\n",
    "ind = co_desc['Data No']\n",
    "co_desc.index = ind\n",
    "co_desc= co_desc.drop(['Data No'], axis=1)"
   ]
  },
  {
   "cell_type": "code",
   "execution_count": 74,
   "metadata": {},
   "outputs": [],
   "source": [
    "# devine to each groups\n",
    "baseatom = co.loc[:,:'Pd'].columns\n",
    "supatom = co.loc[:,'Al_s':'Co_s'].columns\n",
    "pro = co.loc[:,'Ce_p':'Cu_p']\n",
    "proatom = [re.findall(r'[A-Z][a-z]?',x) for x in co.loc[:,'Ce_p':'Cu_p']]\n",
    "proatom = [y for x in proatom for y in x ]\n",
    "env = co.drop(list(baseatom)+list(pro),axis=1).iloc[:,:-1].columns\n",
    "\n",
    "conv = co.iloc[:,-1]"
   ]
  },
  {
   "cell_type": "code",
   "execution_count": 75,
   "metadata": {},
   "outputs": [],
   "source": [
    "desc = pd.read_csv('input/Descriptors.csv',skiprows = [0],index_col='symbol').drop(['Unnamed: 0',\n",
    "                                                                               'name',\n",
    "                                                                               'ionic radius',\n",
    "                                                                               'covalent radius',\n",
    "                                                                               'VdW radius',\n",
    "                                                                               'crystal radius',\n",
    "                                                                               'a x 106 ',\n",
    "                                                                               'Heat capacity ',\n",
    "                                                                               'l',\n",
    "                                                                               'electron affinity ',\n",
    "                                                                               'VE',\n",
    "                                                                               'Surface energy '],axis=1)\n",
    "desc=desc.loc[list(baseatom)+list(proatom),:]\n",
    "desc = desc.fillna(desc.mean())"
   ]
  },
  {
   "cell_type": "code",
   "execution_count": 76,
   "metadata": {},
   "outputs": [],
   "source": [
    "# CO oxdation\n",
    "ntree = 1500\n",
    "if debug_run:\n",
    "    ntree = 10\n",
    "\n",
    "# Lasso\n",
    "cv_lasso = GridSearchCV(\n",
    "    Lasso(random_state=929), cv=5,\n",
    "    param_grid={\"alpha\": range_lasso})\n",
    "\n",
    "# Ridge\n",
    "cv_ridge = GridSearchCV(\n",
    "    Ridge(random_state=929), cv=5,\n",
    "    param_grid={\"alpha\": range_ridge})\n",
    "\n",
    "# KRR\n",
    "cv_krr = GridSearchCV(\n",
    "    KernelRidge(kernel='rbf'), cv=5,\n",
    "    param_grid={\"alpha\": range_krr_alpha, \n",
    "                \"gamma\": range_krr_gamma})\n",
    "\n",
    "# SVR\n",
    "cv_svr = GridSearchCV(\n",
    "    SVR(kernel='rbf'), cv=5,\n",
    "    param_grid={\"C\": range_svr_C, \n",
    "                \"gamma\": range_svr_gamma, \n",
    "                \"epsilon\": range_svr_epsilon})\n",
    "\n",
    "# XGB\n",
    "cv_xgb = GridSearchCV(\n",
    "    XGBRegressor(random_state=929,\n",
    "                 n_estimators=ntree), cv=5,\n",
    "    param_grid={\"max_depth\": range_depth, \n",
    "                \"subsample\": range_subsample, \n",
    "                \"colsample_bytree\": range_colsample,\n",
    "                \"learning_rate\": range_lr})"
   ]
  },
  {
   "cell_type": "markdown",
   "metadata": {},
   "source": [
    "## Fig.6 (C)"
   ]
  },
  {
   "cell_type": "code",
   "execution_count": 77,
   "metadata": {},
   "outputs": [
    {
     "name": "stderr",
     "output_type": "stream",
     "text": [
      "/Users/takigawa/.pyenv/versions/anaconda3-5.1.0/lib/python3.6/site-packages/sklearn/model_selection/_split.py:1978: FutureWarning: The default value of cv will change from 3 to 5 in version 0.22. Specify it explicitly to silence this warning.\n",
      "  warnings.warn(CV_WARNING, FutureWarning)\n",
      "/Users/takigawa/.pyenv/versions/anaconda3-5.1.0/lib/python3.6/site-packages/xgboost/core.py:587: FutureWarning: Series.base is deprecated and will be removed in a future version\n",
      "  if getattr(data, 'base', None) is not None and \\\n",
      "/Users/takigawa/.pyenv/versions/anaconda3-5.1.0/lib/python3.6/site-packages/xgboost/core.py:587: FutureWarning: Series.base is deprecated and will be removed in a future version\n",
      "  if getattr(data, 'base', None) is not None and \\\n",
      "/Users/takigawa/.pyenv/versions/anaconda3-5.1.0/lib/python3.6/site-packages/xgboost/core.py:587: FutureWarning: Series.base is deprecated and will be removed in a future version\n",
      "  if getattr(data, 'base', None) is not None and \\\n",
      "/Users/takigawa/.pyenv/versions/anaconda3-5.1.0/lib/python3.6/site-packages/xgboost/core.py:587: FutureWarning: Series.base is deprecated and will be removed in a future version\n",
      "  if getattr(data, 'base', None) is not None and \\\n",
      "/Users/takigawa/.pyenv/versions/anaconda3-5.1.0/lib/python3.6/site-packages/xgboost/core.py:587: FutureWarning: Series.base is deprecated and will be removed in a future version\n",
      "  if getattr(data, 'base', None) is not None and \\\n",
      "/Users/takigawa/.pyenv/versions/anaconda3-5.1.0/lib/python3.6/site-packages/xgboost/core.py:587: FutureWarning: Series.base is deprecated and will be removed in a future version\n",
      "  if getattr(data, 'base', None) is not None and \\\n",
      "/Users/takigawa/.pyenv/versions/anaconda3-5.1.0/lib/python3.6/site-packages/xgboost/core.py:587: FutureWarning: Series.base is deprecated and will be removed in a future version\n",
      "  if getattr(data, 'base', None) is not None and \\\n",
      "/Users/takigawa/.pyenv/versions/anaconda3-5.1.0/lib/python3.6/site-packages/xgboost/core.py:587: FutureWarning: Series.base is deprecated and will be removed in a future version\n",
      "  if getattr(data, 'base', None) is not None and \\\n",
      "/Users/takigawa/.pyenv/versions/anaconda3-5.1.0/lib/python3.6/site-packages/xgboost/core.py:587: FutureWarning: Series.base is deprecated and will be removed in a future version\n",
      "  if getattr(data, 'base', None) is not None and \\\n",
      "/Users/takigawa/.pyenv/versions/anaconda3-5.1.0/lib/python3.6/site-packages/xgboost/core.py:587: FutureWarning: Series.base is deprecated and will be removed in a future version\n",
      "  if getattr(data, 'base', None) is not None and \\\n",
      "/Users/takigawa/.pyenv/versions/anaconda3-5.1.0/lib/python3.6/site-packages/xgboost/core.py:587: FutureWarning: Series.base is deprecated and will be removed in a future version\n",
      "  if getattr(data, 'base', None) is not None and \\\n",
      "/Users/takigawa/.pyenv/versions/anaconda3-5.1.0/lib/python3.6/site-packages/xgboost/core.py:587: FutureWarning: Series.base is deprecated and will be removed in a future version\n",
      "  if getattr(data, 'base', None) is not None and \\\n",
      "/Users/takigawa/.pyenv/versions/anaconda3-5.1.0/lib/python3.6/site-packages/xgboost/core.py:587: FutureWarning: Series.base is deprecated and will be removed in a future version\n",
      "  if getattr(data, 'base', None) is not None and \\\n",
      "/Users/takigawa/.pyenv/versions/anaconda3-5.1.0/lib/python3.6/site-packages/xgboost/core.py:587: FutureWarning: Series.base is deprecated and will be removed in a future version\n",
      "  if getattr(data, 'base', None) is not None and \\\n",
      "/Users/takigawa/.pyenv/versions/anaconda3-5.1.0/lib/python3.6/site-packages/xgboost/core.py:587: FutureWarning: Series.base is deprecated and will be removed in a future version\n",
      "  if getattr(data, 'base', None) is not None and \\\n",
      "/Users/takigawa/.pyenv/versions/anaconda3-5.1.0/lib/python3.6/site-packages/xgboost/core.py:587: FutureWarning: Series.base is deprecated and will be removed in a future version\n",
      "  if getattr(data, 'base', None) is not None and \\\n",
      "/Users/takigawa/.pyenv/versions/anaconda3-5.1.0/lib/python3.6/site-packages/xgboost/core.py:587: FutureWarning: Series.base is deprecated and will be removed in a future version\n",
      "  if getattr(data, 'base', None) is not None and \\\n",
      "/Users/takigawa/.pyenv/versions/anaconda3-5.1.0/lib/python3.6/site-packages/xgboost/core.py:587: FutureWarning: Series.base is deprecated and will be removed in a future version\n",
      "  if getattr(data, 'base', None) is not None and \\\n",
      "/Users/takigawa/.pyenv/versions/anaconda3-5.1.0/lib/python3.6/site-packages/xgboost/core.py:587: FutureWarning: Series.base is deprecated and will be removed in a future version\n",
      "  if getattr(data, 'base', None) is not None and \\\n",
      "/Users/takigawa/.pyenv/versions/anaconda3-5.1.0/lib/python3.6/site-packages/xgboost/core.py:587: FutureWarning: Series.base is deprecated and will be removed in a future version\n",
      "  if getattr(data, 'base', None) is not None and \\\n",
      "/Users/takigawa/.pyenv/versions/anaconda3-5.1.0/lib/python3.6/site-packages/xgboost/core.py:587: FutureWarning: Series.base is deprecated and will be removed in a future version\n",
      "  if getattr(data, 'base', None) is not None and \\\n",
      "/Users/takigawa/.pyenv/versions/anaconda3-5.1.0/lib/python3.6/site-packages/xgboost/core.py:587: FutureWarning: Series.base is deprecated and will be removed in a future version\n",
      "  if getattr(data, 'base', None) is not None and \\\n",
      "/Users/takigawa/.pyenv/versions/anaconda3-5.1.0/lib/python3.6/site-packages/xgboost/core.py:587: FutureWarning: Series.base is deprecated and will be removed in a future version\n",
      "  if getattr(data, 'base', None) is not None and \\\n",
      "/Users/takigawa/.pyenv/versions/anaconda3-5.1.0/lib/python3.6/site-packages/xgboost/core.py:587: FutureWarning: Series.base is deprecated and will be removed in a future version\n",
      "  if getattr(data, 'base', None) is not None and \\\n",
      "/Users/takigawa/.pyenv/versions/anaconda3-5.1.0/lib/python3.6/site-packages/xgboost/core.py:587: FutureWarning: Series.base is deprecated and will be removed in a future version\n",
      "  if getattr(data, 'base', None) is not None and \\\n",
      "/Users/takigawa/.pyenv/versions/anaconda3-5.1.0/lib/python3.6/site-packages/xgboost/core.py:587: FutureWarning: Series.base is deprecated and will be removed in a future version\n",
      "  if getattr(data, 'base', None) is not None and \\\n",
      "/Users/takigawa/.pyenv/versions/anaconda3-5.1.0/lib/python3.6/site-packages/xgboost/core.py:587: FutureWarning: Series.base is deprecated and will be removed in a future version\n",
      "  if getattr(data, 'base', None) is not None and \\\n",
      "/Users/takigawa/.pyenv/versions/anaconda3-5.1.0/lib/python3.6/site-packages/xgboost/core.py:587: FutureWarning: Series.base is deprecated and will be removed in a future version\n",
      "  if getattr(data, 'base', None) is not None and \\\n",
      "/Users/takigawa/.pyenv/versions/anaconda3-5.1.0/lib/python3.6/site-packages/xgboost/core.py:587: FutureWarning: Series.base is deprecated and will be removed in a future version\n",
      "  if getattr(data, 'base', None) is not None and \\\n",
      "/Users/takigawa/.pyenv/versions/anaconda3-5.1.0/lib/python3.6/site-packages/xgboost/core.py:587: FutureWarning: Series.base is deprecated and will be removed in a future version\n",
      "  if getattr(data, 'base', None) is not None and \\\n",
      "/Users/takigawa/.pyenv/versions/anaconda3-5.1.0/lib/python3.6/site-packages/xgboost/core.py:587: FutureWarning: Series.base is deprecated and will be removed in a future version\n",
      "  if getattr(data, 'base', None) is not None and \\\n",
      "/Users/takigawa/.pyenv/versions/anaconda3-5.1.0/lib/python3.6/site-packages/xgboost/core.py:587: FutureWarning: Series.base is deprecated and will be removed in a future version\n",
      "  if getattr(data, 'base', None) is not None and \\\n",
      "/Users/takigawa/.pyenv/versions/anaconda3-5.1.0/lib/python3.6/site-packages/xgboost/core.py:587: FutureWarning: Series.base is deprecated and will be removed in a future version\n",
      "  if getattr(data, 'base', None) is not None and \\\n",
      "/Users/takigawa/.pyenv/versions/anaconda3-5.1.0/lib/python3.6/site-packages/xgboost/core.py:587: FutureWarning: Series.base is deprecated and will be removed in a future version\n",
      "  if getattr(data, 'base', None) is not None and \\\n",
      "/Users/takigawa/.pyenv/versions/anaconda3-5.1.0/lib/python3.6/site-packages/xgboost/core.py:587: FutureWarning: Series.base is deprecated and will be removed in a future version\n",
      "  if getattr(data, 'base', None) is not None and \\\n"
     ]
    },
    {
     "name": "stderr",
     "output_type": "stream",
     "text": [
      "/Users/takigawa/.pyenv/versions/anaconda3-5.1.0/lib/python3.6/site-packages/xgboost/core.py:587: FutureWarning: Series.base is deprecated and will be removed in a future version\n",
      "  if getattr(data, 'base', None) is not None and \\\n",
      "/Users/takigawa/.pyenv/versions/anaconda3-5.1.0/lib/python3.6/site-packages/xgboost/core.py:587: FutureWarning: Series.base is deprecated and will be removed in a future version\n",
      "  if getattr(data, 'base', None) is not None and \\\n",
      "/Users/takigawa/.pyenv/versions/anaconda3-5.1.0/lib/python3.6/site-packages/xgboost/core.py:587: FutureWarning: Series.base is deprecated and will be removed in a future version\n",
      "  if getattr(data, 'base', None) is not None and \\\n",
      "/Users/takigawa/.pyenv/versions/anaconda3-5.1.0/lib/python3.6/site-packages/xgboost/core.py:587: FutureWarning: Series.base is deprecated and will be removed in a future version\n",
      "  if getattr(data, 'base', None) is not None and \\\n",
      "/Users/takigawa/.pyenv/versions/anaconda3-5.1.0/lib/python3.6/site-packages/xgboost/core.py:587: FutureWarning: Series.base is deprecated and will be removed in a future version\n",
      "  if getattr(data, 'base', None) is not None and \\\n",
      "/Users/takigawa/.pyenv/versions/anaconda3-5.1.0/lib/python3.6/site-packages/xgboost/core.py:587: FutureWarning: Series.base is deprecated and will be removed in a future version\n",
      "  if getattr(data, 'base', None) is not None and \\\n",
      "/Users/takigawa/.pyenv/versions/anaconda3-5.1.0/lib/python3.6/site-packages/xgboost/core.py:587: FutureWarning: Series.base is deprecated and will be removed in a future version\n",
      "  if getattr(data, 'base', None) is not None and \\\n",
      "/Users/takigawa/.pyenv/versions/anaconda3-5.1.0/lib/python3.6/site-packages/xgboost/core.py:587: FutureWarning: Series.base is deprecated and will be removed in a future version\n",
      "  if getattr(data, 'base', None) is not None and \\\n",
      "/Users/takigawa/.pyenv/versions/anaconda3-5.1.0/lib/python3.6/site-packages/xgboost/core.py:587: FutureWarning: Series.base is deprecated and will be removed in a future version\n",
      "  if getattr(data, 'base', None) is not None and \\\n",
      "/Users/takigawa/.pyenv/versions/anaconda3-5.1.0/lib/python3.6/site-packages/xgboost/core.py:587: FutureWarning: Series.base is deprecated and will be removed in a future version\n",
      "  if getattr(data, 'base', None) is not None and \\\n",
      "/Users/takigawa/.pyenv/versions/anaconda3-5.1.0/lib/python3.6/site-packages/xgboost/core.py:587: FutureWarning: Series.base is deprecated and will be removed in a future version\n",
      "  if getattr(data, 'base', None) is not None and \\\n",
      "/Users/takigawa/.pyenv/versions/anaconda3-5.1.0/lib/python3.6/site-packages/xgboost/core.py:587: FutureWarning: Series.base is deprecated and will be removed in a future version\n",
      "  if getattr(data, 'base', None) is not None and \\\n",
      "/Users/takigawa/.pyenv/versions/anaconda3-5.1.0/lib/python3.6/site-packages/xgboost/core.py:587: FutureWarning: Series.base is deprecated and will be removed in a future version\n",
      "  if getattr(data, 'base', None) is not None and \\\n",
      "/Users/takigawa/.pyenv/versions/anaconda3-5.1.0/lib/python3.6/site-packages/xgboost/core.py:587: FutureWarning: Series.base is deprecated and will be removed in a future version\n",
      "  if getattr(data, 'base', None) is not None and \\\n",
      "/Users/takigawa/.pyenv/versions/anaconda3-5.1.0/lib/python3.6/site-packages/xgboost/core.py:588: FutureWarning: Series.base is deprecated and will be removed in a future version\n",
      "  data.base is not None and isinstance(data, np.ndarray) \\\n"
     ]
    },
    {
     "name": "stdout",
     "output_type": "stream",
     "text": [
      "3 0.9 1 0.1\n"
     ]
    }
   ],
   "source": [
    "cv_xgb.fit(co_desc.iloc[:,:-1], co_desc.iloc[:,-1])\n",
    "\n",
    "cvdepth = cv_xgb.best_params_['max_depth']\n",
    "cvsubsample = cv_xgb.best_params_['subsample']\n",
    "cvcolsample = cv_xgb.best_params_['colsample_bytree']\n",
    "cvlr = cv_xgb.best_params_['learning_rate']\n",
    "\n",
    "print(cvdepth, cvsubsample, cvcolsample, cvlr)"
   ]
  },
  {
   "cell_type": "code",
   "execution_count": 78,
   "metadata": {},
   "outputs": [
    {
     "name": "stdout",
     "output_type": "stream",
     "text": [
      "XGBRegressor(base_score=0.5, booster='gbtree', colsample_bylevel=1,\n",
      "             colsample_bytree=1, gamma=0, importance_type='gain',\n",
      "             learning_rate=0.1, max_delta_step=0, max_depth=3,\n",
      "             min_child_weight=1, missing=None, n_estimators=10, n_jobs=-1,\n",
      "             nthread=None, objective='reg:linear', random_state=929,\n",
      "             reg_alpha=0, reg_lambda=1, scale_pos_weight=1, seed=929,\n",
      "             silent=True, subsample=0.9)\n"
     ]
    }
   ],
   "source": [
    "estimator = XGBRegressor(n_estimators=ntree,\\\n",
    "                       max_depth=cvdepth,\\\n",
    "                       subsample=cvsubsample,\\\n",
    "                       colsample_bytree=cvcolsample,\\\n",
    "                       learning_rate=cvlr,\\\n",
    "                       random_state=929, seed=929, n_jobs=-1)\n",
    "print(estimator)\n",
    "\n",
    "best_xgb_codesc = estimator"
   ]
  },
  {
   "cell_type": "code",
   "execution_count": 79,
   "metadata": {},
   "outputs": [],
   "source": [
    "train_test = shuffle(co_desc, random_state=929)"
   ]
  },
  {
   "cell_type": "code",
   "execution_count": 80,
   "metadata": {},
   "outputs": [
    {
     "name": "stderr",
     "output_type": "stream",
     "text": [
      "/Users/takigawa/.pyenv/versions/anaconda3-5.1.0/lib/python3.6/site-packages/xgboost/core.py:587: FutureWarning: Series.base is deprecated and will be removed in a future version\n",
      "  if getattr(data, 'base', None) is not None and \\\n"
     ]
    },
    {
     "name": "stdout",
     "output_type": "stream",
     "text": [
      "RMSE_test: 36.759 STD_test: 0.905\n",
      "RMSE_train: 36.605 STD_train: 0.103\n",
      "Data size:(5567, 115)\n"
     ]
    }
   ],
   "source": [
    "cv = Cv_Pred_Expected(estimator=estimator,\\\n",
    "                      X=train_test.iloc[:,:-1],\\\n",
    "                      y=train_test.iloc[:,-1],\\\n",
    "                      cv=10, redc=True)\n",
    "cv.cross_validation()"
   ]
  },
  {
   "cell_type": "code",
   "execution_count": 81,
   "metadata": {},
   "outputs": [],
   "source": [
    "xgb_cvbest = cv"
   ]
  },
  {
   "cell_type": "code",
   "execution_count": 82,
   "metadata": {},
   "outputs": [
    {
     "name": "stdout",
     "output_type": "stream",
     "text": [
      "(5010, 115) (5010,)\n"
     ]
    },
    {
     "name": "stderr",
     "output_type": "stream",
     "text": [
      "/Users/takigawa/.pyenv/versions/anaconda3-5.1.0/lib/python3.6/site-packages/xgboost/core.py:587: FutureWarning: Series.base is deprecated and will be removed in a future version\n",
      "  if getattr(data, 'base', None) is not None and \\\n"
     ]
    },
    {
     "name": "stdout",
     "output_type": "stream",
     "text": [
      "RMSE(Train): 36.665\n",
      "RMSE(Test): 36.831\n"
     ]
    }
   ],
   "source": [
    "cv.plot_pred_expected(save=True,\\\n",
    "                      title='',\\\n",
    "                      os_title='',\\\n",
    "                      filename='output/co_gb_',\\\n",
    "                      titlesize=11,\n",
    "                      close=True)"
   ]
  },
  {
   "cell_type": "code",
   "execution_count": null,
   "metadata": {},
   "outputs": [],
   "source": [
    "plt.figure(figsize=(6, 4), dpi=300)\n",
    "xgb_cvbest.importance.mean(axis=1).sort_values(ascending=False).iloc[:20][::-1].plot(kind='barh',color='b')\n",
    "plt.savefig('output/fig6_co.png', format='png',bbox_inches='tight', dpi=300)\n",
    "plt.savefig('output/fig6_co.pdf', format='pdf',bbox_inches='tight', dpi=300)\n",
    "plt.close()"
   ]
  },
  {
   "cell_type": "markdown",
   "metadata": {},
   "source": [
    "## Fig.2 (C)"
   ]
  },
  {
   "cell_type": "code",
   "execution_count": null,
   "metadata": {
    "scrolled": false
   },
   "outputs": [],
   "source": [
    "common = []\n",
    "hoge = co.loc[:,'Pt':'Pd']\n",
    "count = 0\n",
    "for key, row in hoge.iterrows():\n",
    "    for i, v in hoge.iloc[count + 1:].iterrows():\n",
    "        temp = (np.array(row) > 1e-5)\n",
    "        temp2 = (np.array(v) > 1e-5)\n",
    "        val = (temp * temp2).sum()\n",
    "        common.append(val)    \n",
    "    count = count + 1\n",
    "\n",
    "freq = dict(Counter(common))\n",
    "plt.figure(figsize=(1.5, 3))\n",
    "plt.bar(freq.keys(), freq.values())\n",
    "plt.xlabel('# Common Elements')\n",
    "plt.ylabel('Frequency (log)')\n",
    "plt.yscale('log')\n",
    "plt.savefig('output/fig2_co.png',format='png', bbox_inches='tight',dpi=300)\n",
    "plt.savefig('output/fig2_co.pdf',format='pdf', bbox_inches='tight',dpi=300)\n",
    "plt.close()"
   ]
  },
  {
   "cell_type": "markdown",
   "metadata": {},
   "source": [
    "## Table 4 (co)"
   ]
  },
  {
   "cell_type": "markdown",
   "metadata": {},
   "source": [
    "### co_nocond"
   ]
  },
  {
   "cell_type": "code",
   "execution_count": null,
   "metadata": {},
   "outputs": [],
   "source": [
    "co_nocond = pd.concat([co.loc[:,:'Pd'], pro, co.iloc[:,-1]],axis=1)"
   ]
  },
  {
   "cell_type": "code",
   "execution_count": null,
   "metadata": {},
   "outputs": [],
   "source": [
    "rmse_co_nocond = {}\n",
    "data = shuffle(co_nocond, random_state=10)\n",
    "target_data = co_nocond"
   ]
  },
  {
   "cell_type": "code",
   "execution_count": null,
   "metadata": {},
   "outputs": [],
   "source": [
    "# Lasso\n",
    "cv_lasso.fit(target_data.iloc[:,:-1], target_data.iloc[:,-1])\n",
    "cvalpha = cv_lasso.best_params_['alpha']\n",
    "best_lasso = Lasso(random_state=929, alpha=cvalpha)\n",
    "\n",
    "# Ridge\n",
    "cv_ridge.fit(target_data.iloc[:,:-1], target_data.iloc[:,-1])\n",
    "cvalpha = cv_ridge.best_params_['alpha']\n",
    "best_ridge = Ridge(random_state=929, alpha=cvalpha)\n",
    "\n",
    "# KRR\n",
    "cv_krr.fit(target_data.iloc[:,:-1], target_data.iloc[:,-1])\n",
    "cvalpha = cv_krr.best_params_['alpha']\n",
    "cvgamma = cv_krr.best_params_['gamma']\n",
    "best_krr = KernelRidge(kernel='rbf', alpha=cvalpha, gamma=cvgamma)\n",
    "\n",
    "# SVR\n",
    "cv_svr.fit(target_data.iloc[:,:-1], target_data.iloc[:,-1])\n",
    "cvC = cv_svr.best_params_['C']\n",
    "cvgamma = cv_svr.best_params_['gamma']\n",
    "cvepsilon = cv_svr.best_params_['epsilon']\n",
    "best_svr = SVR(kernel='rbf', epsilon=cvepsilon, C=cvC, gamma=cvgamma)\n",
    "\n",
    "# RFR\n",
    "best_rfr = RandomForestRegressor(n_estimators=ntree, random_state=929, n_jobs=-1)\n",
    "\n",
    "# ETR\n",
    "best_etr = ExtraTreesRegressor(n_estimators=ntree, random_state=929, n_jobs=-1)\n",
    "\n",
    "# XGB\n",
    "cv_xgb.fit(target_data.iloc[:,:-1], target_data.iloc[:,-1])\n",
    "cvdepth = cv_xgb.best_params_['max_depth']\n",
    "cvsubsample = cv_xgb.best_params_['subsample']\n",
    "cvcolsample = cv_xgb.best_params_['colsample_bytree']\n",
    "cvlr = cv_xgb.best_params_['learning_rate']\n",
    "best_xgb = XGBRegressor(n_estimators=ntree,\\\n",
    "                       max_depth=cvdepth,\\\n",
    "                       subsample=cvsubsample,\\\n",
    "                       colsample_bytree=cvcolsample,\\\n",
    "                       learning_rate=cvlr,\\\n",
    "                       random_state=929, seed=929, n_jobs=-1)"
   ]
  },
  {
   "cell_type": "code",
   "execution_count": null,
   "metadata": {},
   "outputs": [],
   "source": [
    "model = best_lasso\n",
    "print(model)\n",
    "rmse_co_nocond['Lasso'] = crossvalid(data.iloc[:,:-1], data.iloc[:,-1], model, 10, 'Lasso')\n",
    "\n",
    "model = best_ridge\n",
    "print(model)\n",
    "rmse_co_nocond['Ridge'] = crossvalid(data.iloc[:,:-1], data.iloc[:,-1], model, 10,  'Ridge')\n",
    "\n",
    "model = best_krr\n",
    "print(model)\n",
    "rmse_co_nocond['KRR'] = crossvalid(data.iloc[:,:-1], data.iloc[:,-1], model, 10, 'KRR')\n",
    "\n",
    "model = best_svr\n",
    "print(model)\n",
    "rmse_co_nocond['SVR'] = crossvalid(data.iloc[:,:-1], data.iloc[:,-1], model, 10, 'SVR')\n",
    "\n",
    "model = best_rfr\n",
    "print(model)\n",
    "rmse_co_nocond['RFR'] = crossvalid(data.iloc[:,:-1], data.iloc[:,-1], model, 10, 'RFR')\n",
    "\n",
    "model = best_etr\n",
    "print(model)\n",
    "rmse_co_nocond['ETR'] = crossvalid(data.iloc[:,:-1], data.iloc[:,-1], model, 10, 'ETR')\n",
    "\n",
    "model = best_xgb\n",
    "print(model)\n",
    "rmse_co_nocond['XGB'] = crossvalid(data.iloc[:,:-1], data.iloc[:,-1], model, 10, 'XGB')"
   ]
  },
  {
   "cell_type": "markdown",
   "metadata": {},
   "source": [
    "### co"
   ]
  },
  {
   "cell_type": "code",
   "execution_count": null,
   "metadata": {},
   "outputs": [],
   "source": [
    "rmse_co = {}\n",
    "data = shuffle(co, random_state=10)\n",
    "target_data = co"
   ]
  },
  {
   "cell_type": "code",
   "execution_count": null,
   "metadata": {},
   "outputs": [],
   "source": [
    "# Lasso\n",
    "cv_lasso.fit(target_data.iloc[:,:-1], target_data.iloc[:,-1])\n",
    "cvalpha = cv_lasso.best_params_['alpha']\n",
    "best_lasso = Lasso(random_state=929, alpha=cvalpha)\n",
    "\n",
    "# Ridge\n",
    "cv_ridge.fit(target_data.iloc[:,:-1], target_data.iloc[:,-1])\n",
    "cvalpha = cv_ridge.best_params_['alpha']\n",
    "best_ridge = Ridge(random_state=929, alpha=cvalpha)\n",
    "\n",
    "# KRR\n",
    "cv_krr.fit(target_data.iloc[:,:-1], target_data.iloc[:,-1])\n",
    "cvalpha = cv_krr.best_params_['alpha']\n",
    "cvgamma = cv_krr.best_params_['gamma']\n",
    "best_krr = KernelRidge(kernel='rbf', alpha=cvalpha, gamma=cvgamma)\n",
    "\n",
    "# SVR\n",
    "cv_svr.fit(target_data.iloc[:,:-1], target_data.iloc[:,-1])\n",
    "cvC = cv_svr.best_params_['C']\n",
    "cvgamma = cv_svr.best_params_['gamma']\n",
    "cvepsilon = cv_svr.best_params_['epsilon']\n",
    "best_svr = SVR(kernel='rbf', epsilon=cvepsilon, C=cvC, gamma=cvgamma)\n",
    "\n",
    "# RFR\n",
    "best_rfr = RandomForestRegressor(n_estimators=ntree, random_state=929, n_jobs=-1)\n",
    "\n",
    "# ETR\n",
    "best_etr = ExtraTreesRegressor(n_estimators=ntree, random_state=929, n_jobs=-1)\n",
    "\n",
    "# XGB\n",
    "cv_xgb.fit(target_data.iloc[:,:-1], target_data.iloc[:,-1])\n",
    "cvdepth = cv_xgb.best_params_['max_depth']\n",
    "cvsubsample = cv_xgb.best_params_['subsample']\n",
    "cvcolsample = cv_xgb.best_params_['colsample_bytree']\n",
    "cvlr = cv_xgb.best_params_['learning_rate']\n",
    "best_xgb = XGBRegressor(n_estimators=ntree,\\\n",
    "                       max_depth=cvdepth,\\\n",
    "                       subsample=cvsubsample,\\\n",
    "                       colsample_bytree=cvcolsample,\\\n",
    "                       learning_rate=cvlr,\\\n",
    "                       random_state=929, seed=929, n_jobs=-1)"
   ]
  },
  {
   "cell_type": "code",
   "execution_count": null,
   "metadata": {},
   "outputs": [],
   "source": [
    "model = best_lasso\n",
    "print(model)\n",
    "rmse_co['Lasso'] = crossvalid(data.iloc[:,:-1], data.iloc[:,-1], model, 10, 'Lasso')\n",
    "\n",
    "model = best_ridge\n",
    "print(model)\n",
    "rmse_co['Ridge'] = crossvalid(data.iloc[:,:-1], data.iloc[:,-1], model, 10, 'Ridge')\n",
    "\n",
    "model = best_krr\n",
    "print(model)\n",
    "rmse_co['KRR'] = crossvalid(data.iloc[:,:-1], data.iloc[:,-1], model, 10, 'KRR')\n",
    "\n",
    "model = best_svr\n",
    "print(model)\n",
    "rmse_co['SVR'] = crossvalid(data.iloc[:,:-1], data.iloc[:,-1], model, 10, 'SVR')\n",
    "\n",
    "model = best_rfr\n",
    "print(model)\n",
    "rmse_co['RFR'] = crossvalid(data.iloc[:,:-1], data.iloc[:,-1], model, 10, 'RFR')\n",
    "\n",
    "model = best_etr\n",
    "print(model)\n",
    "rmse_co['ETR'] = crossvalid(data.iloc[:,:-1], data.iloc[:,-1], model, 10, 'ETR')\n",
    "\n",
    "model = best_xgb\n",
    "print(model)\n",
    "rmse_co['XGB'] = crossvalid(data.iloc[:,:-1], data.iloc[:,-1], model, 10, 'XGB')"
   ]
  },
  {
   "cell_type": "markdown",
   "metadata": {},
   "source": [
    "### co_desc"
   ]
  },
  {
   "cell_type": "code",
   "execution_count": null,
   "metadata": {},
   "outputs": [],
   "source": [
    "rmse_co_desc = {}\n",
    "data = shuffle(co_desc, random_state=929)\n",
    "target_data = co_desc"
   ]
  },
  {
   "cell_type": "code",
   "execution_count": null,
   "metadata": {},
   "outputs": [],
   "source": [
    "# Lasso\n",
    "cv_lasso.fit(target_data.iloc[:,:-1], target_data.iloc[:,-1])\n",
    "cvalpha = cv_lasso.best_params_['alpha']\n",
    "best_lasso = Lasso(random_state=929, alpha=cvalpha)\n",
    "\n",
    "# Ridge\n",
    "cv_ridge.fit(target_data.iloc[:,:-1], target_data.iloc[:,-1])\n",
    "cvalpha = cv_ridge.best_params_['alpha']\n",
    "best_ridge = Ridge(random_state=929, alpha=cvalpha)\n",
    "\n",
    "# KRR\n",
    "cv_krr.fit(target_data.iloc[:,:-1], target_data.iloc[:,-1])\n",
    "cvalpha = cv_krr.best_params_['alpha']\n",
    "cvgamma = cv_krr.best_params_['gamma']\n",
    "best_krr = KernelRidge(kernel='rbf', alpha=cvalpha, gamma=cvgamma)\n",
    "\n",
    "# SVR\n",
    "cv_svr.fit(target_data.iloc[:,:-1], target_data.iloc[:,-1])\n",
    "cvC = cv_svr.best_params_['C']\n",
    "cvgamma = cv_svr.best_params_['gamma']\n",
    "cvepsilon = cv_svr.best_params_['epsilon']\n",
    "best_svr = SVR(kernel='rbf', epsilon=cvepsilon, C=cvC, gamma=cvgamma)\n",
    "\n",
    "# RFR\n",
    "best_rfr = RandomForestRegressor(n_estimators=ntree, random_state=929, n_jobs=-1)\n",
    "\n",
    "# ETR\n",
    "best_etr = ExtraTreesRegressor(n_estimators=ntree, random_state=929, n_jobs=-1)"
   ]
  },
  {
   "cell_type": "code",
   "execution_count": null,
   "metadata": {},
   "outputs": [],
   "source": [
    "model = best_lasso\n",
    "print(model)\n",
    "rmse_co_desc['Lasso'] = crossvalid(data.iloc[:,:-1], data.iloc[:,-1], model, 10, 'Lasso')\n",
    "\n",
    "model = best_ridge\n",
    "print(model)\n",
    "rmse_co_desc['Ridge'] = crossvalid(data.iloc[:,:-1], data.iloc[:,-1], model, 10, 'Ridge')\n",
    "\n",
    "model = best_krr\n",
    "print(model)\n",
    "rmse_co_desc['KRR'] = crossvalid(data.iloc[:,:-1], data.iloc[:,-1], model, 10, 'KRR')\n",
    "\n",
    "model = best_svr\n",
    "print(model)\n",
    "rmse_co_desc['SVR'] = crossvalid(data.iloc[:,:-1], data.iloc[:,-1], model, 10, 'SVR')\n",
    "\n",
    "model = best_rfr\n",
    "print(model)\n",
    "rmse_co_desc['RFR'] = crossvalid(data.iloc[:,:-1], data.iloc[:,-1], model, 10, 'RFR')\n",
    "\n",
    "model = best_etr\n",
    "print(model)\n",
    "rmse_co_desc['ETR'] = crossvalid(data.iloc[:,:-1], data.iloc[:,-1], model, 10, 'ETR')\n",
    "\n",
    "model = best_xgb_codesc\n",
    "print(model)\n",
    "rmse_co_desc['XGB'] = crossvalid(data.iloc[:,:-1], data.iloc[:,-1], model, 10, 'XGB')"
   ]
  },
  {
   "cell_type": "markdown",
   "metadata": {},
   "source": [
    "### Table 4"
   ]
  },
  {
   "cell_type": "code",
   "execution_count": null,
   "metadata": {},
   "outputs": [],
   "source": [
    "pd.options.display.precision = 2\n",
    "\n",
    "print(pd.DataFrame(rmse_co_nocond))\n",
    "\n",
    "print(pd.DataFrame(rmse_co))\n",
    "\n",
    "print(pd.DataFrame(rmse_co_desc))"
   ]
  }
 ],
 "metadata": {
  "kernelspec": {
   "display_name": "Python 3",
   "language": "python",
   "name": "python3"
  },
  "language_info": {
   "codemirror_mode": {
    "name": "ipython",
    "version": 3
   },
   "file_extension": ".py",
   "mimetype": "text/x-python",
   "name": "python",
   "nbconvert_exporter": "python",
   "pygments_lexer": "ipython3",
   "version": "3.6.4"
  }
 },
 "nbformat": 4,
 "nbformat_minor": 2
}
